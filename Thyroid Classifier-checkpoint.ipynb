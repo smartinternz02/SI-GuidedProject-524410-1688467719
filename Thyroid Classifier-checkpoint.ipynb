{
 "cells": [
  {
   "cell_type": "markdown",
   "id": "1e7cf2c9",
   "metadata": {},
   "source": [
    "# THYROID CLASSIFICATION"
   ]
  },
  {
   "cell_type": "markdown",
   "id": "1670fbb0",
   "metadata": {},
   "source": [
    "## Importing the Libraries"
   ]
  },
  {
   "cell_type": "code",
   "execution_count": 69,
   "id": "518d9b6d",
   "metadata": {},
   "outputs": [],
   "source": [
    "import pandas as pd\n",
    "import numpy as np\n",
    "import matplotlib.pyplot as plt\n",
    "%matplotlib inline\n",
    "import seaborn as sns\n",
    "from sklearn.model_selection import train_test_split\n",
    "from imblearn.over_sampling import SMOTE\n",
    "from sklearn.preprocessing import StandardScaler\n",
    "from sklearn.preprocessing import LabelEncoder\n",
    "from sklearn.inspection import permutation_importance\n",
    "from sklearn.metrics import classification_report,accuracy_score\n",
    "from sklearn.ensemble import RandomForestClassifier\n",
    "from xgboost import XGBClassifier\n",
    "from sklearn.svm import SVC\n",
    "from sklearn.tree import DecisionTreeClassifier\n",
    "from sklearn.neighbors import KNeighborsClassifier\n",
    "from sklearn.naive_bayes import GaussianNB\n",
    "from sklearn.model_selection import GridSearchCV\n",
    "from sklearn.model_selection import cross_val_score\n",
    "import pickle"
   ]
  },
  {
   "cell_type": "markdown",
   "id": "ec0e14ee",
   "metadata": {},
   "source": [
    "## Reading the Dataset"
   ]
  },
  {
   "cell_type": "code",
   "execution_count": 70,
   "id": "61abfbf7",
   "metadata": {},
   "outputs": [],
   "source": [
    "data = pd.read_csv('thyroid_data.csv')"
   ]
  },
  {
   "cell_type": "markdown",
   "id": "34fc135f",
   "metadata": {},
   "source": [
    "## Analysing the Data"
   ]
  },
  {
   "cell_type": "code",
   "execution_count": 71,
   "id": "240752f7",
   "metadata": {},
   "outputs": [
    {
     "data": {
      "text/html": [
       "<div>\n",
       "<style scoped>\n",
       "    .dataframe tbody tr th:only-of-type {\n",
       "        vertical-align: middle;\n",
       "    }\n",
       "\n",
       "    .dataframe tbody tr th {\n",
       "        vertical-align: top;\n",
       "    }\n",
       "\n",
       "    .dataframe thead th {\n",
       "        text-align: right;\n",
       "    }\n",
       "</style>\n",
       "<table border=\"1\" class=\"dataframe\">\n",
       "  <thead>\n",
       "    <tr style=\"text-align: right;\">\n",
       "      <th></th>\n",
       "      <th>S.no</th>\n",
       "      <th>Age</th>\n",
       "      <th>Sex</th>\n",
       "      <th>On Thyroxine</th>\n",
       "      <th>Query on Thyroxine</th>\n",
       "      <th>On Antithyroid Medication</th>\n",
       "      <th>Sick</th>\n",
       "      <th>Pregnant</th>\n",
       "      <th>Thyroid Surgery</th>\n",
       "      <th>I131 Treatment</th>\n",
       "      <th>...</th>\n",
       "      <th>TSH</th>\n",
       "      <th>T3 Measured</th>\n",
       "      <th>T3</th>\n",
       "      <th>TT4 Measured</th>\n",
       "      <th>TT4</th>\n",
       "      <th>T4U Measured</th>\n",
       "      <th>T4U</th>\n",
       "      <th>FTI Measured</th>\n",
       "      <th>FTI</th>\n",
       "      <th>Category</th>\n",
       "    </tr>\n",
       "  </thead>\n",
       "  <tbody>\n",
       "    <tr>\n",
       "      <th>0</th>\n",
       "      <td>0</td>\n",
       "      <td>41.0</td>\n",
       "      <td>F</td>\n",
       "      <td>f</td>\n",
       "      <td>f</td>\n",
       "      <td>f</td>\n",
       "      <td>f</td>\n",
       "      <td>f</td>\n",
       "      <td>f</td>\n",
       "      <td>f</td>\n",
       "      <td>...</td>\n",
       "      <td>1.30</td>\n",
       "      <td>t</td>\n",
       "      <td>2.5</td>\n",
       "      <td>t</td>\n",
       "      <td>125.0</td>\n",
       "      <td>t</td>\n",
       "      <td>1.14</td>\n",
       "      <td>t</td>\n",
       "      <td>109.0</td>\n",
       "      <td>negative</td>\n",
       "    </tr>\n",
       "    <tr>\n",
       "      <th>1</th>\n",
       "      <td>1</td>\n",
       "      <td>23.0</td>\n",
       "      <td>F</td>\n",
       "      <td>f</td>\n",
       "      <td>f</td>\n",
       "      <td>f</td>\n",
       "      <td>f</td>\n",
       "      <td>f</td>\n",
       "      <td>f</td>\n",
       "      <td>f</td>\n",
       "      <td>...</td>\n",
       "      <td>4.10</td>\n",
       "      <td>t</td>\n",
       "      <td>2.0</td>\n",
       "      <td>t</td>\n",
       "      <td>102.0</td>\n",
       "      <td>f</td>\n",
       "      <td>NaN</td>\n",
       "      <td>f</td>\n",
       "      <td>NaN</td>\n",
       "      <td>negative</td>\n",
       "    </tr>\n",
       "    <tr>\n",
       "      <th>2</th>\n",
       "      <td>2</td>\n",
       "      <td>46.0</td>\n",
       "      <td>M</td>\n",
       "      <td>f</td>\n",
       "      <td>f</td>\n",
       "      <td>f</td>\n",
       "      <td>f</td>\n",
       "      <td>f</td>\n",
       "      <td>f</td>\n",
       "      <td>f</td>\n",
       "      <td>...</td>\n",
       "      <td>0.98</td>\n",
       "      <td>f</td>\n",
       "      <td>NaN</td>\n",
       "      <td>t</td>\n",
       "      <td>109.0</td>\n",
       "      <td>t</td>\n",
       "      <td>0.91</td>\n",
       "      <td>t</td>\n",
       "      <td>120.0</td>\n",
       "      <td>negative</td>\n",
       "    </tr>\n",
       "    <tr>\n",
       "      <th>3</th>\n",
       "      <td>3</td>\n",
       "      <td>70.0</td>\n",
       "      <td>F</td>\n",
       "      <td>t</td>\n",
       "      <td>f</td>\n",
       "      <td>f</td>\n",
       "      <td>f</td>\n",
       "      <td>f</td>\n",
       "      <td>f</td>\n",
       "      <td>f</td>\n",
       "      <td>...</td>\n",
       "      <td>0.16</td>\n",
       "      <td>t</td>\n",
       "      <td>1.9</td>\n",
       "      <td>t</td>\n",
       "      <td>175.0</td>\n",
       "      <td>f</td>\n",
       "      <td>NaN</td>\n",
       "      <td>f</td>\n",
       "      <td>NaN</td>\n",
       "      <td>negative</td>\n",
       "    </tr>\n",
       "    <tr>\n",
       "      <th>4</th>\n",
       "      <td>4</td>\n",
       "      <td>70.0</td>\n",
       "      <td>F</td>\n",
       "      <td>f</td>\n",
       "      <td>f</td>\n",
       "      <td>f</td>\n",
       "      <td>f</td>\n",
       "      <td>f</td>\n",
       "      <td>f</td>\n",
       "      <td>f</td>\n",
       "      <td>...</td>\n",
       "      <td>0.72</td>\n",
       "      <td>t</td>\n",
       "      <td>1.2</td>\n",
       "      <td>t</td>\n",
       "      <td>61.0</td>\n",
       "      <td>t</td>\n",
       "      <td>0.87</td>\n",
       "      <td>t</td>\n",
       "      <td>70.0</td>\n",
       "      <td>negative</td>\n",
       "    </tr>\n",
       "  </tbody>\n",
       "</table>\n",
       "<p>5 rows × 28 columns</p>\n",
       "</div>"
      ],
      "text/plain": [
       "   S.no   Age Sex On Thyroxine Query on Thyroxine On Antithyroid Medication  \\\n",
       "0     0  41.0   F            f                  f                         f   \n",
       "1     1  23.0   F            f                  f                         f   \n",
       "2     2  46.0   M            f                  f                         f   \n",
       "3     3  70.0   F            t                  f                         f   \n",
       "4     4  70.0   F            f                  f                         f   \n",
       "\n",
       "  Sick Pregnant Thyroid Surgery I131 Treatment  ...   TSH T3 Measured   T3  \\\n",
       "0    f        f               f              f  ...  1.30           t  2.5   \n",
       "1    f        f               f              f  ...  4.10           t  2.0   \n",
       "2    f        f               f              f  ...  0.98           f  NaN   \n",
       "3    f        f               f              f  ...  0.16           t  1.9   \n",
       "4    f        f               f              f  ...  0.72           t  1.2   \n",
       "\n",
       "  TT4 Measured    TT4 T4U Measured   T4U FTI Measured    FTI  Category  \n",
       "0            t  125.0            t  1.14            t  109.0  negative  \n",
       "1            t  102.0            f   NaN            f    NaN  negative  \n",
       "2            t  109.0            t  0.91            t  120.0  negative  \n",
       "3            t  175.0            f   NaN            f    NaN  negative  \n",
       "4            t   61.0            t  0.87            t   70.0  negative  \n",
       "\n",
       "[5 rows x 28 columns]"
      ]
     },
     "execution_count": 71,
     "metadata": {},
     "output_type": "execute_result"
    }
   ],
   "source": [
    "data.head()"
   ]
  },
  {
   "cell_type": "code",
   "execution_count": 72,
   "id": "5762645c",
   "metadata": {},
   "outputs": [
    {
     "data": {
      "text/html": [
       "<div>\n",
       "<style scoped>\n",
       "    .dataframe tbody tr th:only-of-type {\n",
       "        vertical-align: middle;\n",
       "    }\n",
       "\n",
       "    .dataframe tbody tr th {\n",
       "        vertical-align: top;\n",
       "    }\n",
       "\n",
       "    .dataframe thead th {\n",
       "        text-align: right;\n",
       "    }\n",
       "</style>\n",
       "<table border=\"1\" class=\"dataframe\">\n",
       "  <thead>\n",
       "    <tr style=\"text-align: right;\">\n",
       "      <th></th>\n",
       "      <th>S.no</th>\n",
       "      <th>Age</th>\n",
       "      <th>Sex</th>\n",
       "      <th>On Thyroxine</th>\n",
       "      <th>Query on Thyroxine</th>\n",
       "      <th>On Antithyroid Medication</th>\n",
       "      <th>Sick</th>\n",
       "      <th>Pregnant</th>\n",
       "      <th>Thyroid Surgery</th>\n",
       "      <th>I131 Treatment</th>\n",
       "      <th>...</th>\n",
       "      <th>TSH</th>\n",
       "      <th>T3 Measured</th>\n",
       "      <th>T3</th>\n",
       "      <th>TT4 Measured</th>\n",
       "      <th>TT4</th>\n",
       "      <th>T4U Measured</th>\n",
       "      <th>T4U</th>\n",
       "      <th>FTI Measured</th>\n",
       "      <th>FTI</th>\n",
       "      <th>Category</th>\n",
       "    </tr>\n",
       "  </thead>\n",
       "  <tbody>\n",
       "    <tr>\n",
       "      <th>3215</th>\n",
       "      <td>2774</td>\n",
       "      <td>82.0</td>\n",
       "      <td>M</td>\n",
       "      <td>f</td>\n",
       "      <td>f</td>\n",
       "      <td>f</td>\n",
       "      <td>f</td>\n",
       "      <td>f</td>\n",
       "      <td>f</td>\n",
       "      <td>f</td>\n",
       "      <td>...</td>\n",
       "      <td>2.200</td>\n",
       "      <td>t</td>\n",
       "      <td>1.0</td>\n",
       "      <td>t</td>\n",
       "      <td>68.0</td>\n",
       "      <td>t</td>\n",
       "      <td>0.77</td>\n",
       "      <td>t</td>\n",
       "      <td>88.0</td>\n",
       "      <td>sick</td>\n",
       "    </tr>\n",
       "    <tr>\n",
       "      <th>3216</th>\n",
       "      <td>2776</td>\n",
       "      <td>79.0</td>\n",
       "      <td>M</td>\n",
       "      <td>f</td>\n",
       "      <td>f</td>\n",
       "      <td>f</td>\n",
       "      <td>f</td>\n",
       "      <td>f</td>\n",
       "      <td>f</td>\n",
       "      <td>f</td>\n",
       "      <td>...</td>\n",
       "      <td>1.100</td>\n",
       "      <td>t</td>\n",
       "      <td>0.7</td>\n",
       "      <td>t</td>\n",
       "      <td>116.0</td>\n",
       "      <td>t</td>\n",
       "      <td>0.85</td>\n",
       "      <td>t</td>\n",
       "      <td>137.0</td>\n",
       "      <td>sick</td>\n",
       "    </tr>\n",
       "    <tr>\n",
       "      <th>3217</th>\n",
       "      <td>2782</td>\n",
       "      <td>50.0</td>\n",
       "      <td>F</td>\n",
       "      <td>f</td>\n",
       "      <td>f</td>\n",
       "      <td>f</td>\n",
       "      <td>f</td>\n",
       "      <td>f</td>\n",
       "      <td>f</td>\n",
       "      <td>f</td>\n",
       "      <td>...</td>\n",
       "      <td>4.800</td>\n",
       "      <td>t</td>\n",
       "      <td>0.6</td>\n",
       "      <td>t</td>\n",
       "      <td>98.0</td>\n",
       "      <td>t</td>\n",
       "      <td>0.80</td>\n",
       "      <td>t</td>\n",
       "      <td>122.0</td>\n",
       "      <td>sick</td>\n",
       "    </tr>\n",
       "    <tr>\n",
       "      <th>3218</th>\n",
       "      <td>2786</td>\n",
       "      <td>73.0</td>\n",
       "      <td>NaN</td>\n",
       "      <td>f</td>\n",
       "      <td>f</td>\n",
       "      <td>f</td>\n",
       "      <td>f</td>\n",
       "      <td>f</td>\n",
       "      <td>f</td>\n",
       "      <td>f</td>\n",
       "      <td>...</td>\n",
       "      <td>0.015</td>\n",
       "      <td>t</td>\n",
       "      <td>1.8</td>\n",
       "      <td>t</td>\n",
       "      <td>173.0</td>\n",
       "      <td>t</td>\n",
       "      <td>1.00</td>\n",
       "      <td>t</td>\n",
       "      <td>173.0</td>\n",
       "      <td>sick</td>\n",
       "    </tr>\n",
       "    <tr>\n",
       "      <th>3219</th>\n",
       "      <td>2796</td>\n",
       "      <td>73.0</td>\n",
       "      <td>M</td>\n",
       "      <td>f</td>\n",
       "      <td>t</td>\n",
       "      <td>f</td>\n",
       "      <td>f</td>\n",
       "      <td>f</td>\n",
       "      <td>f</td>\n",
       "      <td>f</td>\n",
       "      <td>...</td>\n",
       "      <td>NaN</td>\n",
       "      <td>t</td>\n",
       "      <td>0.7</td>\n",
       "      <td>t</td>\n",
       "      <td>63.0</td>\n",
       "      <td>t</td>\n",
       "      <td>0.88</td>\n",
       "      <td>t</td>\n",
       "      <td>72.0</td>\n",
       "      <td>sick</td>\n",
       "    </tr>\n",
       "  </tbody>\n",
       "</table>\n",
       "<p>5 rows × 28 columns</p>\n",
       "</div>"
      ],
      "text/plain": [
       "      S.no   Age  Sex On Thyroxine Query on Thyroxine  \\\n",
       "3215  2774  82.0    M            f                  f   \n",
       "3216  2776  79.0    M            f                  f   \n",
       "3217  2782  50.0    F            f                  f   \n",
       "3218  2786  73.0  NaN            f                  f   \n",
       "3219  2796  73.0    M            f                  t   \n",
       "\n",
       "     On Antithyroid Medication Sick Pregnant Thyroid Surgery I131 Treatment  \\\n",
       "3215                         f    f        f               f              f   \n",
       "3216                         f    f        f               f              f   \n",
       "3217                         f    f        f               f              f   \n",
       "3218                         f    f        f               f              f   \n",
       "3219                         f    f        f               f              f   \n",
       "\n",
       "      ...    TSH T3 Measured   T3 TT4 Measured    TT4 T4U Measured   T4U  \\\n",
       "3215  ...  2.200           t  1.0            t   68.0            t  0.77   \n",
       "3216  ...  1.100           t  0.7            t  116.0            t  0.85   \n",
       "3217  ...  4.800           t  0.6            t   98.0            t  0.80   \n",
       "3218  ...  0.015           t  1.8            t  173.0            t  1.00   \n",
       "3219  ...    NaN           t  0.7            t   63.0            t  0.88   \n",
       "\n",
       "     FTI Measured    FTI Category  \n",
       "3215            t   88.0     sick  \n",
       "3216            t  137.0     sick  \n",
       "3217            t  122.0     sick  \n",
       "3218            t  173.0     sick  \n",
       "3219            t   72.0     sick  \n",
       "\n",
       "[5 rows x 28 columns]"
      ]
     },
     "execution_count": 72,
     "metadata": {},
     "output_type": "execute_result"
    }
   ],
   "source": [
    "data.tail()"
   ]
  },
  {
   "cell_type": "code",
   "execution_count": 73,
   "id": "3c8fdafc",
   "metadata": {},
   "outputs": [
    {
     "data": {
      "text/plain": [
       "(3220, 28)"
      ]
     },
     "execution_count": 73,
     "metadata": {},
     "output_type": "execute_result"
    }
   ],
   "source": [
    "data.shape"
   ]
  },
  {
   "cell_type": "code",
   "execution_count": 74,
   "id": "4a2e30b0",
   "metadata": {},
   "outputs": [
    {
     "name": "stdout",
     "output_type": "stream",
     "text": [
      "<class 'pandas.core.frame.DataFrame'>\n",
      "RangeIndex: 3220 entries, 0 to 3219\n",
      "Data columns (total 28 columns):\n",
      " #   Column                     Non-Null Count  Dtype  \n",
      "---  ------                     --------------  -----  \n",
      " 0   S.no                       3220 non-null   int64  \n",
      " 1   Age                        3219 non-null   float64\n",
      " 2   Sex                        3093 non-null   object \n",
      " 3   On Thyroxine               3220 non-null   object \n",
      " 4   Query on Thyroxine         3220 non-null   object \n",
      " 5   On Antithyroid Medication  3220 non-null   object \n",
      " 6   Sick                       3220 non-null   object \n",
      " 7   Pregnant                   3220 non-null   object \n",
      " 8   Thyroid Surgery            3220 non-null   object \n",
      " 9   I131 Treatment             3220 non-null   object \n",
      " 10  Query Hypothyroid          3220 non-null   object \n",
      " 11  Query Hyperthyroid         3220 non-null   object \n",
      " 12  Lithium                    3220 non-null   object \n",
      " 13  Goitre                     3220 non-null   object \n",
      " 14  Tumor                      3220 non-null   object \n",
      " 15  Hypopituitary              3220 non-null   object \n",
      " 16  Psych                      3220 non-null   object \n",
      " 17  TSH Measured               3220 non-null   object \n",
      " 18  TSH                        2973 non-null   float64\n",
      " 19  T3 Measured                3220 non-null   object \n",
      " 20  T3                         2631 non-null   float64\n",
      " 21  TT4 Measured               3220 non-null   object \n",
      " 22  TT4                        3078 non-null   float64\n",
      " 23  T4U Measured               3220 non-null   object \n",
      " 24  T4U                        2944 non-null   float64\n",
      " 25  FTI Measured               3220 non-null   object \n",
      " 26  FTI                        2946 non-null   float64\n",
      " 27  Category                   3220 non-null   object \n",
      "dtypes: float64(6), int64(1), object(21)\n",
      "memory usage: 704.5+ KB\n"
     ]
    }
   ],
   "source": [
    "data.info()"
   ]
  },
  {
   "cell_type": "code",
   "execution_count": 75,
   "id": "8274c598",
   "metadata": {},
   "outputs": [
    {
     "data": {
      "text/plain": [
       "Index(['Age', 'Sex', 'On Thyroxine', 'Query on Thyroxine',\n",
       "       'On Antithyroid Medication', 'Sick', 'Pregnant', 'Thyroid Surgery',\n",
       "       'I131 Treatment', 'Query Hypothyroid', 'Query Hyperthyroid', 'Lithium',\n",
       "       'Goitre', 'Tumor', 'Hypopituitary', 'Psych', 'TSH Measured', 'TSH',\n",
       "       'T3 Measured', 'T3', 'TT4 Measured', 'TT4', 'T4U Measured', 'T4U',\n",
       "       'FTI Measured', 'FTI', 'Category'],\n",
       "      dtype='object')"
      ]
     },
     "execution_count": 75,
     "metadata": {},
     "output_type": "execute_result"
    }
   ],
   "source": [
    "# Columns\n",
    "data=data.drop(['S.no'],axis=1)\n",
    "data.columns"
   ]
  },
  {
   "cell_type": "markdown",
   "id": "bbb86557",
   "metadata": {},
   "source": [
    "## Visualizing the Data"
   ]
  },
  {
   "cell_type": "markdown",
   "id": "b1ab7311",
   "metadata": {},
   "source": [
    "### i. Univariate Analysis"
   ]
  },
  {
   "cell_type": "code",
   "execution_count": 76,
   "id": "a842e285",
   "metadata": {},
   "outputs": [
    {
     "data": {
      "text/plain": [
       "<AxesSubplot:xlabel='Age', ylabel='Count'>"
      ]
     },
     "execution_count": 76,
     "metadata": {},
     "output_type": "execute_result"
    },
    {
     "data": {
      "image/png": "[encoded data removed]",
      "text/plain": [
       "<Figure size 640x480 with 1 Axes>"
      ]
     },
     "metadata": {},
     "output_type": "display_data"
    }
   ],
   "source": [
    "# Histogram\n",
    "sns.histplot(data['Age'])"
   ]
  },
  {
   "cell_type": "raw",
   "id": "1b1119ab",
   "metadata": {},
   "source": [
    "From the histogram: The dataset has many records with age between 60 to 80."
   ]
  },
  {
   "cell_type": "code",
   "execution_count": 77,
   "id": "02a1458e",
   "metadata": {},
   "outputs": [
    {
     "name": "stderr",
     "output_type": "stream",
     "text": [
      "C:\\ProgramData\\Anaconda3\\lib\\site-packages\\seaborn\\_decorators.py:36: FutureWarning: Pass the following variable as a keyword arg: x. From version 0.12, the only valid positional argument will be `data`, and passing other arguments without an explicit keyword will result in an error or misinterpretation.\n",
      "  warnings.warn(\n"
     ]
    },
    {
     "data": {
      "text/plain": [
       "<AxesSubplot:xlabel='Sex', ylabel='count'>"
      ]
     },
     "execution_count": 77,
     "metadata": {},
     "output_type": "execute_result"
    },
    {
     "data": {
      "image/png": "[encoded data removed]",
      "text/plain": [
       "<Figure size 640x480 with 1 Axes>"
      ]
     },
     "metadata": {},
     "output_type": "display_data"
    }
   ],
   "source": [
    "# Bar Chart\n",
    "sns.countplot(data['Sex'])"
   ]
  },
  {
   "cell_type": "raw",
   "id": "e16258dd",
   "metadata": {},
   "source": [
    "From the countplot: The dataset has many female records."
   ]
  },
  {
   "cell_type": "code",
   "execution_count": 78,
   "id": "304a6d7f",
   "metadata": {},
   "outputs": [
    {
     "name": "stdout",
     "output_type": "stream",
     "text": [
      "negative        2752\n",
      "hypothyroid      220\n",
      "sick             171\n",
      "hyperthyroid      77\n",
      "Name: Category, dtype: int64\n"
     ]
    },
    {
     "data": {
      "image/png": "[encoded data removed]",
      "text/plain": [
       "<Figure size 640x480 with 1 Axes>"
      ]
     },
     "metadata": {},
     "output_type": "display_data"
    }
   ],
   "source": [
    "# Pie Chart\n",
    "x = data['Category'].value_counts()\n",
    "print(x)\n",
    "plt.pie(x.values,labels=x.index)\n",
    "plt.show()"
   ]
  },
  {
   "cell_type": "raw",
   "id": "50f3037e",
   "metadata": {},
   "source": [
    "From the piechart: The dataset has more negative cases than hyperthyroid, hypothyroid cases, and sick cases."
   ]
  },
  {
   "cell_type": "markdown",
   "id": "eafca218",
   "metadata": {},
   "source": [
    "### ii. Bivariate Analysis"
   ]
  },
  {
   "cell_type": "markdown",
   "id": "bc7c7ced",
   "metadata": {},
   "source": [
    "#### Categorical Vs Numerical"
   ]
  },
  {
   "cell_type": "code",
   "execution_count": 79,
   "id": "71830e2a",
   "metadata": {},
   "outputs": [
    {
     "data": {
      "text/plain": [
       "<AxesSubplot:xlabel='Category', ylabel='Age'>"
      ]
     },
     "execution_count": 79,
     "metadata": {},
     "output_type": "execute_result"
    },
    {
     "data": {
      "image/png": "[encoded data removed]",
      "text/plain": [
       "<Figure size 640x480 with 1 Axes>"
      ]
     },
     "metadata": {},
     "output_type": "display_data"
    }
   ],
   "source": [
    "# Bar Plot\n",
    "sns.barplot(x=data['Category'], y=data['Age'])"
   ]
  },
  {
   "cell_type": "markdown",
   "id": "3c3ffc48",
   "metadata": {},
   "source": [
    "#### Numerical Vs Numerical"
   ]
  },
  {
   "cell_type": "code",
   "execution_count": 80,
   "id": "c231226f",
   "metadata": {},
   "outputs": [
    {
     "data": {
      "text/plain": [
       "<AxesSubplot:xlabel='Age', ylabel='TSH'>"
      ]
     },
     "execution_count": 80,
     "metadata": {},
     "output_type": "execute_result"
    },
    {
     "data": {
      "image/png": "[encoded data removed]",
      "text/plain": [
       "<Figure size 640x480 with 1 Axes>"
      ]
     },
     "metadata": {},
     "output_type": "display_data"
    }
   ],
   "source": [
    "# Scatter Plot\n",
    "sns.scatterplot(x=data['Age'],y=data['TSH'])"
   ]
  },
  {
   "cell_type": "code",
   "execution_count": 81,
   "id": "92b3a90d",
   "metadata": {},
   "outputs": [
    {
     "name": "stderr",
     "output_type": "stream",
     "text": [
      "C:\\ProgramData\\Anaconda3\\lib\\site-packages\\seaborn\\_decorators.py:36: FutureWarning: Pass the following variables as keyword args: x, y. From version 0.12, the only valid positional argument will be `data`, and passing other arguments without an explicit keyword will result in an error or misinterpretation.\n",
      "  warnings.warn(\n"
     ]
    },
    {
     "data": {
      "text/plain": [
       "<seaborn.axisgrid.JointGrid at 0x244a472d3a0>"
      ]
     },
     "execution_count": 81,
     "metadata": {},
     "output_type": "execute_result"
    },
    {
     "data": {
      "image/png": "[encoded data removed]",
      "text/plain": [
       "<Figure size 600x600 with 3 Axes>"
      ]
     },
     "metadata": {},
     "output_type": "display_data"
    }
   ],
   "source": [
    "# Join Plot\n",
    "sns.jointplot(data.Age,data.TSH)"
   ]
  },
  {
   "cell_type": "markdown",
   "id": "1423fcc1",
   "metadata": {},
   "source": [
    "#### Categorical Vs Categorical"
   ]
  },
  {
   "cell_type": "code",
   "execution_count": 82,
   "id": "630d7e42",
   "metadata": {},
   "outputs": [
    {
     "name": "stderr",
     "output_type": "stream",
     "text": [
      "C:\\ProgramData\\Anaconda3\\lib\\site-packages\\seaborn\\_decorators.py:36: FutureWarning: Pass the following variable as a keyword arg: x. From version 0.12, the only valid positional argument will be `data`, and passing other arguments without an explicit keyword will result in an error or misinterpretation.\n",
      "  warnings.warn(\n"
     ]
    },
    {
     "data": {
      "text/plain": [
       "<AxesSubplot:xlabel='Sex', ylabel='count'>"
      ]
     },
     "execution_count": 82,
     "metadata": {},
     "output_type": "execute_result"
    },
    {
     "data": {
      "image/png": "[encoded data removed]",
      "text/plain": [
       "<Figure size 640x480 with 1 Axes>"
      ]
     },
     "metadata": {},
     "output_type": "display_data"
    }
   ],
   "source": [
    "# Count PLot\n",
    "sns.countplot(data['Sex'],hue=data['Category'])"
   ]
  },
  {
   "cell_type": "markdown",
   "id": "c2a79ce8",
   "metadata": {},
   "source": [
    "### iii. Multivariate Analysis"
   ]
  },
  {
   "cell_type": "code",
   "execution_count": 83,
   "id": "490bbf10",
   "metadata": {},
   "outputs": [
    {
     "data": {
      "text/plain": [
       "<AxesSubplot:>"
      ]
     },
     "execution_count": 83,
     "metadata": {},
     "output_type": "execute_result"
    },
    {
     "data": {
      "image/png": "[encoded data removed]",
      "text/plain": [
       "<Figure size 640x480 with 2 Axes>"
      ]
     },
     "metadata": {},
     "output_type": "display_data"
    }
   ],
   "source": [
    "# Heat Map\n",
    "sns.heatmap(data.corr(), annot=True)"
   ]
  },
  {
   "cell_type": "markdown",
   "id": "68ef8c5b",
   "metadata": {},
   "source": [
    "## Data Preprocessing"
   ]
  },
  {
   "cell_type": "markdown",
   "id": "ee2eed4e",
   "metadata": {},
   "source": [
    "### i. Checking for Null Values"
   ]
  },
  {
   "cell_type": "code",
   "execution_count": 84,
   "id": "1b3aa3c6",
   "metadata": {},
   "outputs": [
    {
     "data": {
      "text/html": [
       "<div>\n",
       "<style scoped>\n",
       "    .dataframe tbody tr th:only-of-type {\n",
       "        vertical-align: middle;\n",
       "    }\n",
       "\n",
       "    .dataframe tbody tr th {\n",
       "        vertical-align: top;\n",
       "    }\n",
       "\n",
       "    .dataframe thead th {\n",
       "        text-align: right;\n",
       "    }\n",
       "</style>\n",
       "<table border=\"1\" class=\"dataframe\">\n",
       "  <thead>\n",
       "    <tr style=\"text-align: right;\">\n",
       "      <th></th>\n",
       "      <th>Age</th>\n",
       "      <th>Sex</th>\n",
       "      <th>On Thyroxine</th>\n",
       "      <th>Query on Thyroxine</th>\n",
       "      <th>On Antithyroid Medication</th>\n",
       "      <th>Sick</th>\n",
       "      <th>Pregnant</th>\n",
       "      <th>Thyroid Surgery</th>\n",
       "      <th>I131 Treatment</th>\n",
       "      <th>Query Hypothyroid</th>\n",
       "      <th>...</th>\n",
       "      <th>TSH</th>\n",
       "      <th>T3 Measured</th>\n",
       "      <th>T3</th>\n",
       "      <th>TT4 Measured</th>\n",
       "      <th>TT4</th>\n",
       "      <th>T4U Measured</th>\n",
       "      <th>T4U</th>\n",
       "      <th>FTI Measured</th>\n",
       "      <th>FTI</th>\n",
       "      <th>Category</th>\n",
       "    </tr>\n",
       "  </thead>\n",
       "  <tbody>\n",
       "    <tr>\n",
       "      <th>0</th>\n",
       "      <td>False</td>\n",
       "      <td>False</td>\n",
       "      <td>False</td>\n",
       "      <td>False</td>\n",
       "      <td>False</td>\n",
       "      <td>False</td>\n",
       "      <td>False</td>\n",
       "      <td>False</td>\n",
       "      <td>False</td>\n",
       "      <td>False</td>\n",
       "      <td>...</td>\n",
       "      <td>False</td>\n",
       "      <td>False</td>\n",
       "      <td>False</td>\n",
       "      <td>False</td>\n",
       "      <td>False</td>\n",
       "      <td>False</td>\n",
       "      <td>False</td>\n",
       "      <td>False</td>\n",
       "      <td>False</td>\n",
       "      <td>False</td>\n",
       "    </tr>\n",
       "    <tr>\n",
       "      <th>1</th>\n",
       "      <td>False</td>\n",
       "      <td>False</td>\n",
       "      <td>False</td>\n",
       "      <td>False</td>\n",
       "      <td>False</td>\n",
       "      <td>False</td>\n",
       "      <td>False</td>\n",
       "      <td>False</td>\n",
       "      <td>False</td>\n",
       "      <td>False</td>\n",
       "      <td>...</td>\n",
       "      <td>False</td>\n",
       "      <td>False</td>\n",
       "      <td>False</td>\n",
       "      <td>False</td>\n",
       "      <td>False</td>\n",
       "      <td>False</td>\n",
       "      <td>True</td>\n",
       "      <td>False</td>\n",
       "      <td>True</td>\n",
       "      <td>False</td>\n",
       "    </tr>\n",
       "    <tr>\n",
       "      <th>2</th>\n",
       "      <td>False</td>\n",
       "      <td>False</td>\n",
       "      <td>False</td>\n",
       "      <td>False</td>\n",
       "      <td>False</td>\n",
       "      <td>False</td>\n",
       "      <td>False</td>\n",
       "      <td>False</td>\n",
       "      <td>False</td>\n",
       "      <td>False</td>\n",
       "      <td>...</td>\n",
       "      <td>False</td>\n",
       "      <td>False</td>\n",
       "      <td>True</td>\n",
       "      <td>False</td>\n",
       "      <td>False</td>\n",
       "      <td>False</td>\n",
       "      <td>False</td>\n",
       "      <td>False</td>\n",
       "      <td>False</td>\n",
       "      <td>False</td>\n",
       "    </tr>\n",
       "    <tr>\n",
       "      <th>3</th>\n",
       "      <td>False</td>\n",
       "      <td>False</td>\n",
       "      <td>False</td>\n",
       "      <td>False</td>\n",
       "      <td>False</td>\n",
       "      <td>False</td>\n",
       "      <td>False</td>\n",
       "      <td>False</td>\n",
       "      <td>False</td>\n",
       "      <td>False</td>\n",
       "      <td>...</td>\n",
       "      <td>False</td>\n",
       "      <td>False</td>\n",
       "      <td>False</td>\n",
       "      <td>False</td>\n",
       "      <td>False</td>\n",
       "      <td>False</td>\n",
       "      <td>True</td>\n",
       "      <td>False</td>\n",
       "      <td>True</td>\n",
       "      <td>False</td>\n",
       "    </tr>\n",
       "    <tr>\n",
       "      <th>4</th>\n",
       "      <td>False</td>\n",
       "      <td>False</td>\n",
       "      <td>False</td>\n",
       "      <td>False</td>\n",
       "      <td>False</td>\n",
       "      <td>False</td>\n",
       "      <td>False</td>\n",
       "      <td>False</td>\n",
       "      <td>False</td>\n",
       "      <td>False</td>\n",
       "      <td>...</td>\n",
       "      <td>False</td>\n",
       "      <td>False</td>\n",
       "      <td>False</td>\n",
       "      <td>False</td>\n",
       "      <td>False</td>\n",
       "      <td>False</td>\n",
       "      <td>False</td>\n",
       "      <td>False</td>\n",
       "      <td>False</td>\n",
       "      <td>False</td>\n",
       "    </tr>\n",
       "    <tr>\n",
       "      <th>...</th>\n",
       "      <td>...</td>\n",
       "      <td>...</td>\n",
       "      <td>...</td>\n",
       "      <td>...</td>\n",
       "      <td>...</td>\n",
       "      <td>...</td>\n",
       "      <td>...</td>\n",
       "      <td>...</td>\n",
       "      <td>...</td>\n",
       "      <td>...</td>\n",
       "      <td>...</td>\n",
       "      <td>...</td>\n",
       "      <td>...</td>\n",
       "      <td>...</td>\n",
       "      <td>...</td>\n",
       "      <td>...</td>\n",
       "      <td>...</td>\n",
       "      <td>...</td>\n",
       "      <td>...</td>\n",
       "      <td>...</td>\n",
       "      <td>...</td>\n",
       "    </tr>\n",
       "    <tr>\n",
       "      <th>3215</th>\n",
       "      <td>False</td>\n",
       "      <td>False</td>\n",
       "      <td>False</td>\n",
       "      <td>False</td>\n",
       "      <td>False</td>\n",
       "      <td>False</td>\n",
       "      <td>False</td>\n",
       "      <td>False</td>\n",
       "      <td>False</td>\n",
       "      <td>False</td>\n",
       "      <td>...</td>\n",
       "      <td>False</td>\n",
       "      <td>False</td>\n",
       "      <td>False</td>\n",
       "      <td>False</td>\n",
       "      <td>False</td>\n",
       "      <td>False</td>\n",
       "      <td>False</td>\n",
       "      <td>False</td>\n",
       "      <td>False</td>\n",
       "      <td>False</td>\n",
       "    </tr>\n",
       "    <tr>\n",
       "      <th>3216</th>\n",
       "      <td>False</td>\n",
       "      <td>False</td>\n",
       "      <td>False</td>\n",
       "      <td>False</td>\n",
       "      <td>False</td>\n",
       "      <td>False</td>\n",
       "      <td>False</td>\n",
       "      <td>False</td>\n",
       "      <td>False</td>\n",
       "      <td>False</td>\n",
       "      <td>...</td>\n",
       "      <td>False</td>\n",
       "      <td>False</td>\n",
       "      <td>False</td>\n",
       "      <td>False</td>\n",
       "      <td>False</td>\n",
       "      <td>False</td>\n",
       "      <td>False</td>\n",
       "      <td>False</td>\n",
       "      <td>False</td>\n",
       "      <td>False</td>\n",
       "    </tr>\n",
       "    <tr>\n",
       "      <th>3217</th>\n",
       "      <td>False</td>\n",
       "      <td>False</td>\n",
       "      <td>False</td>\n",
       "      <td>False</td>\n",
       "      <td>False</td>\n",
       "      <td>False</td>\n",
       "      <td>False</td>\n",
       "      <td>False</td>\n",
       "      <td>False</td>\n",
       "      <td>False</td>\n",
       "      <td>...</td>\n",
       "      <td>False</td>\n",
       "      <td>False</td>\n",
       "      <td>False</td>\n",
       "      <td>False</td>\n",
       "      <td>False</td>\n",
       "      <td>False</td>\n",
       "      <td>False</td>\n",
       "      <td>False</td>\n",
       "      <td>False</td>\n",
       "      <td>False</td>\n",
       "    </tr>\n",
       "    <tr>\n",
       "      <th>3218</th>\n",
       "      <td>False</td>\n",
       "      <td>True</td>\n",
       "      <td>False</td>\n",
       "      <td>False</td>\n",
       "      <td>False</td>\n",
       "      <td>False</td>\n",
       "      <td>False</td>\n",
       "      <td>False</td>\n",
       "      <td>False</td>\n",
       "      <td>False</td>\n",
       "      <td>...</td>\n",
       "      <td>False</td>\n",
       "      <td>False</td>\n",
       "      <td>False</td>\n",
       "      <td>False</td>\n",
       "      <td>False</td>\n",
       "      <td>False</td>\n",
       "      <td>False</td>\n",
       "      <td>False</td>\n",
       "      <td>False</td>\n",
       "      <td>False</td>\n",
       "    </tr>\n",
       "    <tr>\n",
       "      <th>3219</th>\n",
       "      <td>False</td>\n",
       "      <td>False</td>\n",
       "      <td>False</td>\n",
       "      <td>False</td>\n",
       "      <td>False</td>\n",
       "      <td>False</td>\n",
       "      <td>False</td>\n",
       "      <td>False</td>\n",
       "      <td>False</td>\n",
       "      <td>False</td>\n",
       "      <td>...</td>\n",
       "      <td>True</td>\n",
       "      <td>False</td>\n",
       "      <td>False</td>\n",
       "      <td>False</td>\n",
       "      <td>False</td>\n",
       "      <td>False</td>\n",
       "      <td>False</td>\n",
       "      <td>False</td>\n",
       "      <td>False</td>\n",
       "      <td>False</td>\n",
       "    </tr>\n",
       "  </tbody>\n",
       "</table>\n",
       "<p>3220 rows × 27 columns</p>\n",
       "</div>"
      ],
      "text/plain": [
       "        Age    Sex  On Thyroxine  Query on Thyroxine  \\\n",
       "0     False  False         False               False   \n",
       "1     False  False         False               False   \n",
       "2     False  False         False               False   \n",
       "3     False  False         False               False   \n",
       "4     False  False         False               False   \n",
       "...     ...    ...           ...                 ...   \n",
       "3215  False  False         False               False   \n",
       "3216  False  False         False               False   \n",
       "3217  False  False         False               False   \n",
       "3218  False   True         False               False   \n",
       "3219  False  False         False               False   \n",
       "\n",
       "      On Antithyroid Medication   Sick  Pregnant  Thyroid Surgery  \\\n",
       "0                         False  False     False            False   \n",
       "1                         False  False     False            False   \n",
       "2                         False  False     False            False   \n",
       "3                         False  False     False            False   \n",
       "4                         False  False     False            False   \n",
       "...                         ...    ...       ...              ...   \n",
       "3215                      False  False     False            False   \n",
       "3216                      False  False     False            False   \n",
       "3217                      False  False     False            False   \n",
       "3218                      False  False     False            False   \n",
       "3219                      False  False     False            False   \n",
       "\n",
       "      I131 Treatment  Query Hypothyroid  ...    TSH  T3 Measured     T3  \\\n",
       "0              False              False  ...  False        False  False   \n",
       "1              False              False  ...  False        False  False   \n",
       "2              False              False  ...  False        False   True   \n",
       "3              False              False  ...  False        False  False   \n",
       "4              False              False  ...  False        False  False   \n",
       "...              ...                ...  ...    ...          ...    ...   \n",
       "3215           False              False  ...  False        False  False   \n",
       "3216           False              False  ...  False        False  False   \n",
       "3217           False              False  ...  False        False  False   \n",
       "3218           False              False  ...  False        False  False   \n",
       "3219           False              False  ...   True        False  False   \n",
       "\n",
       "      TT4 Measured    TT4  T4U Measured    T4U  FTI Measured    FTI  Category  \n",
       "0            False  False         False  False         False  False     False  \n",
       "1            False  False         False   True         False   True     False  \n",
       "2            False  False         False  False         False  False     False  \n",
       "3            False  False         False   True         False   True     False  \n",
       "4            False  False         False  False         False  False     False  \n",
       "...            ...    ...           ...    ...           ...    ...       ...  \n",
       "3215         False  False         False  False         False  False     False  \n",
       "3216         False  False         False  False         False  False     False  \n",
       "3217         False  False         False  False         False  False     False  \n",
       "3218         False  False         False  False         False  False     False  \n",
       "3219         False  False         False  False         False  False     False  \n",
       "\n",
       "[3220 rows x 27 columns]"
      ]
     },
     "execution_count": 84,
     "metadata": {},
     "output_type": "execute_result"
    }
   ],
   "source": [
    "data.isna()"
   ]
  },
  {
   "cell_type": "code",
   "execution_count": 85,
   "id": "625d0223",
   "metadata": {},
   "outputs": [
    {
     "data": {
      "text/plain": [
       "Age                           True\n",
       "Sex                           True\n",
       "On Thyroxine                 False\n",
       "Query on Thyroxine           False\n",
       "On Antithyroid Medication    False\n",
       "Sick                         False\n",
       "Pregnant                     False\n",
       "Thyroid Surgery              False\n",
       "I131 Treatment               False\n",
       "Query Hypothyroid            False\n",
       "Query Hyperthyroid           False\n",
       "Lithium                      False\n",
       "Goitre                       False\n",
       "Tumor                        False\n",
       "Hypopituitary                False\n",
       "Psych                        False\n",
       "TSH Measured                 False\n",
       "TSH                           True\n",
       "T3 Measured                  False\n",
       "T3                            True\n",
       "TT4 Measured                 False\n",
       "TT4                           True\n",
       "T4U Measured                 False\n",
       "T4U                           True\n",
       "FTI Measured                 False\n",
       "FTI                           True\n",
       "Category                     False\n",
       "dtype: bool"
      ]
     },
     "execution_count": 85,
     "metadata": {},
     "output_type": "execute_result"
    }
   ],
   "source": [
    "data.isnull().any()"
   ]
  },
  {
   "cell_type": "code",
   "execution_count": 86,
   "id": "4ac5bca1",
   "metadata": {},
   "outputs": [
    {
     "data": {
      "text/plain": [
       "Age                            1\n",
       "Sex                          127\n",
       "On Thyroxine                   0\n",
       "Query on Thyroxine             0\n",
       "On Antithyroid Medication      0\n",
       "Sick                           0\n",
       "Pregnant                       0\n",
       "Thyroid Surgery                0\n",
       "I131 Treatment                 0\n",
       "Query Hypothyroid              0\n",
       "Query Hyperthyroid             0\n",
       "Lithium                        0\n",
       "Goitre                         0\n",
       "Tumor                          0\n",
       "Hypopituitary                  0\n",
       "Psych                          0\n",
       "TSH Measured                   0\n",
       "TSH                          247\n",
       "T3 Measured                    0\n",
       "T3                           589\n",
       "TT4 Measured                   0\n",
       "TT4                          142\n",
       "T4U Measured                   0\n",
       "T4U                          276\n",
       "FTI Measured                   0\n",
       "FTI                          274\n",
       "Category                       0\n",
       "dtype: int64"
      ]
     },
     "execution_count": 86,
     "metadata": {},
     "output_type": "execute_result"
    }
   ],
   "source": [
    "data.isnull().sum()"
   ]
  },
  {
   "cell_type": "code",
   "execution_count": 87,
   "id": "c2c9512c",
   "metadata": {},
   "outputs": [],
   "source": [
    "# Replacing Missing Values of Numerical attributes with their Median\n",
    "data['Age'].fillna((data['Age'].mean()), inplace = True)\n",
    "data['TSH'].fillna((data['TSH'].mean()), inplace = True)\n",
    "data['T3'].fillna((data['T3'].mean()), inplace = True)\n",
    "data['TT4'].fillna((data['TT4'].mean()), inplace = True)\n",
    "data['T4U'].fillna((data['T4U'].mean()), inplace = True)\n",
    "data['FTI'].fillna((data['FTI'].mean()), inplace = True)"
   ]
  },
  {
   "cell_type": "code",
   "execution_count": 88,
   "id": "35db7fea",
   "metadata": {},
   "outputs": [
    {
     "name": "stderr",
     "output_type": "stream",
     "text": [
      "C:\\ProgramData\\Anaconda3\\lib\\site-packages\\seaborn\\_decorators.py:36: FutureWarning: Pass the following variable as a keyword arg: x. From version 0.12, the only valid positional argument will be `data`, and passing other arguments without an explicit keyword will result in an error or misinterpretation.\n",
      "  warnings.warn(\n"
     ]
    },
    {
     "data": {
      "text/plain": [
       "<AxesSubplot:xlabel='Sex', ylabel='count'>"
      ]
     },
     "execution_count": 88,
     "metadata": {},
     "output_type": "execute_result"
    },
    {
     "data": {
      "image/png": "[encoded data removed]",
      "text/plain": [
       "<Figure size 640x480 with 1 Axes>"
      ]
     },
     "metadata": {},
     "output_type": "display_data"
    }
   ],
   "source": [
    "# Frequently occuring category of Categorical attribute - Sex\n",
    "sns.countplot(data['Sex'])"
   ]
  },
  {
   "cell_type": "code",
   "execution_count": 89,
   "id": "a5e7d27d",
   "metadata": {},
   "outputs": [],
   "source": [
    "# Replacing Missing Values of Categorical attribute - Sex with frequently occuring category - F\n",
    "data['Sex'].fillna('F',inplace=True)"
   ]
  },
  {
   "cell_type": "code",
   "execution_count": 90,
   "id": "190219c8",
   "metadata": {},
   "outputs": [
    {
     "data": {
      "text/plain": [
       "Age                          0\n",
       "Sex                          0\n",
       "On Thyroxine                 0\n",
       "Query on Thyroxine           0\n",
       "On Antithyroid Medication    0\n",
       "Sick                         0\n",
       "Pregnant                     0\n",
       "Thyroid Surgery              0\n",
       "I131 Treatment               0\n",
       "Query Hypothyroid            0\n",
       "Query Hyperthyroid           0\n",
       "Lithium                      0\n",
       "Goitre                       0\n",
       "Tumor                        0\n",
       "Hypopituitary                0\n",
       "Psych                        0\n",
       "TSH Measured                 0\n",
       "TSH                          0\n",
       "T3 Measured                  0\n",
       "T3                           0\n",
       "TT4 Measured                 0\n",
       "TT4                          0\n",
       "T4U Measured                 0\n",
       "T4U                          0\n",
       "FTI Measured                 0\n",
       "FTI                          0\n",
       "Category                     0\n",
       "dtype: int64"
      ]
     },
     "execution_count": 90,
     "metadata": {},
     "output_type": "execute_result"
    }
   ],
   "source": [
    "data.isnull().sum()"
   ]
  },
  {
   "cell_type": "markdown",
   "id": "226a15ec",
   "metadata": {},
   "source": [
    "### ii. Checking for Outliers"
   ]
  },
  {
   "cell_type": "code",
   "execution_count": 91,
   "id": "d6f87856",
   "metadata": {},
   "outputs": [
    {
     "name": "stderr",
     "output_type": "stream",
     "text": [
      "C:\\ProgramData\\Anaconda3\\lib\\site-packages\\seaborn\\_decorators.py:36: FutureWarning: Pass the following variable as a keyword arg: x. From version 0.12, the only valid positional argument will be `data`, and passing other arguments without an explicit keyword will result in an error or misinterpretation.\n",
      "  warnings.warn(\n"
     ]
    },
    {
     "data": {
      "text/plain": [
       "<AxesSubplot:xlabel='Age'>"
      ]
     },
     "execution_count": 91,
     "metadata": {},
     "output_type": "execute_result"
    },
    {
     "data": {
      "image/png": "[encoded data removed]",
      "text/plain": [
       "<Figure size 640x480 with 1 Axes>"
      ]
     },
     "metadata": {},
     "output_type": "display_data"
    }
   ],
   "source": [
    "# Age (Numerical attribute)\n",
    "sns.boxplot(data.Age)"
   ]
  },
  {
   "cell_type": "markdown",
   "id": "84d4a224",
   "metadata": {},
   "source": [
    "### iii. Descriptive Analysis"
   ]
  },
  {
   "cell_type": "code",
   "execution_count": 92,
   "id": "7acdfc84",
   "metadata": {},
   "outputs": [
    {
     "data": {
      "text/html": [
       "<div>\n",
       "<style scoped>\n",
       "    .dataframe tbody tr th:only-of-type {\n",
       "        vertical-align: middle;\n",
       "    }\n",
       "\n",
       "    .dataframe tbody tr th {\n",
       "        vertical-align: top;\n",
       "    }\n",
       "\n",
       "    .dataframe thead th {\n",
       "        text-align: right;\n",
       "    }\n",
       "</style>\n",
       "<table border=\"1\" class=\"dataframe\">\n",
       "  <thead>\n",
       "    <tr style=\"text-align: right;\">\n",
       "      <th></th>\n",
       "      <th>Age</th>\n",
       "      <th>TSH</th>\n",
       "      <th>T3</th>\n",
       "      <th>TT4</th>\n",
       "      <th>T4U</th>\n",
       "      <th>FTI</th>\n",
       "    </tr>\n",
       "  </thead>\n",
       "  <tbody>\n",
       "    <tr>\n",
       "      <th>count</th>\n",
       "      <td>3220.000000</td>\n",
       "      <td>3220.000000</td>\n",
       "      <td>3220.000000</td>\n",
       "      <td>3220.000000</td>\n",
       "      <td>3220.000000</td>\n",
       "      <td>3220.000000</td>\n",
       "    </tr>\n",
       "    <tr>\n",
       "      <th>mean</th>\n",
       "      <td>52.407580</td>\n",
       "      <td>6.724731</td>\n",
       "      <td>1.963341</td>\n",
       "      <td>107.804353</td>\n",
       "      <td>0.989889</td>\n",
       "      <td>110.659810</td>\n",
       "    </tr>\n",
       "    <tr>\n",
       "      <th>std</th>\n",
       "      <td>19.106617</td>\n",
       "      <td>26.510615</td>\n",
       "      <td>0.839672</td>\n",
       "      <td>38.078339</td>\n",
       "      <td>0.185911</td>\n",
       "      <td>35.949223</td>\n",
       "    </tr>\n",
       "    <tr>\n",
       "      <th>min</th>\n",
       "      <td>1.000000</td>\n",
       "      <td>0.005000</td>\n",
       "      <td>0.050000</td>\n",
       "      <td>2.000000</td>\n",
       "      <td>0.310000</td>\n",
       "      <td>2.000000</td>\n",
       "    </tr>\n",
       "    <tr>\n",
       "      <th>25%</th>\n",
       "      <td>37.000000</td>\n",
       "      <td>0.577500</td>\n",
       "      <td>1.600000</td>\n",
       "      <td>86.000000</td>\n",
       "      <td>0.880000</td>\n",
       "      <td>93.000000</td>\n",
       "    </tr>\n",
       "    <tr>\n",
       "      <th>50%</th>\n",
       "      <td>55.000000</td>\n",
       "      <td>1.700000</td>\n",
       "      <td>1.963341</td>\n",
       "      <td>104.000000</td>\n",
       "      <td>0.989889</td>\n",
       "      <td>109.000000</td>\n",
       "    </tr>\n",
       "    <tr>\n",
       "      <th>75%</th>\n",
       "      <td>68.000000</td>\n",
       "      <td>5.200000</td>\n",
       "      <td>2.200000</td>\n",
       "      <td>123.000000</td>\n",
       "      <td>1.070000</td>\n",
       "      <td>123.000000</td>\n",
       "    </tr>\n",
       "    <tr>\n",
       "      <th>max</th>\n",
       "      <td>94.000000</td>\n",
       "      <td>478.000000</td>\n",
       "      <td>10.600000</td>\n",
       "      <td>430.000000</td>\n",
       "      <td>2.120000</td>\n",
       "      <td>395.000000</td>\n",
       "    </tr>\n",
       "  </tbody>\n",
       "</table>\n",
       "</div>"
      ],
      "text/plain": [
       "               Age          TSH           T3          TT4          T4U  \\\n",
       "count  3220.000000  3220.000000  3220.000000  3220.000000  3220.000000   \n",
       "mean     52.407580     6.724731     1.963341   107.804353     0.989889   \n",
       "std      19.106617    26.510615     0.839672    38.078339     0.185911   \n",
       "min       1.000000     0.005000     0.050000     2.000000     0.310000   \n",
       "25%      37.000000     0.577500     1.600000    86.000000     0.880000   \n",
       "50%      55.000000     1.700000     1.963341   104.000000     0.989889   \n",
       "75%      68.000000     5.200000     2.200000   123.000000     1.070000   \n",
       "max      94.000000   478.000000    10.600000   430.000000     2.120000   \n",
       "\n",
       "               FTI  \n",
       "count  3220.000000  \n",
       "mean    110.659810  \n",
       "std      35.949223  \n",
       "min       2.000000  \n",
       "25%      93.000000  \n",
       "50%     109.000000  \n",
       "75%     123.000000  \n",
       "max     395.000000  "
      ]
     },
     "execution_count": 92,
     "metadata": {},
     "output_type": "execute_result"
    }
   ],
   "source": [
    "data.describe()"
   ]
  },
  {
   "cell_type": "code",
   "execution_count": 93,
   "id": "42345554",
   "metadata": {},
   "outputs": [
    {
     "name": "stderr",
     "output_type": "stream",
     "text": [
      "C:\\Users\\JEYASRI VARTHINI\\AppData\\Local\\Temp\\ipykernel_8004\\531903386.py:1: FutureWarning: Dropping of nuisance columns in DataFrame reductions (with 'numeric_only=None') is deprecated; in a future version this will raise TypeError.  Select only valid columns before calling the reduction.\n",
      "  data.mean()\n"
     ]
    },
    {
     "data": {
      "text/plain": [
       "Age     52.407580\n",
       "TSH      6.724731\n",
       "T3       1.963341\n",
       "TT4    107.804353\n",
       "T4U      0.989889\n",
       "FTI    110.659810\n",
       "dtype: float64"
      ]
     },
     "execution_count": 93,
     "metadata": {},
     "output_type": "execute_result"
    }
   ],
   "source": [
    "data.mean()"
   ]
  },
  {
   "cell_type": "code",
   "execution_count": 94,
   "id": "b45d3222",
   "metadata": {},
   "outputs": [
    {
     "name": "stderr",
     "output_type": "stream",
     "text": [
      "C:\\Users\\JEYASRI VARTHINI\\AppData\\Local\\Temp\\ipykernel_8004\\4184645713.py:1: FutureWarning: Dropping of nuisance columns in DataFrame reductions (with 'numeric_only=None') is deprecated; in a future version this will raise TypeError.  Select only valid columns before calling the reduction.\n",
      "  data.median()\n"
     ]
    },
    {
     "data": {
      "text/plain": [
       "Age     55.000000\n",
       "TSH      1.700000\n",
       "T3       1.963341\n",
       "TT4    104.000000\n",
       "T4U      0.989889\n",
       "FTI    109.000000\n",
       "dtype: float64"
      ]
     },
     "execution_count": 94,
     "metadata": {},
     "output_type": "execute_result"
    }
   ],
   "source": [
    "data.median()"
   ]
  },
  {
   "cell_type": "code",
   "execution_count": 95,
   "id": "42609f50",
   "metadata": {},
   "outputs": [
    {
     "data": {
      "text/html": [
       "<div>\n",
       "<style scoped>\n",
       "    .dataframe tbody tr th:only-of-type {\n",
       "        vertical-align: middle;\n",
       "    }\n",
       "\n",
       "    .dataframe tbody tr th {\n",
       "        vertical-align: top;\n",
       "    }\n",
       "\n",
       "    .dataframe thead th {\n",
       "        text-align: right;\n",
       "    }\n",
       "</style>\n",
       "<table border=\"1\" class=\"dataframe\">\n",
       "  <thead>\n",
       "    <tr style=\"text-align: right;\">\n",
       "      <th></th>\n",
       "      <th>Age</th>\n",
       "      <th>Sex</th>\n",
       "      <th>On Thyroxine</th>\n",
       "      <th>Query on Thyroxine</th>\n",
       "      <th>On Antithyroid Medication</th>\n",
       "      <th>Sick</th>\n",
       "      <th>Pregnant</th>\n",
       "      <th>Thyroid Surgery</th>\n",
       "      <th>I131 Treatment</th>\n",
       "      <th>Query Hypothyroid</th>\n",
       "      <th>...</th>\n",
       "      <th>TSH</th>\n",
       "      <th>T3 Measured</th>\n",
       "      <th>T3</th>\n",
       "      <th>TT4 Measured</th>\n",
       "      <th>TT4</th>\n",
       "      <th>T4U Measured</th>\n",
       "      <th>T4U</th>\n",
       "      <th>FTI Measured</th>\n",
       "      <th>FTI</th>\n",
       "      <th>Category</th>\n",
       "    </tr>\n",
       "  </thead>\n",
       "  <tbody>\n",
       "    <tr>\n",
       "      <th>0</th>\n",
       "      <td>59.0</td>\n",
       "      <td>F</td>\n",
       "      <td>f</td>\n",
       "      <td>f</td>\n",
       "      <td>f</td>\n",
       "      <td>f</td>\n",
       "      <td>f</td>\n",
       "      <td>f</td>\n",
       "      <td>f</td>\n",
       "      <td>f</td>\n",
       "      <td>...</td>\n",
       "      <td>6.724731</td>\n",
       "      <td>t</td>\n",
       "      <td>1.963341</td>\n",
       "      <td>t</td>\n",
       "      <td>107.804353</td>\n",
       "      <td>t</td>\n",
       "      <td>0.989889</td>\n",
       "      <td>t</td>\n",
       "      <td>110.65981</td>\n",
       "      <td>negative</td>\n",
       "    </tr>\n",
       "  </tbody>\n",
       "</table>\n",
       "<p>1 rows × 27 columns</p>\n",
       "</div>"
      ],
      "text/plain": [
       "    Age Sex On Thyroxine Query on Thyroxine On Antithyroid Medication Sick  \\\n",
       "0  59.0   F            f                  f                         f    f   \n",
       "\n",
       "  Pregnant Thyroid Surgery I131 Treatment Query Hypothyroid  ...       TSH  \\\n",
       "0        f               f              f                 f  ...  6.724731   \n",
       "\n",
       "  T3 Measured        T3 TT4 Measured         TT4 T4U Measured       T4U  \\\n",
       "0           t  1.963341            t  107.804353            t  0.989889   \n",
       "\n",
       "   FTI Measured        FTI  Category  \n",
       "0             t  110.65981  negative  \n",
       "\n",
       "[1 rows x 27 columns]"
      ]
     },
     "execution_count": 95,
     "metadata": {},
     "output_type": "execute_result"
    }
   ],
   "source": [
    "data.mode()"
   ]
  },
  {
   "cell_type": "code",
   "execution_count": 96,
   "id": "a7733419",
   "metadata": {},
   "outputs": [
    {
     "name": "stderr",
     "output_type": "stream",
     "text": [
      "C:\\Users\\JEYASRI VARTHINI\\AppData\\Local\\Temp\\ipykernel_8004\\445316826.py:1: FutureWarning: Dropping of nuisance columns in DataFrame reductions (with 'numeric_only=None') is deprecated; in a future version this will raise TypeError.  Select only valid columns before calling the reduction.\n",
      "  data.var()\n"
     ]
    },
    {
     "data": {
      "text/plain": [
       "Age     365.062832\n",
       "TSH     702.812692\n",
       "T3        0.705049\n",
       "TT4    1449.959932\n",
       "T4U       0.034563\n",
       "FTI    1292.346605\n",
       "dtype: float64"
      ]
     },
     "execution_count": 96,
     "metadata": {},
     "output_type": "execute_result"
    }
   ],
   "source": [
    "data.var()"
   ]
  },
  {
   "cell_type": "code",
   "execution_count": 97,
   "id": "88619d5a",
   "metadata": {},
   "outputs": [
    {
     "name": "stderr",
     "output_type": "stream",
     "text": [
      "C:\\Users\\JEYASRI VARTHINI\\AppData\\Local\\Temp\\ipykernel_8004\\2723740006.py:1: FutureWarning: Dropping of nuisance columns in DataFrame reductions (with 'numeric_only=None') is deprecated; in a future version this will raise TypeError.  Select only valid columns before calling the reduction.\n",
      "  data.std()\n"
     ]
    },
    {
     "data": {
      "text/plain": [
       "Age    19.106617\n",
       "TSH    26.510615\n",
       "T3      0.839672\n",
       "TT4    38.078339\n",
       "T4U     0.185911\n",
       "FTI    35.949223\n",
       "dtype: float64"
      ]
     },
     "execution_count": 97,
     "metadata": {},
     "output_type": "execute_result"
    }
   ],
   "source": [
    "data.std()"
   ]
  },
  {
   "cell_type": "markdown",
   "id": "a1dfa121",
   "metadata": {},
   "source": [
    "### iv. Checking the Datatypes"
   ]
  },
  {
   "cell_type": "code",
   "execution_count": 98,
   "id": "05a556b3",
   "metadata": {},
   "outputs": [
    {
     "name": "stdout",
     "output_type": "stream",
     "text": [
      "<class 'pandas.core.frame.DataFrame'>\n",
      "RangeIndex: 3220 entries, 0 to 3219\n",
      "Data columns (total 27 columns):\n",
      " #   Column                     Non-Null Count  Dtype  \n",
      "---  ------                     --------------  -----  \n",
      " 0   Age                        3220 non-null   float64\n",
      " 1   Sex                        3220 non-null   object \n",
      " 2   On Thyroxine               3220 non-null   object \n",
      " 3   Query on Thyroxine         3220 non-null   object \n",
      " 4   On Antithyroid Medication  3220 non-null   object \n",
      " 5   Sick                       3220 non-null   object \n",
      " 6   Pregnant                   3220 non-null   object \n",
      " 7   Thyroid Surgery            3220 non-null   object \n",
      " 8   I131 Treatment             3220 non-null   object \n",
      " 9   Query Hypothyroid          3220 non-null   object \n",
      " 10  Query Hyperthyroid         3220 non-null   object \n",
      " 11  Lithium                    3220 non-null   object \n",
      " 12  Goitre                     3220 non-null   object \n",
      " 13  Tumor                      3220 non-null   object \n",
      " 14  Hypopituitary              3220 non-null   object \n",
      " 15  Psych                      3220 non-null   object \n",
      " 16  TSH Measured               3220 non-null   object \n",
      " 17  TSH                        3220 non-null   float64\n",
      " 18  T3 Measured                3220 non-null   object \n",
      " 19  T3                         3220 non-null   float64\n",
      " 20  TT4 Measured               3220 non-null   object \n",
      " 21  TT4                        3220 non-null   float64\n",
      " 22  T4U Measured               3220 non-null   object \n",
      " 23  T4U                        3220 non-null   float64\n",
      " 24  FTI Measured               3220 non-null   object \n",
      " 25  FTI                        3220 non-null   float64\n",
      " 26  Category                   3220 non-null   object \n",
      "dtypes: float64(6), object(21)\n",
      "memory usage: 679.3+ KB\n"
     ]
    }
   ],
   "source": [
    "data.info()"
   ]
  },
  {
   "cell_type": "code",
   "execution_count": 99,
   "id": "4075fd0f",
   "metadata": {},
   "outputs": [
    {
     "data": {
      "text/plain": [
       "Age                          float64\n",
       "Sex                           object\n",
       "On Thyroxine                  object\n",
       "Query on Thyroxine            object\n",
       "On Antithyroid Medication     object\n",
       "Sick                          object\n",
       "Pregnant                      object\n",
       "Thyroid Surgery               object\n",
       "I131 Treatment                object\n",
       "Query Hypothyroid             object\n",
       "Query Hyperthyroid            object\n",
       "Lithium                       object\n",
       "Goitre                        object\n",
       "Tumor                         object\n",
       "Hypopituitary                 object\n",
       "Psych                         object\n",
       "TSH Measured                  object\n",
       "TSH                          float64\n",
       "T3 Measured                   object\n",
       "T3                           float64\n",
       "TT4 Measured                  object\n",
       "TT4                          float64\n",
       "T4U Measured                  object\n",
       "T4U                          float64\n",
       "FTI Measured                  object\n",
       "FTI                          float64\n",
       "Category                      object\n",
       "dtype: object"
      ]
     },
     "execution_count": 99,
     "metadata": {},
     "output_type": "execute_result"
    }
   ],
   "source": [
    "data.dtypes"
   ]
  },
  {
   "cell_type": "markdown",
   "id": "cda2775d",
   "metadata": {},
   "source": [
    "### v. Checking Correlation"
   ]
  },
  {
   "cell_type": "code",
   "execution_count": 100,
   "id": "199ec3d9",
   "metadata": {},
   "outputs": [
    {
     "data": {
      "text/plain": [
       "<AxesSubplot:>"
      ]
     },
     "execution_count": 100,
     "metadata": {},
     "output_type": "execute_result"
    },
    {
     "data": {
      "image/png": "[encoded data removed]",
      "text/plain": [
       "<Figure size 640x480 with 2 Axes>"
      ]
     },
     "metadata": {},
     "output_type": "display_data"
    }
   ],
   "source": [
    "# Heat Map\n",
    "sns.heatmap(data.corr(), annot=True)"
   ]
  },
  {
   "cell_type": "markdown",
   "id": "edcf6bf0",
   "metadata": {},
   "source": [
    "### vi. Handling Categorical Values"
   ]
  },
  {
   "cell_type": "markdown",
   "id": "395d6221",
   "metadata": {},
   "source": [
    "#### One Hot Encoding"
   ]
  },
  {
   "cell_type": "code",
   "execution_count": 101,
   "id": "b4ba1eaf",
   "metadata": {},
   "outputs": [],
   "source": [
    "data = pd.get_dummies(data,columns=['Sex'])\n",
    "data = pd.get_dummies(data,columns=['On Thyroxine'])\n",
    "data = pd.get_dummies(data,columns=['Query on Thyroxine'])\n",
    "data = pd.get_dummies(data,columns=['On Antithyroid Medication'])\n",
    "data = pd.get_dummies(data,columns=['I131 Treatment'])\n",
    "data = pd.get_dummies(data,columns=['Query Hypothyroid'])\n",
    "data = pd.get_dummies(data,columns=['Query Hyperthyroid'])\n",
    "data = pd.get_dummies(data,columns=['Lithium'])\n",
    "data = pd.get_dummies(data,columns=['TSH Measured'])\n",
    "data = pd.get_dummies(data,columns=['Hypopituitary'])\n",
    "data = pd.get_dummies(data,columns=['Psych'])\n",
    "data = pd.get_dummies(data,columns=['T3 Measured'])\n",
    "data = pd.get_dummies(data,columns=['TT4 Measured'])\n",
    "data = pd.get_dummies(data,columns=['T4U Measured'])\n",
    "data = pd.get_dummies(data,columns=['FTI Measured'])\n",
    "data = pd.get_dummies(data,columns=['Sick'])\n",
    "data = pd.get_dummies(data,columns=['Pregnant'])\n",
    "data = pd.get_dummies(data,columns=['Thyroid Surgery'])\n",
    "data = pd.get_dummies(data,columns=['Goitre'])\n",
    "data = pd.get_dummies(data,columns=['Tumor'])"
   ]
  },
  {
   "cell_type": "code",
   "execution_count": 102,
   "id": "0b8b8e94",
   "metadata": {},
   "outputs": [
    {
     "data": {
      "text/html": [
       "<div>\n",
       "<style scoped>\n",
       "    .dataframe tbody tr th:only-of-type {\n",
       "        vertical-align: middle;\n",
       "    }\n",
       "\n",
       "    .dataframe tbody tr th {\n",
       "        vertical-align: top;\n",
       "    }\n",
       "\n",
       "    .dataframe thead th {\n",
       "        text-align: right;\n",
       "    }\n",
       "</style>\n",
       "<table border=\"1\" class=\"dataframe\">\n",
       "  <thead>\n",
       "    <tr style=\"text-align: right;\">\n",
       "      <th></th>\n",
       "      <th>Age</th>\n",
       "      <th>TSH</th>\n",
       "      <th>T3</th>\n",
       "      <th>TT4</th>\n",
       "      <th>T4U</th>\n",
       "      <th>FTI</th>\n",
       "      <th>Category</th>\n",
       "      <th>Sex_F</th>\n",
       "      <th>Sex_M</th>\n",
       "      <th>On Thyroxine_f</th>\n",
       "      <th>...</th>\n",
       "      <th>Sick_f</th>\n",
       "      <th>Sick_t</th>\n",
       "      <th>Pregnant_f</th>\n",
       "      <th>Pregnant_t</th>\n",
       "      <th>Thyroid Surgery_f</th>\n",
       "      <th>Thyroid Surgery_t</th>\n",
       "      <th>Goitre_f</th>\n",
       "      <th>Goitre_t</th>\n",
       "      <th>Tumor_f</th>\n",
       "      <th>Tumor_t</th>\n",
       "    </tr>\n",
       "  </thead>\n",
       "  <tbody>\n",
       "    <tr>\n",
       "      <th>0</th>\n",
       "      <td>41.0</td>\n",
       "      <td>1.300000</td>\n",
       "      <td>2.500000</td>\n",
       "      <td>125.0</td>\n",
       "      <td>1.140000</td>\n",
       "      <td>109.00000</td>\n",
       "      <td>negative</td>\n",
       "      <td>1</td>\n",
       "      <td>0</td>\n",
       "      <td>1</td>\n",
       "      <td>...</td>\n",
       "      <td>1</td>\n",
       "      <td>0</td>\n",
       "      <td>1</td>\n",
       "      <td>0</td>\n",
       "      <td>1</td>\n",
       "      <td>0</td>\n",
       "      <td>1</td>\n",
       "      <td>0</td>\n",
       "      <td>1</td>\n",
       "      <td>0</td>\n",
       "    </tr>\n",
       "    <tr>\n",
       "      <th>1</th>\n",
       "      <td>23.0</td>\n",
       "      <td>4.100000</td>\n",
       "      <td>2.000000</td>\n",
       "      <td>102.0</td>\n",
       "      <td>0.989889</td>\n",
       "      <td>110.65981</td>\n",
       "      <td>negative</td>\n",
       "      <td>1</td>\n",
       "      <td>0</td>\n",
       "      <td>1</td>\n",
       "      <td>...</td>\n",
       "      <td>1</td>\n",
       "      <td>0</td>\n",
       "      <td>1</td>\n",
       "      <td>0</td>\n",
       "      <td>1</td>\n",
       "      <td>0</td>\n",
       "      <td>1</td>\n",
       "      <td>0</td>\n",
       "      <td>1</td>\n",
       "      <td>0</td>\n",
       "    </tr>\n",
       "    <tr>\n",
       "      <th>2</th>\n",
       "      <td>46.0</td>\n",
       "      <td>0.980000</td>\n",
       "      <td>1.963341</td>\n",
       "      <td>109.0</td>\n",
       "      <td>0.910000</td>\n",
       "      <td>120.00000</td>\n",
       "      <td>negative</td>\n",
       "      <td>0</td>\n",
       "      <td>1</td>\n",
       "      <td>1</td>\n",
       "      <td>...</td>\n",
       "      <td>1</td>\n",
       "      <td>0</td>\n",
       "      <td>1</td>\n",
       "      <td>0</td>\n",
       "      <td>1</td>\n",
       "      <td>0</td>\n",
       "      <td>1</td>\n",
       "      <td>0</td>\n",
       "      <td>1</td>\n",
       "      <td>0</td>\n",
       "    </tr>\n",
       "    <tr>\n",
       "      <th>3</th>\n",
       "      <td>70.0</td>\n",
       "      <td>0.160000</td>\n",
       "      <td>1.900000</td>\n",
       "      <td>175.0</td>\n",
       "      <td>0.989889</td>\n",
       "      <td>110.65981</td>\n",
       "      <td>negative</td>\n",
       "      <td>1</td>\n",
       "      <td>0</td>\n",
       "      <td>0</td>\n",
       "      <td>...</td>\n",
       "      <td>1</td>\n",
       "      <td>0</td>\n",
       "      <td>1</td>\n",
       "      <td>0</td>\n",
       "      <td>1</td>\n",
       "      <td>0</td>\n",
       "      <td>1</td>\n",
       "      <td>0</td>\n",
       "      <td>1</td>\n",
       "      <td>0</td>\n",
       "    </tr>\n",
       "    <tr>\n",
       "      <th>4</th>\n",
       "      <td>70.0</td>\n",
       "      <td>0.720000</td>\n",
       "      <td>1.200000</td>\n",
       "      <td>61.0</td>\n",
       "      <td>0.870000</td>\n",
       "      <td>70.00000</td>\n",
       "      <td>negative</td>\n",
       "      <td>1</td>\n",
       "      <td>0</td>\n",
       "      <td>1</td>\n",
       "      <td>...</td>\n",
       "      <td>1</td>\n",
       "      <td>0</td>\n",
       "      <td>1</td>\n",
       "      <td>0</td>\n",
       "      <td>1</td>\n",
       "      <td>0</td>\n",
       "      <td>1</td>\n",
       "      <td>0</td>\n",
       "      <td>1</td>\n",
       "      <td>0</td>\n",
       "    </tr>\n",
       "    <tr>\n",
       "      <th>...</th>\n",
       "      <td>...</td>\n",
       "      <td>...</td>\n",
       "      <td>...</td>\n",
       "      <td>...</td>\n",
       "      <td>...</td>\n",
       "      <td>...</td>\n",
       "      <td>...</td>\n",
       "      <td>...</td>\n",
       "      <td>...</td>\n",
       "      <td>...</td>\n",
       "      <td>...</td>\n",
       "      <td>...</td>\n",
       "      <td>...</td>\n",
       "      <td>...</td>\n",
       "      <td>...</td>\n",
       "      <td>...</td>\n",
       "      <td>...</td>\n",
       "      <td>...</td>\n",
       "      <td>...</td>\n",
       "      <td>...</td>\n",
       "      <td>...</td>\n",
       "    </tr>\n",
       "    <tr>\n",
       "      <th>3215</th>\n",
       "      <td>82.0</td>\n",
       "      <td>2.200000</td>\n",
       "      <td>1.000000</td>\n",
       "      <td>68.0</td>\n",
       "      <td>0.770000</td>\n",
       "      <td>88.00000</td>\n",
       "      <td>sick</td>\n",
       "      <td>0</td>\n",
       "      <td>1</td>\n",
       "      <td>1</td>\n",
       "      <td>...</td>\n",
       "      <td>1</td>\n",
       "      <td>0</td>\n",
       "      <td>1</td>\n",
       "      <td>0</td>\n",
       "      <td>1</td>\n",
       "      <td>0</td>\n",
       "      <td>1</td>\n",
       "      <td>0</td>\n",
       "      <td>1</td>\n",
       "      <td>0</td>\n",
       "    </tr>\n",
       "    <tr>\n",
       "      <th>3216</th>\n",
       "      <td>79.0</td>\n",
       "      <td>1.100000</td>\n",
       "      <td>0.700000</td>\n",
       "      <td>116.0</td>\n",
       "      <td>0.850000</td>\n",
       "      <td>137.00000</td>\n",
       "      <td>sick</td>\n",
       "      <td>0</td>\n",
       "      <td>1</td>\n",
       "      <td>1</td>\n",
       "      <td>...</td>\n",
       "      <td>1</td>\n",
       "      <td>0</td>\n",
       "      <td>1</td>\n",
       "      <td>0</td>\n",
       "      <td>1</td>\n",
       "      <td>0</td>\n",
       "      <td>1</td>\n",
       "      <td>0</td>\n",
       "      <td>1</td>\n",
       "      <td>0</td>\n",
       "    </tr>\n",
       "    <tr>\n",
       "      <th>3217</th>\n",
       "      <td>50.0</td>\n",
       "      <td>4.800000</td>\n",
       "      <td>0.600000</td>\n",
       "      <td>98.0</td>\n",
       "      <td>0.800000</td>\n",
       "      <td>122.00000</td>\n",
       "      <td>sick</td>\n",
       "      <td>1</td>\n",
       "      <td>0</td>\n",
       "      <td>1</td>\n",
       "      <td>...</td>\n",
       "      <td>1</td>\n",
       "      <td>0</td>\n",
       "      <td>1</td>\n",
       "      <td>0</td>\n",
       "      <td>1</td>\n",
       "      <td>0</td>\n",
       "      <td>1</td>\n",
       "      <td>0</td>\n",
       "      <td>1</td>\n",
       "      <td>0</td>\n",
       "    </tr>\n",
       "    <tr>\n",
       "      <th>3218</th>\n",
       "      <td>73.0</td>\n",
       "      <td>0.015000</td>\n",
       "      <td>1.800000</td>\n",
       "      <td>173.0</td>\n",
       "      <td>1.000000</td>\n",
       "      <td>173.00000</td>\n",
       "      <td>sick</td>\n",
       "      <td>1</td>\n",
       "      <td>0</td>\n",
       "      <td>1</td>\n",
       "      <td>...</td>\n",
       "      <td>1</td>\n",
       "      <td>0</td>\n",
       "      <td>1</td>\n",
       "      <td>0</td>\n",
       "      <td>1</td>\n",
       "      <td>0</td>\n",
       "      <td>1</td>\n",
       "      <td>0</td>\n",
       "      <td>1</td>\n",
       "      <td>0</td>\n",
       "    </tr>\n",
       "    <tr>\n",
       "      <th>3219</th>\n",
       "      <td>73.0</td>\n",
       "      <td>6.724731</td>\n",
       "      <td>0.700000</td>\n",
       "      <td>63.0</td>\n",
       "      <td>0.880000</td>\n",
       "      <td>72.00000</td>\n",
       "      <td>sick</td>\n",
       "      <td>0</td>\n",
       "      <td>1</td>\n",
       "      <td>1</td>\n",
       "      <td>...</td>\n",
       "      <td>1</td>\n",
       "      <td>0</td>\n",
       "      <td>1</td>\n",
       "      <td>0</td>\n",
       "      <td>1</td>\n",
       "      <td>0</td>\n",
       "      <td>1</td>\n",
       "      <td>0</td>\n",
       "      <td>1</td>\n",
       "      <td>0</td>\n",
       "    </tr>\n",
       "  </tbody>\n",
       "</table>\n",
       "<p>3220 rows × 47 columns</p>\n",
       "</div>"
      ],
      "text/plain": [
       "       Age       TSH        T3    TT4       T4U        FTI  Category  Sex_F  \\\n",
       "0     41.0  1.300000  2.500000  125.0  1.140000  109.00000  negative      1   \n",
       "1     23.0  4.100000  2.000000  102.0  0.989889  110.65981  negative      1   \n",
       "2     46.0  0.980000  1.963341  109.0  0.910000  120.00000  negative      0   \n",
       "3     70.0  0.160000  1.900000  175.0  0.989889  110.65981  negative      1   \n",
       "4     70.0  0.720000  1.200000   61.0  0.870000   70.00000  negative      1   \n",
       "...    ...       ...       ...    ...       ...        ...       ...    ...   \n",
       "3215  82.0  2.200000  1.000000   68.0  0.770000   88.00000      sick      0   \n",
       "3216  79.0  1.100000  0.700000  116.0  0.850000  137.00000      sick      0   \n",
       "3217  50.0  4.800000  0.600000   98.0  0.800000  122.00000      sick      1   \n",
       "3218  73.0  0.015000  1.800000  173.0  1.000000  173.00000      sick      1   \n",
       "3219  73.0  6.724731  0.700000   63.0  0.880000   72.00000      sick      0   \n",
       "\n",
       "      Sex_M  On Thyroxine_f  ...  Sick_f  Sick_t  Pregnant_f  Pregnant_t  \\\n",
       "0         0               1  ...       1       0           1           0   \n",
       "1         0               1  ...       1       0           1           0   \n",
       "2         1               1  ...       1       0           1           0   \n",
       "3         0               0  ...       1       0           1           0   \n",
       "4         0               1  ...       1       0           1           0   \n",
       "...     ...             ...  ...     ...     ...         ...         ...   \n",
       "3215      1               1  ...       1       0           1           0   \n",
       "3216      1               1  ...       1       0           1           0   \n",
       "3217      0               1  ...       1       0           1           0   \n",
       "3218      0               1  ...       1       0           1           0   \n",
       "3219      1               1  ...       1       0           1           0   \n",
       "\n",
       "      Thyroid Surgery_f  Thyroid Surgery_t  Goitre_f  Goitre_t  Tumor_f  \\\n",
       "0                     1                  0         1         0        1   \n",
       "1                     1                  0         1         0        1   \n",
       "2                     1                  0         1         0        1   \n",
       "3                     1                  0         1         0        1   \n",
       "4                     1                  0         1         0        1   \n",
       "...                 ...                ...       ...       ...      ...   \n",
       "3215                  1                  0         1         0        1   \n",
       "3216                  1                  0         1         0        1   \n",
       "3217                  1                  0         1         0        1   \n",
       "3218                  1                  0         1         0        1   \n",
       "3219                  1                  0         1         0        1   \n",
       "\n",
       "      Tumor_t  \n",
       "0           0  \n",
       "1           0  \n",
       "2           0  \n",
       "3           0  \n",
       "4           0  \n",
       "...       ...  \n",
       "3215        0  \n",
       "3216        0  \n",
       "3217        0  \n",
       "3218        0  \n",
       "3219        0  \n",
       "\n",
       "[3220 rows x 47 columns]"
      ]
     },
     "execution_count": 102,
     "metadata": {},
     "output_type": "execute_result"
    }
   ],
   "source": [
    "data"
   ]
  },
  {
   "cell_type": "code",
   "execution_count": 103,
   "id": "45956e1b",
   "metadata": {},
   "outputs": [],
   "source": [
    "data = data.drop(['Sex_F','On Thyroxine_f', 'Query on Thyroxine_f',\n",
    "       'On Antithyroid Medication_f','I131 Treatment_f','Query Hypothyroid_f', \n",
    "       'Query Hyperthyroid_f','Lithium_f','TSH Measured_f',\n",
    "       'Hypopituitary_f','Psych_f','T3 Measured_f',  \n",
    "       'TT4 Measured_f', 'T4U Measured_f','FTI Measured_f',\n",
    "       'Sick_f','Pregnant_f','Thyroid Surgery_f',\n",
    "       'Goitre_f','Tumor_f'],axis=1)"
   ]
  },
  {
   "cell_type": "code",
   "execution_count": 104,
   "id": "bc7ed18b",
   "metadata": {},
   "outputs": [
    {
     "data": {
      "text/plain": [
       "Index(['Age', 'TSH', 'T3', 'TT4', 'T4U', 'FTI', 'Category', 'Sex_M',\n",
       "       'On Thyroxine_t', 'Query on Thyroxine_t', 'On Antithyroid Medication_t',\n",
       "       'I131 Treatment_t', 'Query Hypothyroid_t', 'Query Hyperthyroid_t',\n",
       "       'Lithium_t', 'TSH Measured_t', 'Hypopituitary_t', 'Psych_t',\n",
       "       'T3 Measured_t', 'TT4 Measured_t', 'T4U Measured_t', 'FTI Measured_t',\n",
       "       'Sick_t', 'Pregnant_t', 'Thyroid Surgery_t', 'Goitre_t', 'Tumor_t'],\n",
       "      dtype='object')"
      ]
     },
     "execution_count": 104,
     "metadata": {},
     "output_type": "execute_result"
    }
   ],
   "source": [
    "data.columns"
   ]
  },
  {
   "cell_type": "markdown",
   "id": "d7fda8f3",
   "metadata": {},
   "source": [
    "### vii. Splitting the Data into X and Y"
   ]
  },
  {
   "cell_type": "code",
   "execution_count": 105,
   "id": "207d7821",
   "metadata": {},
   "outputs": [
    {
     "data": {
      "text/plain": [
       "0    negative\n",
       "1    negative\n",
       "2    negative\n",
       "3    negative\n",
       "4    negative\n",
       "Name: Category, dtype: object"
      ]
     },
     "execution_count": 105,
     "metadata": {},
     "output_type": "execute_result"
    }
   ],
   "source": [
    "# Dependent/Target variable y\n",
    "y = data['Category']\n",
    "y.head()"
   ]
  },
  {
   "cell_type": "code",
   "execution_count": 106,
   "id": "29c52693",
   "metadata": {},
   "outputs": [
    {
     "data": {
      "text/html": [
       "<div>\n",
       "<style scoped>\n",
       "    .dataframe tbody tr th:only-of-type {\n",
       "        vertical-align: middle;\n",
       "    }\n",
       "\n",
       "    .dataframe tbody tr th {\n",
       "        vertical-align: top;\n",
       "    }\n",
       "\n",
       "    .dataframe thead th {\n",
       "        text-align: right;\n",
       "    }\n",
       "</style>\n",
       "<table border=\"1\" class=\"dataframe\">\n",
       "  <thead>\n",
       "    <tr style=\"text-align: right;\">\n",
       "      <th></th>\n",
       "      <th>Age</th>\n",
       "      <th>TSH</th>\n",
       "      <th>T3</th>\n",
       "      <th>TT4</th>\n",
       "      <th>T4U</th>\n",
       "      <th>FTI</th>\n",
       "      <th>Sex_M</th>\n",
       "      <th>On Thyroxine_t</th>\n",
       "      <th>Query on Thyroxine_t</th>\n",
       "      <th>On Antithyroid Medication_t</th>\n",
       "      <th>...</th>\n",
       "      <th>Psych_t</th>\n",
       "      <th>T3 Measured_t</th>\n",
       "      <th>TT4 Measured_t</th>\n",
       "      <th>T4U Measured_t</th>\n",
       "      <th>FTI Measured_t</th>\n",
       "      <th>Sick_t</th>\n",
       "      <th>Pregnant_t</th>\n",
       "      <th>Thyroid Surgery_t</th>\n",
       "      <th>Goitre_t</th>\n",
       "      <th>Tumor_t</th>\n",
       "    </tr>\n",
       "  </thead>\n",
       "  <tbody>\n",
       "    <tr>\n",
       "      <th>0</th>\n",
       "      <td>41.0</td>\n",
       "      <td>1.30</td>\n",
       "      <td>2.500000</td>\n",
       "      <td>125.0</td>\n",
       "      <td>1.140000</td>\n",
       "      <td>109.00000</td>\n",
       "      <td>0</td>\n",
       "      <td>0</td>\n",
       "      <td>0</td>\n",
       "      <td>0</td>\n",
       "      <td>...</td>\n",
       "      <td>0</td>\n",
       "      <td>1</td>\n",
       "      <td>1</td>\n",
       "      <td>1</td>\n",
       "      <td>1</td>\n",
       "      <td>0</td>\n",
       "      <td>0</td>\n",
       "      <td>0</td>\n",
       "      <td>0</td>\n",
       "      <td>0</td>\n",
       "    </tr>\n",
       "    <tr>\n",
       "      <th>1</th>\n",
       "      <td>23.0</td>\n",
       "      <td>4.10</td>\n",
       "      <td>2.000000</td>\n",
       "      <td>102.0</td>\n",
       "      <td>0.989889</td>\n",
       "      <td>110.65981</td>\n",
       "      <td>0</td>\n",
       "      <td>0</td>\n",
       "      <td>0</td>\n",
       "      <td>0</td>\n",
       "      <td>...</td>\n",
       "      <td>0</td>\n",
       "      <td>1</td>\n",
       "      <td>1</td>\n",
       "      <td>0</td>\n",
       "      <td>0</td>\n",
       "      <td>0</td>\n",
       "      <td>0</td>\n",
       "      <td>0</td>\n",
       "      <td>0</td>\n",
       "      <td>0</td>\n",
       "    </tr>\n",
       "    <tr>\n",
       "      <th>2</th>\n",
       "      <td>46.0</td>\n",
       "      <td>0.98</td>\n",
       "      <td>1.963341</td>\n",
       "      <td>109.0</td>\n",
       "      <td>0.910000</td>\n",
       "      <td>120.00000</td>\n",
       "      <td>1</td>\n",
       "      <td>0</td>\n",
       "      <td>0</td>\n",
       "      <td>0</td>\n",
       "      <td>...</td>\n",
       "      <td>0</td>\n",
       "      <td>0</td>\n",
       "      <td>1</td>\n",
       "      <td>1</td>\n",
       "      <td>1</td>\n",
       "      <td>0</td>\n",
       "      <td>0</td>\n",
       "      <td>0</td>\n",
       "      <td>0</td>\n",
       "      <td>0</td>\n",
       "    </tr>\n",
       "    <tr>\n",
       "      <th>3</th>\n",
       "      <td>70.0</td>\n",
       "      <td>0.16</td>\n",
       "      <td>1.900000</td>\n",
       "      <td>175.0</td>\n",
       "      <td>0.989889</td>\n",
       "      <td>110.65981</td>\n",
       "      <td>0</td>\n",
       "      <td>1</td>\n",
       "      <td>0</td>\n",
       "      <td>0</td>\n",
       "      <td>...</td>\n",
       "      <td>0</td>\n",
       "      <td>1</td>\n",
       "      <td>1</td>\n",
       "      <td>0</td>\n",
       "      <td>0</td>\n",
       "      <td>0</td>\n",
       "      <td>0</td>\n",
       "      <td>0</td>\n",
       "      <td>0</td>\n",
       "      <td>0</td>\n",
       "    </tr>\n",
       "    <tr>\n",
       "      <th>4</th>\n",
       "      <td>70.0</td>\n",
       "      <td>0.72</td>\n",
       "      <td>1.200000</td>\n",
       "      <td>61.0</td>\n",
       "      <td>0.870000</td>\n",
       "      <td>70.00000</td>\n",
       "      <td>0</td>\n",
       "      <td>0</td>\n",
       "      <td>0</td>\n",
       "      <td>0</td>\n",
       "      <td>...</td>\n",
       "      <td>0</td>\n",
       "      <td>1</td>\n",
       "      <td>1</td>\n",
       "      <td>1</td>\n",
       "      <td>1</td>\n",
       "      <td>0</td>\n",
       "      <td>0</td>\n",
       "      <td>0</td>\n",
       "      <td>0</td>\n",
       "      <td>0</td>\n",
       "    </tr>\n",
       "  </tbody>\n",
       "</table>\n",
       "<p>5 rows × 26 columns</p>\n",
       "</div>"
      ],
      "text/plain": [
       "    Age   TSH        T3    TT4       T4U        FTI  Sex_M  On Thyroxine_t  \\\n",
       "0  41.0  1.30  2.500000  125.0  1.140000  109.00000      0               0   \n",
       "1  23.0  4.10  2.000000  102.0  0.989889  110.65981      0               0   \n",
       "2  46.0  0.98  1.963341  109.0  0.910000  120.00000      1               0   \n",
       "3  70.0  0.16  1.900000  175.0  0.989889  110.65981      0               1   \n",
       "4  70.0  0.72  1.200000   61.0  0.870000   70.00000      0               0   \n",
       "\n",
       "   Query on Thyroxine_t  On Antithyroid Medication_t  ...  Psych_t  \\\n",
       "0                     0                            0  ...        0   \n",
       "1                     0                            0  ...        0   \n",
       "2                     0                            0  ...        0   \n",
       "3                     0                            0  ...        0   \n",
       "4                     0                            0  ...        0   \n",
       "\n",
       "   T3 Measured_t  TT4 Measured_t  T4U Measured_t  FTI Measured_t  Sick_t  \\\n",
       "0              1               1               1               1       0   \n",
       "1              1               1               0               0       0   \n",
       "2              0               1               1               1       0   \n",
       "3              1               1               0               0       0   \n",
       "4              1               1               1               1       0   \n",
       "\n",
       "   Pregnant_t  Thyroid Surgery_t  Goitre_t  Tumor_t  \n",
       "0           0                  0         0        0  \n",
       "1           0                  0         0        0  \n",
       "2           0                  0         0        0  \n",
       "3           0                  0         0        0  \n",
       "4           0                  0         0        0  \n",
       "\n",
       "[5 rows x 26 columns]"
      ]
     },
     "execution_count": 106,
     "metadata": {},
     "output_type": "execute_result"
    }
   ],
   "source": [
    "# Independent/Predictor variable x\n",
    "x = data.drop(columns=['Category'],axis=1)\n",
    "x.head()"
   ]
  },
  {
   "cell_type": "markdown",
   "id": "53d908a2",
   "metadata": {},
   "source": [
    "### viii. Splitting Data Into Train And Test"
   ]
  },
  {
   "cell_type": "code",
   "execution_count": 107,
   "id": "c5111ae6",
   "metadata": {},
   "outputs": [],
   "source": [
    "x_train,x_test,y_train,y_test = train_test_split(x,y,test_size=0.2,random_state=0)"
   ]
  },
  {
   "cell_type": "code",
   "execution_count": 108,
   "id": "4161c45b",
   "metadata": {},
   "outputs": [
    {
     "data": {
      "text/html": [
       "<div>\n",
       "<style scoped>\n",
       "    .dataframe tbody tr th:only-of-type {\n",
       "        vertical-align: middle;\n",
       "    }\n",
       "\n",
       "    .dataframe tbody tr th {\n",
       "        vertical-align: top;\n",
       "    }\n",
       "\n",
       "    .dataframe thead th {\n",
       "        text-align: right;\n",
       "    }\n",
       "</style>\n",
       "<table border=\"1\" class=\"dataframe\">\n",
       "  <thead>\n",
       "    <tr style=\"text-align: right;\">\n",
       "      <th></th>\n",
       "      <th>Age</th>\n",
       "      <th>TSH</th>\n",
       "      <th>T3</th>\n",
       "      <th>TT4</th>\n",
       "      <th>T4U</th>\n",
       "      <th>FTI</th>\n",
       "      <th>Sex_M</th>\n",
       "      <th>On Thyroxine_t</th>\n",
       "      <th>Query on Thyroxine_t</th>\n",
       "      <th>On Antithyroid Medication_t</th>\n",
       "      <th>...</th>\n",
       "      <th>Psych_t</th>\n",
       "      <th>T3 Measured_t</th>\n",
       "      <th>TT4 Measured_t</th>\n",
       "      <th>T4U Measured_t</th>\n",
       "      <th>FTI Measured_t</th>\n",
       "      <th>Sick_t</th>\n",
       "      <th>Pregnant_t</th>\n",
       "      <th>Thyroid Surgery_t</th>\n",
       "      <th>Goitre_t</th>\n",
       "      <th>Tumor_t</th>\n",
       "    </tr>\n",
       "  </thead>\n",
       "  <tbody>\n",
       "    <tr>\n",
       "      <th>1292</th>\n",
       "      <td>78.0</td>\n",
       "      <td>2.5</td>\n",
       "      <td>1.1</td>\n",
       "      <td>70.0</td>\n",
       "      <td>0.92</td>\n",
       "      <td>76.0</td>\n",
       "      <td>0</td>\n",
       "      <td>0</td>\n",
       "      <td>0</td>\n",
       "      <td>0</td>\n",
       "      <td>...</td>\n",
       "      <td>0</td>\n",
       "      <td>1</td>\n",
       "      <td>1</td>\n",
       "      <td>1</td>\n",
       "      <td>1</td>\n",
       "      <td>0</td>\n",
       "      <td>0</td>\n",
       "      <td>0</td>\n",
       "      <td>0</td>\n",
       "      <td>0</td>\n",
       "    </tr>\n",
       "    <tr>\n",
       "      <th>1651</th>\n",
       "      <td>74.0</td>\n",
       "      <td>5.5</td>\n",
       "      <td>1.4</td>\n",
       "      <td>89.0</td>\n",
       "      <td>0.99</td>\n",
       "      <td>89.0</td>\n",
       "      <td>0</td>\n",
       "      <td>0</td>\n",
       "      <td>0</td>\n",
       "      <td>0</td>\n",
       "      <td>...</td>\n",
       "      <td>0</td>\n",
       "      <td>1</td>\n",
       "      <td>1</td>\n",
       "      <td>1</td>\n",
       "      <td>1</td>\n",
       "      <td>0</td>\n",
       "      <td>0</td>\n",
       "      <td>0</td>\n",
       "      <td>0</td>\n",
       "      <td>0</td>\n",
       "    </tr>\n",
       "    <tr>\n",
       "      <th>406</th>\n",
       "      <td>50.0</td>\n",
       "      <td>28.0</td>\n",
       "      <td>0.2</td>\n",
       "      <td>33.0</td>\n",
       "      <td>0.70</td>\n",
       "      <td>47.0</td>\n",
       "      <td>0</td>\n",
       "      <td>0</td>\n",
       "      <td>0</td>\n",
       "      <td>0</td>\n",
       "      <td>...</td>\n",
       "      <td>0</td>\n",
       "      <td>1</td>\n",
       "      <td>1</td>\n",
       "      <td>1</td>\n",
       "      <td>1</td>\n",
       "      <td>0</td>\n",
       "      <td>0</td>\n",
       "      <td>0</td>\n",
       "      <td>0</td>\n",
       "      <td>0</td>\n",
       "    </tr>\n",
       "    <tr>\n",
       "      <th>1713</th>\n",
       "      <td>73.0</td>\n",
       "      <td>4.1</td>\n",
       "      <td>1.0</td>\n",
       "      <td>89.0</td>\n",
       "      <td>0.91</td>\n",
       "      <td>98.0</td>\n",
       "      <td>0</td>\n",
       "      <td>0</td>\n",
       "      <td>0</td>\n",
       "      <td>0</td>\n",
       "      <td>...</td>\n",
       "      <td>0</td>\n",
       "      <td>1</td>\n",
       "      <td>1</td>\n",
       "      <td>1</td>\n",
       "      <td>1</td>\n",
       "      <td>0</td>\n",
       "      <td>0</td>\n",
       "      <td>0</td>\n",
       "      <td>0</td>\n",
       "      <td>0</td>\n",
       "    </tr>\n",
       "    <tr>\n",
       "      <th>1462</th>\n",
       "      <td>39.0</td>\n",
       "      <td>0.2</td>\n",
       "      <td>2.2</td>\n",
       "      <td>106.0</td>\n",
       "      <td>0.75</td>\n",
       "      <td>141.0</td>\n",
       "      <td>0</td>\n",
       "      <td>0</td>\n",
       "      <td>0</td>\n",
       "      <td>0</td>\n",
       "      <td>...</td>\n",
       "      <td>0</td>\n",
       "      <td>1</td>\n",
       "      <td>1</td>\n",
       "      <td>1</td>\n",
       "      <td>1</td>\n",
       "      <td>0</td>\n",
       "      <td>0</td>\n",
       "      <td>0</td>\n",
       "      <td>0</td>\n",
       "      <td>0</td>\n",
       "    </tr>\n",
       "  </tbody>\n",
       "</table>\n",
       "<p>5 rows × 26 columns</p>\n",
       "</div>"
      ],
      "text/plain": [
       "       Age   TSH   T3    TT4   T4U    FTI  Sex_M  On Thyroxine_t  \\\n",
       "1292  78.0   2.5  1.1   70.0  0.92   76.0      0               0   \n",
       "1651  74.0   5.5  1.4   89.0  0.99   89.0      0               0   \n",
       "406   50.0  28.0  0.2   33.0  0.70   47.0      0               0   \n",
       "1713  73.0   4.1  1.0   89.0  0.91   98.0      0               0   \n",
       "1462  39.0   0.2  2.2  106.0  0.75  141.0      0               0   \n",
       "\n",
       "      Query on Thyroxine_t  On Antithyroid Medication_t  ...  Psych_t  \\\n",
       "1292                     0                            0  ...        0   \n",
       "1651                     0                            0  ...        0   \n",
       "406                      0                            0  ...        0   \n",
       "1713                     0                            0  ...        0   \n",
       "1462                     0                            0  ...        0   \n",
       "\n",
       "      T3 Measured_t  TT4 Measured_t  T4U Measured_t  FTI Measured_t  Sick_t  \\\n",
       "1292              1               1               1               1       0   \n",
       "1651              1               1               1               1       0   \n",
       "406               1               1               1               1       0   \n",
       "1713              1               1               1               1       0   \n",
       "1462              1               1               1               1       0   \n",
       "\n",
       "      Pregnant_t  Thyroid Surgery_t  Goitre_t  Tumor_t  \n",
       "1292           0                  0         0        0  \n",
       "1651           0                  0         0        0  \n",
       "406            0                  0         0        0  \n",
       "1713           0                  0         0        0  \n",
       "1462           0                  0         0        0  \n",
       "\n",
       "[5 rows x 26 columns]"
      ]
     },
     "execution_count": 108,
     "metadata": {},
     "output_type": "execute_result"
    }
   ],
   "source": [
    "x_train.head()"
   ]
  },
  {
   "cell_type": "code",
   "execution_count": 109,
   "id": "922bc9a7",
   "metadata": {},
   "outputs": [
    {
     "data": {
      "text/html": [
       "<div>\n",
       "<style scoped>\n",
       "    .dataframe tbody tr th:only-of-type {\n",
       "        vertical-align: middle;\n",
       "    }\n",
       "\n",
       "    .dataframe tbody tr th {\n",
       "        vertical-align: top;\n",
       "    }\n",
       "\n",
       "    .dataframe thead th {\n",
       "        text-align: right;\n",
       "    }\n",
       "</style>\n",
       "<table border=\"1\" class=\"dataframe\">\n",
       "  <thead>\n",
       "    <tr style=\"text-align: right;\">\n",
       "      <th></th>\n",
       "      <th>Age</th>\n",
       "      <th>TSH</th>\n",
       "      <th>T3</th>\n",
       "      <th>TT4</th>\n",
       "      <th>T4U</th>\n",
       "      <th>FTI</th>\n",
       "      <th>Sex_M</th>\n",
       "      <th>On Thyroxine_t</th>\n",
       "      <th>Query on Thyroxine_t</th>\n",
       "      <th>On Antithyroid Medication_t</th>\n",
       "      <th>...</th>\n",
       "      <th>Psych_t</th>\n",
       "      <th>T3 Measured_t</th>\n",
       "      <th>TT4 Measured_t</th>\n",
       "      <th>T4U Measured_t</th>\n",
       "      <th>FTI Measured_t</th>\n",
       "      <th>Sick_t</th>\n",
       "      <th>Pregnant_t</th>\n",
       "      <th>Thyroid Surgery_t</th>\n",
       "      <th>Goitre_t</th>\n",
       "      <th>Tumor_t</th>\n",
       "    </tr>\n",
       "  </thead>\n",
       "  <tbody>\n",
       "    <tr>\n",
       "      <th>527</th>\n",
       "      <td>61.0</td>\n",
       "      <td>2.100000</td>\n",
       "      <td>1.200000</td>\n",
       "      <td>109.000000</td>\n",
       "      <td>0.780000</td>\n",
       "      <td>140.00000</td>\n",
       "      <td>1</td>\n",
       "      <td>0</td>\n",
       "      <td>0</td>\n",
       "      <td>0</td>\n",
       "      <td>...</td>\n",
       "      <td>0</td>\n",
       "      <td>1</td>\n",
       "      <td>1</td>\n",
       "      <td>1</td>\n",
       "      <td>1</td>\n",
       "      <td>0</td>\n",
       "      <td>0</td>\n",
       "      <td>0</td>\n",
       "      <td>0</td>\n",
       "      <td>0</td>\n",
       "    </tr>\n",
       "    <tr>\n",
       "      <th>883</th>\n",
       "      <td>36.0</td>\n",
       "      <td>7.500000</td>\n",
       "      <td>4.100000</td>\n",
       "      <td>139.000000</td>\n",
       "      <td>1.650000</td>\n",
       "      <td>84.00000</td>\n",
       "      <td>0</td>\n",
       "      <td>0</td>\n",
       "      <td>0</td>\n",
       "      <td>0</td>\n",
       "      <td>...</td>\n",
       "      <td>0</td>\n",
       "      <td>1</td>\n",
       "      <td>1</td>\n",
       "      <td>1</td>\n",
       "      <td>1</td>\n",
       "      <td>0</td>\n",
       "      <td>0</td>\n",
       "      <td>0</td>\n",
       "      <td>0</td>\n",
       "      <td>0</td>\n",
       "    </tr>\n",
       "    <tr>\n",
       "      <th>1692</th>\n",
       "      <td>20.0</td>\n",
       "      <td>0.030000</td>\n",
       "      <td>2.700000</td>\n",
       "      <td>107.000000</td>\n",
       "      <td>1.070000</td>\n",
       "      <td>100.00000</td>\n",
       "      <td>0</td>\n",
       "      <td>0</td>\n",
       "      <td>0</td>\n",
       "      <td>1</td>\n",
       "      <td>...</td>\n",
       "      <td>0</td>\n",
       "      <td>1</td>\n",
       "      <td>1</td>\n",
       "      <td>1</td>\n",
       "      <td>1</td>\n",
       "      <td>0</td>\n",
       "      <td>0</td>\n",
       "      <td>0</td>\n",
       "      <td>0</td>\n",
       "      <td>0</td>\n",
       "    </tr>\n",
       "    <tr>\n",
       "      <th>1223</th>\n",
       "      <td>13.0</td>\n",
       "      <td>6.724731</td>\n",
       "      <td>1.963341</td>\n",
       "      <td>107.804353</td>\n",
       "      <td>0.989889</td>\n",
       "      <td>110.65981</td>\n",
       "      <td>0</td>\n",
       "      <td>0</td>\n",
       "      <td>0</td>\n",
       "      <td>0</td>\n",
       "      <td>...</td>\n",
       "      <td>0</td>\n",
       "      <td>0</td>\n",
       "      <td>0</td>\n",
       "      <td>0</td>\n",
       "      <td>0</td>\n",
       "      <td>0</td>\n",
       "      <td>0</td>\n",
       "      <td>0</td>\n",
       "      <td>0</td>\n",
       "      <td>0</td>\n",
       "    </tr>\n",
       "    <tr>\n",
       "      <th>1570</th>\n",
       "      <td>36.0</td>\n",
       "      <td>1.900000</td>\n",
       "      <td>1.963341</td>\n",
       "      <td>123.000000</td>\n",
       "      <td>1.160000</td>\n",
       "      <td>107.00000</td>\n",
       "      <td>0</td>\n",
       "      <td>0</td>\n",
       "      <td>0</td>\n",
       "      <td>0</td>\n",
       "      <td>...</td>\n",
       "      <td>0</td>\n",
       "      <td>0</td>\n",
       "      <td>1</td>\n",
       "      <td>1</td>\n",
       "      <td>1</td>\n",
       "      <td>0</td>\n",
       "      <td>0</td>\n",
       "      <td>0</td>\n",
       "      <td>0</td>\n",
       "      <td>0</td>\n",
       "    </tr>\n",
       "  </tbody>\n",
       "</table>\n",
       "<p>5 rows × 26 columns</p>\n",
       "</div>"
      ],
      "text/plain": [
       "       Age       TSH        T3         TT4       T4U        FTI  Sex_M  \\\n",
       "527   61.0  2.100000  1.200000  109.000000  0.780000  140.00000      1   \n",
       "883   36.0  7.500000  4.100000  139.000000  1.650000   84.00000      0   \n",
       "1692  20.0  0.030000  2.700000  107.000000  1.070000  100.00000      0   \n",
       "1223  13.0  6.724731  1.963341  107.804353  0.989889  110.65981      0   \n",
       "1570  36.0  1.900000  1.963341  123.000000  1.160000  107.00000      0   \n",
       "\n",
       "      On Thyroxine_t  Query on Thyroxine_t  On Antithyroid Medication_t  ...  \\\n",
       "527                0                     0                            0  ...   \n",
       "883                0                     0                            0  ...   \n",
       "1692               0                     0                            1  ...   \n",
       "1223               0                     0                            0  ...   \n",
       "1570               0                     0                            0  ...   \n",
       "\n",
       "      Psych_t  T3 Measured_t  TT4 Measured_t  T4U Measured_t  FTI Measured_t  \\\n",
       "527         0              1               1               1               1   \n",
       "883         0              1               1               1               1   \n",
       "1692        0              1               1               1               1   \n",
       "1223        0              0               0               0               0   \n",
       "1570        0              0               1               1               1   \n",
       "\n",
       "      Sick_t  Pregnant_t  Thyroid Surgery_t  Goitre_t  Tumor_t  \n",
       "527        0           0                  0         0        0  \n",
       "883        0           0                  0         0        0  \n",
       "1692       0           0                  0         0        0  \n",
       "1223       0           0                  0         0        0  \n",
       "1570       0           0                  0         0        0  \n",
       "\n",
       "[5 rows x 26 columns]"
      ]
     },
     "execution_count": 109,
     "metadata": {},
     "output_type": "execute_result"
    }
   ],
   "source": [
    "x_test.head()"
   ]
  },
  {
   "cell_type": "code",
   "execution_count": 110,
   "id": "21b40d33",
   "metadata": {},
   "outputs": [
    {
     "data": {
      "text/plain": [
       "1292        negative\n",
       "1651        negative\n",
       "406         negative\n",
       "1713        negative\n",
       "1462        negative\n",
       "            ...     \n",
       "763         negative\n",
       "835         negative\n",
       "1653    hyperthyroid\n",
       "2607        negative\n",
       "2732        negative\n",
       "Name: Category, Length: 2576, dtype: object"
      ]
     },
     "execution_count": 110,
     "metadata": {},
     "output_type": "execute_result"
    }
   ],
   "source": [
    "y_train"
   ]
  },
  {
   "cell_type": "code",
   "execution_count": 111,
   "id": "e7b995ea",
   "metadata": {},
   "outputs": [
    {
     "data": {
      "text/plain": [
       "527     negative\n",
       "883     negative\n",
       "1692    negative\n",
       "1223    negative\n",
       "1570    negative\n",
       "          ...   \n",
       "396     negative\n",
       "76      negative\n",
       "1051    negative\n",
       "1503    negative\n",
       "1217    negative\n",
       "Name: Category, Length: 644, dtype: object"
      ]
     },
     "execution_count": 111,
     "metadata": {},
     "output_type": "execute_result"
    }
   ],
   "source": [
    "y_test"
   ]
  },
  {
   "cell_type": "markdown",
   "id": "d33cc28d",
   "metadata": {},
   "source": [
    "### ix. Handling Imbalance Data"
   ]
  },
  {
   "cell_type": "code",
   "execution_count": 112,
   "id": "067309d6",
   "metadata": {},
   "outputs": [
    {
     "name": "stderr",
     "output_type": "stream",
     "text": [
      "C:\\ProgramData\\Anaconda3\\lib\\site-packages\\seaborn\\_decorators.py:36: FutureWarning: Pass the following variable as a keyword arg: x. From version 0.12, the only valid positional argument will be `data`, and passing other arguments without an explicit keyword will result in an error or misinterpretation.\n",
      "  warnings.warn(\n"
     ]
    },
    {
     "data": {
      "text/plain": [
       "<AxesSubplot:xlabel='Category', ylabel='count'>"
      ]
     },
     "execution_count": 112,
     "metadata": {},
     "output_type": "execute_result"
    },
    {
     "data": {
      "image/png": "[encoded data removed]",
      "text/plain": [
       "<Figure size 640x480 with 1 Axes>"
      ]
     },
     "metadata": {},
     "output_type": "display_data"
    }
   ],
   "source": [
    "# Visulaizing Imbalance in the Train Data\n",
    "sns.countplot(y_train)"
   ]
  },
  {
   "cell_type": "code",
   "execution_count": 113,
   "id": "0d1d7278",
   "metadata": {},
   "outputs": [
    {
     "name": "stderr",
     "output_type": "stream",
     "text": [
      "C:\\ProgramData\\Anaconda3\\lib\\site-packages\\seaborn\\_decorators.py:36: FutureWarning: Pass the following variable as a keyword arg: x. From version 0.12, the only valid positional argument will be `data`, and passing other arguments without an explicit keyword will result in an error or misinterpretation.\n",
      "  warnings.warn(\n"
     ]
    },
    {
     "data": {
      "text/plain": [
       "<AxesSubplot:xlabel='Category', ylabel='count'>"
      ]
     },
     "execution_count": 113,
     "metadata": {},
     "output_type": "execute_result"
    },
    {
     "data": {
      "image/png": "[encoded data removed]",
      "text/plain": [
       "<Figure size 640x480 with 1 Axes>"
      ]
     },
     "metadata": {},
     "output_type": "display_data"
    }
   ],
   "source": [
    "# Visulaizing Imbalance in the Test Data\n",
    "sns.countplot(y_test)"
   ]
  },
  {
   "cell_type": "code",
   "execution_count": 114,
   "id": "d7987f3e",
   "metadata": {},
   "outputs": [],
   "source": [
    "# Balancing using SMOTE\n",
    "os = SMOTE(random_state=0,k_neighbors=1)\n",
    "x_train, y_train = os.fit_resample(x_train, y_train)\n",
    "x_test, y_test = os.fit_resample(x_test, y_test)"
   ]
  },
  {
   "cell_type": "code",
   "execution_count": 115,
   "id": "8b9f5834",
   "metadata": {},
   "outputs": [
    {
     "name": "stderr",
     "output_type": "stream",
     "text": [
      "C:\\ProgramData\\Anaconda3\\lib\\site-packages\\seaborn\\_decorators.py:36: FutureWarning: Pass the following variable as a keyword arg: x. From version 0.12, the only valid positional argument will be `data`, and passing other arguments without an explicit keyword will result in an error or misinterpretation.\n",
      "  warnings.warn(\n"
     ]
    },
    {
     "data": {
      "text/plain": [
       "<AxesSubplot:xlabel='Category', ylabel='count'>"
      ]
     },
     "execution_count": 115,
     "metadata": {},
     "output_type": "execute_result"
    },
    {
     "data": {
      "image/png": "[encoded data removed]",
      "text/plain": [
       "<Figure size 640x480 with 1 Axes>"
      ]
     },
     "metadata": {},
     "output_type": "display_data"
    }
   ],
   "source": [
    "sns.countplot(y_train)"
   ]
  },
  {
   "cell_type": "code",
   "execution_count": 116,
   "id": "f3872807",
   "metadata": {},
   "outputs": [
    {
     "name": "stderr",
     "output_type": "stream",
     "text": [
      "C:\\ProgramData\\Anaconda3\\lib\\site-packages\\seaborn\\_decorators.py:36: FutureWarning: Pass the following variable as a keyword arg: x. From version 0.12, the only valid positional argument will be `data`, and passing other arguments without an explicit keyword will result in an error or misinterpretation.\n",
      "  warnings.warn(\n"
     ]
    },
    {
     "data": {
      "text/plain": [
       "<AxesSubplot:xlabel='Category', ylabel='count'>"
      ]
     },
     "execution_count": 116,
     "metadata": {},
     "output_type": "execute_result"
    },
    {
     "data": {
      "image/png": "[encoded data removed]",
      "text/plain": [
       "<Figure size 640x480 with 1 Axes>"
      ]
     },
     "metadata": {},
     "output_type": "display_data"
    }
   ],
   "source": [
    "sns.countplot(y_test)"
   ]
  },
  {
   "cell_type": "markdown",
   "id": "cdbaa4b7",
   "metadata": {},
   "source": [
    "### x. Applying StandardScaler"
   ]
  },
  {
   "cell_type": "code",
   "execution_count": 117,
   "id": "0febf933",
   "metadata": {},
   "outputs": [
    {
     "data": {
      "text/plain": [
       "Index(['Age', 'TSH', 'T3', 'TT4', 'T4U', 'FTI', 'Sex_M', 'On Thyroxine_t',\n",
       "       'Query on Thyroxine_t', 'On Antithyroid Medication_t',\n",
       "       'I131 Treatment_t', 'Query Hypothyroid_t', 'Query Hyperthyroid_t',\n",
       "       'Lithium_t', 'TSH Measured_t', 'Hypopituitary_t', 'Psych_t',\n",
       "       'T3 Measured_t', 'TT4 Measured_t', 'T4U Measured_t', 'FTI Measured_t',\n",
       "       'Sick_t', 'Pregnant_t', 'Thyroid Surgery_t', 'Goitre_t', 'Tumor_t'],\n",
       "      dtype='object')"
      ]
     },
     "execution_count": 117,
     "metadata": {},
     "output_type": "execute_result"
    }
   ],
   "source": [
    "name = x.columns\n",
    "name"
   ]
  },
  {
   "cell_type": "code",
   "execution_count": 118,
   "id": "3898c5ea",
   "metadata": {},
   "outputs": [
    {
     "data": {
      "text/plain": [
       "array([[ 1.26038161, -0.22612786, -0.72828588, ..., -0.06042599,\n",
       "        -0.04528334, -0.15866577],\n",
       "       [ 1.04604006, -0.13115448, -0.48731945, ..., -0.06042599,\n",
       "        -0.04528334, -0.15866577],\n",
       "       [-0.24000927,  0.58114582, -1.45118516, ..., -0.06042599,\n",
       "        -0.04528334, -0.15866577],\n",
       "       ...,\n",
       "       [ 0.51018617, -0.30261525, -0.80860802, ..., -0.06042599,\n",
       "        -0.04528334, -0.15866577],\n",
       "       [ 0.40301539,  0.10627895, -0.74676164, ..., -0.06042599,\n",
       "        -0.04528334, -0.15866577],\n",
       "       [ 1.63547933, -0.27154324, -0.76332133, ..., -0.06042599,\n",
       "        -0.04528334, -0.15866577]])"
      ]
     },
     "execution_count": 118,
     "metadata": {},
     "output_type": "execute_result"
    }
   ],
   "source": [
    "scale = StandardScaler()\n",
    "x_train_scaled = scale.fit_transform(x_train)\n",
    "x_train_scaled"
   ]
  },
  {
   "cell_type": "code",
   "execution_count": 119,
   "id": "9158ed08",
   "metadata": {},
   "outputs": [
    {
     "data": {
      "text/html": [
       "<div>\n",
       "<style scoped>\n",
       "    .dataframe tbody tr th:only-of-type {\n",
       "        vertical-align: middle;\n",
       "    }\n",
       "\n",
       "    .dataframe tbody tr th {\n",
       "        vertical-align: top;\n",
       "    }\n",
       "\n",
       "    .dataframe thead th {\n",
       "        text-align: right;\n",
       "    }\n",
       "</style>\n",
       "<table border=\"1\" class=\"dataframe\">\n",
       "  <thead>\n",
       "    <tr style=\"text-align: right;\">\n",
       "      <th></th>\n",
       "      <th>Age</th>\n",
       "      <th>TSH</th>\n",
       "      <th>T3</th>\n",
       "      <th>TT4</th>\n",
       "      <th>T4U</th>\n",
       "      <th>FTI</th>\n",
       "      <th>Sex_M</th>\n",
       "      <th>On Thyroxine_t</th>\n",
       "      <th>Query on Thyroxine_t</th>\n",
       "      <th>On Antithyroid Medication_t</th>\n",
       "      <th>...</th>\n",
       "      <th>Psych_t</th>\n",
       "      <th>T3 Measured_t</th>\n",
       "      <th>TT4 Measured_t</th>\n",
       "      <th>T4U Measured_t</th>\n",
       "      <th>FTI Measured_t</th>\n",
       "      <th>Sick_t</th>\n",
       "      <th>Pregnant_t</th>\n",
       "      <th>Thyroid Surgery_t</th>\n",
       "      <th>Goitre_t</th>\n",
       "      <th>Tumor_t</th>\n",
       "    </tr>\n",
       "  </thead>\n",
       "  <tbody>\n",
       "    <tr>\n",
       "      <th>0</th>\n",
       "      <td>1.260382</td>\n",
       "      <td>-0.226128</td>\n",
       "      <td>-0.728286</td>\n",
       "      <td>-0.820968</td>\n",
       "      <td>-0.256307</td>\n",
       "      <td>-0.834244</td>\n",
       "      <td>-0.415504</td>\n",
       "      <td>-0.181326</td>\n",
       "      <td>-0.068433</td>\n",
       "      <td>-0.055489</td>\n",
       "      <td>...</td>\n",
       "      <td>-0.120552</td>\n",
       "      <td>0.460330</td>\n",
       "      <td>0.161653</td>\n",
       "      <td>0.27633</td>\n",
       "      <td>0.276092</td>\n",
       "      <td>-0.13305</td>\n",
       "      <td>-0.064994</td>\n",
       "      <td>-0.060426</td>\n",
       "      <td>-0.045283</td>\n",
       "      <td>-0.158666</td>\n",
       "    </tr>\n",
       "    <tr>\n",
       "      <th>1</th>\n",
       "      <td>1.046040</td>\n",
       "      <td>-0.131154</td>\n",
       "      <td>-0.487319</td>\n",
       "      <td>-0.487723</td>\n",
       "      <td>0.135098</td>\n",
       "      <td>-0.606270</td>\n",
       "      <td>-0.415504</td>\n",
       "      <td>-0.181326</td>\n",
       "      <td>-0.068433</td>\n",
       "      <td>-0.055489</td>\n",
       "      <td>...</td>\n",
       "      <td>-0.120552</td>\n",
       "      <td>0.460330</td>\n",
       "      <td>0.161653</td>\n",
       "      <td>0.27633</td>\n",
       "      <td>0.276092</td>\n",
       "      <td>-0.13305</td>\n",
       "      <td>-0.064994</td>\n",
       "      <td>-0.060426</td>\n",
       "      <td>-0.045283</td>\n",
       "      <td>-0.158666</td>\n",
       "    </tr>\n",
       "    <tr>\n",
       "      <th>2</th>\n",
       "      <td>-0.240009</td>\n",
       "      <td>0.581146</td>\n",
       "      <td>-1.451185</td>\n",
       "      <td>-1.469919</td>\n",
       "      <td>-1.486436</td>\n",
       "      <td>-1.342802</td>\n",
       "      <td>-0.415504</td>\n",
       "      <td>-0.181326</td>\n",
       "      <td>-0.068433</td>\n",
       "      <td>-0.055489</td>\n",
       "      <td>...</td>\n",
       "      <td>-0.120552</td>\n",
       "      <td>0.460330</td>\n",
       "      <td>0.161653</td>\n",
       "      <td>0.27633</td>\n",
       "      <td>0.276092</td>\n",
       "      <td>-0.13305</td>\n",
       "      <td>-0.064994</td>\n",
       "      <td>-0.060426</td>\n",
       "      <td>-0.045283</td>\n",
       "      <td>-0.158666</td>\n",
       "    </tr>\n",
       "    <tr>\n",
       "      <th>3</th>\n",
       "      <td>0.992455</td>\n",
       "      <td>-0.175475</td>\n",
       "      <td>-0.808608</td>\n",
       "      <td>-0.487723</td>\n",
       "      <td>-0.312222</td>\n",
       "      <td>-0.448442</td>\n",
       "      <td>-0.415504</td>\n",
       "      <td>-0.181326</td>\n",
       "      <td>-0.068433</td>\n",
       "      <td>-0.055489</td>\n",
       "      <td>...</td>\n",
       "      <td>-0.120552</td>\n",
       "      <td>0.460330</td>\n",
       "      <td>0.161653</td>\n",
       "      <td>0.27633</td>\n",
       "      <td>0.276092</td>\n",
       "      <td>-0.13305</td>\n",
       "      <td>-0.064994</td>\n",
       "      <td>-0.060426</td>\n",
       "      <td>-0.045283</td>\n",
       "      <td>-0.158666</td>\n",
       "    </tr>\n",
       "    <tr>\n",
       "      <th>4</th>\n",
       "      <td>-0.829449</td>\n",
       "      <td>-0.298941</td>\n",
       "      <td>0.155258</td>\n",
       "      <td>-0.189556</td>\n",
       "      <td>-1.206862</td>\n",
       "      <td>0.305627</td>\n",
       "      <td>-0.415504</td>\n",
       "      <td>-0.181326</td>\n",
       "      <td>-0.068433</td>\n",
       "      <td>-0.055489</td>\n",
       "      <td>...</td>\n",
       "      <td>-0.120552</td>\n",
       "      <td>0.460330</td>\n",
       "      <td>0.161653</td>\n",
       "      <td>0.27633</td>\n",
       "      <td>0.276092</td>\n",
       "      <td>-0.13305</td>\n",
       "      <td>-0.064994</td>\n",
       "      <td>-0.060426</td>\n",
       "      <td>-0.045283</td>\n",
       "      <td>-0.158666</td>\n",
       "    </tr>\n",
       "    <tr>\n",
       "      <th>...</th>\n",
       "      <td>...</td>\n",
       "      <td>...</td>\n",
       "      <td>...</td>\n",
       "      <td>...</td>\n",
       "      <td>...</td>\n",
       "      <td>...</td>\n",
       "      <td>...</td>\n",
       "      <td>...</td>\n",
       "      <td>...</td>\n",
       "      <td>...</td>\n",
       "      <td>...</td>\n",
       "      <td>...</td>\n",
       "      <td>...</td>\n",
       "      <td>...</td>\n",
       "      <td>...</td>\n",
       "      <td>...</td>\n",
       "      <td>...</td>\n",
       "      <td>...</td>\n",
       "      <td>...</td>\n",
       "      <td>...</td>\n",
       "      <td>...</td>\n",
       "    </tr>\n",
       "    <tr>\n",
       "      <th>8791</th>\n",
       "      <td>1.064665</td>\n",
       "      <td>-0.160260</td>\n",
       "      <td>-1.104038</td>\n",
       "      <td>0.208200</td>\n",
       "      <td>-0.647712</td>\n",
       "      <td>0.487087</td>\n",
       "      <td>-0.415504</td>\n",
       "      <td>-0.181326</td>\n",
       "      <td>-0.068433</td>\n",
       "      <td>-0.055489</td>\n",
       "      <td>...</td>\n",
       "      <td>-0.120552</td>\n",
       "      <td>0.460330</td>\n",
       "      <td>0.161653</td>\n",
       "      <td>0.27633</td>\n",
       "      <td>0.276092</td>\n",
       "      <td>-0.13305</td>\n",
       "      <td>-0.064994</td>\n",
       "      <td>-0.060426</td>\n",
       "      <td>-0.045283</td>\n",
       "      <td>-0.158666</td>\n",
       "    </tr>\n",
       "    <tr>\n",
       "      <th>8792</th>\n",
       "      <td>-0.384947</td>\n",
       "      <td>-0.050910</td>\n",
       "      <td>-0.992738</td>\n",
       "      <td>-1.370554</td>\n",
       "      <td>-1.219418</td>\n",
       "      <td>-1.269411</td>\n",
       "      <td>-0.415504</td>\n",
       "      <td>-0.181326</td>\n",
       "      <td>-0.068433</td>\n",
       "      <td>-0.055489</td>\n",
       "      <td>...</td>\n",
       "      <td>-0.120552</td>\n",
       "      <td>-2.172353</td>\n",
       "      <td>0.161653</td>\n",
       "      <td>0.27633</td>\n",
       "      <td>0.276092</td>\n",
       "      <td>-0.13305</td>\n",
       "      <td>-0.064994</td>\n",
       "      <td>-0.060426</td>\n",
       "      <td>-0.045283</td>\n",
       "      <td>-0.158666</td>\n",
       "    </tr>\n",
       "    <tr>\n",
       "      <th>8793</th>\n",
       "      <td>0.510186</td>\n",
       "      <td>-0.302615</td>\n",
       "      <td>-0.808608</td>\n",
       "      <td>-0.273381</td>\n",
       "      <td>-0.796948</td>\n",
       "      <td>-0.011964</td>\n",
       "      <td>-0.415504</td>\n",
       "      <td>-0.181326</td>\n",
       "      <td>-0.068433</td>\n",
       "      <td>-0.055489</td>\n",
       "      <td>...</td>\n",
       "      <td>-0.120552</td>\n",
       "      <td>0.460330</td>\n",
       "      <td>0.161653</td>\n",
       "      <td>0.27633</td>\n",
       "      <td>0.276092</td>\n",
       "      <td>-0.13305</td>\n",
       "      <td>-0.064994</td>\n",
       "      <td>-0.060426</td>\n",
       "      <td>-0.045283</td>\n",
       "      <td>-0.158666</td>\n",
       "    </tr>\n",
       "    <tr>\n",
       "      <th>8794</th>\n",
       "      <td>0.403015</td>\n",
       "      <td>0.106279</td>\n",
       "      <td>-0.746762</td>\n",
       "      <td>-0.528180</td>\n",
       "      <td>-0.871372</td>\n",
       "      <td>-0.295992</td>\n",
       "      <td>2.406715</td>\n",
       "      <td>-0.181326</td>\n",
       "      <td>-0.068433</td>\n",
       "      <td>-0.055489</td>\n",
       "      <td>...</td>\n",
       "      <td>-0.120552</td>\n",
       "      <td>0.460330</td>\n",
       "      <td>0.161653</td>\n",
       "      <td>0.27633</td>\n",
       "      <td>0.276092</td>\n",
       "      <td>-0.13305</td>\n",
       "      <td>-0.064994</td>\n",
       "      <td>-0.060426</td>\n",
       "      <td>-0.045283</td>\n",
       "      <td>-0.158666</td>\n",
       "    </tr>\n",
       "    <tr>\n",
       "      <th>8795</th>\n",
       "      <td>1.635479</td>\n",
       "      <td>-0.271543</td>\n",
       "      <td>-0.763321</td>\n",
       "      <td>-0.115574</td>\n",
       "      <td>0.589554</td>\n",
       "      <td>-0.359173</td>\n",
       "      <td>-0.415504</td>\n",
       "      <td>-0.181326</td>\n",
       "      <td>-0.068433</td>\n",
       "      <td>-0.055489</td>\n",
       "      <td>...</td>\n",
       "      <td>-0.120552</td>\n",
       "      <td>0.460330</td>\n",
       "      <td>0.161653</td>\n",
       "      <td>0.27633</td>\n",
       "      <td>0.276092</td>\n",
       "      <td>-0.13305</td>\n",
       "      <td>-0.064994</td>\n",
       "      <td>-0.060426</td>\n",
       "      <td>-0.045283</td>\n",
       "      <td>-0.158666</td>\n",
       "    </tr>\n",
       "  </tbody>\n",
       "</table>\n",
       "<p>8796 rows × 26 columns</p>\n",
       "</div>"
      ],
      "text/plain": [
       "           Age       TSH        T3       TT4       T4U       FTI     Sex_M  \\\n",
       "0     1.260382 -0.226128 -0.728286 -0.820968 -0.256307 -0.834244 -0.415504   \n",
       "1     1.046040 -0.131154 -0.487319 -0.487723  0.135098 -0.606270 -0.415504   \n",
       "2    -0.240009  0.581146 -1.451185 -1.469919 -1.486436 -1.342802 -0.415504   \n",
       "3     0.992455 -0.175475 -0.808608 -0.487723 -0.312222 -0.448442 -0.415504   \n",
       "4    -0.829449 -0.298941  0.155258 -0.189556 -1.206862  0.305627 -0.415504   \n",
       "...        ...       ...       ...       ...       ...       ...       ...   \n",
       "8791  1.064665 -0.160260 -1.104038  0.208200 -0.647712  0.487087 -0.415504   \n",
       "8792 -0.384947 -0.050910 -0.992738 -1.370554 -1.219418 -1.269411 -0.415504   \n",
       "8793  0.510186 -0.302615 -0.808608 -0.273381 -0.796948 -0.011964 -0.415504   \n",
       "8794  0.403015  0.106279 -0.746762 -0.528180 -0.871372 -0.295992  2.406715   \n",
       "8795  1.635479 -0.271543 -0.763321 -0.115574  0.589554 -0.359173 -0.415504   \n",
       "\n",
       "      On Thyroxine_t  Query on Thyroxine_t  On Antithyroid Medication_t  ...  \\\n",
       "0          -0.181326             -0.068433                    -0.055489  ...   \n",
       "1          -0.181326             -0.068433                    -0.055489  ...   \n",
       "2          -0.181326             -0.068433                    -0.055489  ...   \n",
       "3          -0.181326             -0.068433                    -0.055489  ...   \n",
       "4          -0.181326             -0.068433                    -0.055489  ...   \n",
       "...              ...                   ...                          ...  ...   \n",
       "8791       -0.181326             -0.068433                    -0.055489  ...   \n",
       "8792       -0.181326             -0.068433                    -0.055489  ...   \n",
       "8793       -0.181326             -0.068433                    -0.055489  ...   \n",
       "8794       -0.181326             -0.068433                    -0.055489  ...   \n",
       "8795       -0.181326             -0.068433                    -0.055489  ...   \n",
       "\n",
       "       Psych_t  T3 Measured_t  TT4 Measured_t  T4U Measured_t  FTI Measured_t  \\\n",
       "0    -0.120552       0.460330        0.161653         0.27633        0.276092   \n",
       "1    -0.120552       0.460330        0.161653         0.27633        0.276092   \n",
       "2    -0.120552       0.460330        0.161653         0.27633        0.276092   \n",
       "3    -0.120552       0.460330        0.161653         0.27633        0.276092   \n",
       "4    -0.120552       0.460330        0.161653         0.27633        0.276092   \n",
       "...        ...            ...             ...             ...             ...   \n",
       "8791 -0.120552       0.460330        0.161653         0.27633        0.276092   \n",
       "8792 -0.120552      -2.172353        0.161653         0.27633        0.276092   \n",
       "8793 -0.120552       0.460330        0.161653         0.27633        0.276092   \n",
       "8794 -0.120552       0.460330        0.161653         0.27633        0.276092   \n",
       "8795 -0.120552       0.460330        0.161653         0.27633        0.276092   \n",
       "\n",
       "       Sick_t  Pregnant_t  Thyroid Surgery_t  Goitre_t   Tumor_t  \n",
       "0    -0.13305   -0.064994          -0.060426 -0.045283 -0.158666  \n",
       "1    -0.13305   -0.064994          -0.060426 -0.045283 -0.158666  \n",
       "2    -0.13305   -0.064994          -0.060426 -0.045283 -0.158666  \n",
       "3    -0.13305   -0.064994          -0.060426 -0.045283 -0.158666  \n",
       "4    -0.13305   -0.064994          -0.060426 -0.045283 -0.158666  \n",
       "...       ...         ...                ...       ...       ...  \n",
       "8791 -0.13305   -0.064994          -0.060426 -0.045283 -0.158666  \n",
       "8792 -0.13305   -0.064994          -0.060426 -0.045283 -0.158666  \n",
       "8793 -0.13305   -0.064994          -0.060426 -0.045283 -0.158666  \n",
       "8794 -0.13305   -0.064994          -0.060426 -0.045283 -0.158666  \n",
       "8795 -0.13305   -0.064994          -0.060426 -0.045283 -0.158666  \n",
       "\n",
       "[8796 rows x 26 columns]"
      ]
     },
     "execution_count": 119,
     "metadata": {},
     "output_type": "execute_result"
    }
   ],
   "source": [
    "x_train = pd.DataFrame(x_train_scaled,columns=name)\n",
    "x_train"
   ]
  },
  {
   "cell_type": "code",
   "execution_count": 120,
   "id": "4622c777",
   "metadata": {},
   "outputs": [
    {
     "data": {
      "text/plain": [
       "array([[ 0.22346002, -0.25283978, -0.63013028, ..., -0.06391665,\n",
       "        -0.06391665, -0.07980869],\n",
       "       [-1.19027974, -0.10429942,  1.69249708, ..., -0.06391665,\n",
       "        -0.06391665, -0.07980869],\n",
       "       [-2.09507318, -0.30978025,  0.5712287 , ..., -0.06391665,\n",
       "        -0.06391665, -0.07980869],\n",
       "       ...,\n",
       "       [ 1.18369952, -0.28979224, -1.18451281, ..., -0.06391665,\n",
       "        -0.06391665, -0.07980869],\n",
       "       [ 1.23589838, -0.27504101, -0.99968404, ..., -0.06391665,\n",
       "        -0.06391665, -0.07980869],\n",
       "       [ 0.14103739, -0.04779482, -0.81218091, ..., -0.06391665,\n",
       "        -0.06391665, -0.07980869]])"
      ]
     },
     "execution_count": 120,
     "metadata": {},
     "output_type": "execute_result"
    }
   ],
   "source": [
    "scale = StandardScaler()\n",
    "x_test_scaled = scale.fit_transform(x_test)\n",
    "x_test_scaled"
   ]
  },
  {
   "cell_type": "code",
   "execution_count": 121,
   "id": "a6a3f083",
   "metadata": {},
   "outputs": [
    {
     "data": {
      "text/html": [
       "<div>\n",
       "<style scoped>\n",
       "    .dataframe tbody tr th:only-of-type {\n",
       "        vertical-align: middle;\n",
       "    }\n",
       "\n",
       "    .dataframe tbody tr th {\n",
       "        vertical-align: top;\n",
       "    }\n",
       "\n",
       "    .dataframe thead th {\n",
       "        text-align: right;\n",
       "    }\n",
       "</style>\n",
       "<table border=\"1\" class=\"dataframe\">\n",
       "  <thead>\n",
       "    <tr style=\"text-align: right;\">\n",
       "      <th></th>\n",
       "      <th>Age</th>\n",
       "      <th>TSH</th>\n",
       "      <th>T3</th>\n",
       "      <th>TT4</th>\n",
       "      <th>T4U</th>\n",
       "      <th>FTI</th>\n",
       "      <th>Sex_M</th>\n",
       "      <th>On Thyroxine_t</th>\n",
       "      <th>Query on Thyroxine_t</th>\n",
       "      <th>On Antithyroid Medication_t</th>\n",
       "      <th>...</th>\n",
       "      <th>Psych_t</th>\n",
       "      <th>T3 Measured_t</th>\n",
       "      <th>TT4 Measured_t</th>\n",
       "      <th>T4U Measured_t</th>\n",
       "      <th>FTI Measured_t</th>\n",
       "      <th>Sick_t</th>\n",
       "      <th>Pregnant_t</th>\n",
       "      <th>Thyroid Surgery_t</th>\n",
       "      <th>Goitre_t</th>\n",
       "      <th>Tumor_t</th>\n",
       "    </tr>\n",
       "  </thead>\n",
       "  <tbody>\n",
       "    <tr>\n",
       "      <th>0</th>\n",
       "      <td>0.223460</td>\n",
       "      <td>-0.252840</td>\n",
       "      <td>-0.630130</td>\n",
       "      <td>-0.015132</td>\n",
       "      <td>-0.875231</td>\n",
       "      <td>0.322138</td>\n",
       "      <td>2.400943</td>\n",
       "      <td>-0.171219</td>\n",
       "      <td>-0.056344</td>\n",
       "      <td>-0.060248</td>\n",
       "      <td>...</td>\n",
       "      <td>-0.100228</td>\n",
       "      <td>0.456161</td>\n",
       "      <td>0.113228</td>\n",
       "      <td>0.228760</td>\n",
       "      <td>0.227664</td>\n",
       "      <td>-0.124943</td>\n",
       "      <td>-0.063917</td>\n",
       "      <td>-0.063917</td>\n",
       "      <td>-0.063917</td>\n",
       "      <td>-0.079809</td>\n",
       "    </tr>\n",
       "    <tr>\n",
       "      <th>1</th>\n",
       "      <td>-1.190280</td>\n",
       "      <td>-0.104299</td>\n",
       "      <td>1.692497</td>\n",
       "      <td>0.580843</td>\n",
       "      <td>4.093864</td>\n",
       "      <td>-0.639929</td>\n",
       "      <td>-0.416503</td>\n",
       "      <td>-0.171219</td>\n",
       "      <td>-0.056344</td>\n",
       "      <td>-0.060248</td>\n",
       "      <td>...</td>\n",
       "      <td>-0.100228</td>\n",
       "      <td>0.456161</td>\n",
       "      <td>0.113228</td>\n",
       "      <td>0.228760</td>\n",
       "      <td>0.227664</td>\n",
       "      <td>-0.124943</td>\n",
       "      <td>-0.063917</td>\n",
       "      <td>-0.063917</td>\n",
       "      <td>-0.063917</td>\n",
       "      <td>-0.079809</td>\n",
       "    </tr>\n",
       "    <tr>\n",
       "      <th>2</th>\n",
       "      <td>-2.095073</td>\n",
       "      <td>-0.309780</td>\n",
       "      <td>0.571229</td>\n",
       "      <td>-0.054864</td>\n",
       "      <td>0.781134</td>\n",
       "      <td>-0.365053</td>\n",
       "      <td>-0.416503</td>\n",
       "      <td>-0.171219</td>\n",
       "      <td>-0.056344</td>\n",
       "      <td>16.598193</td>\n",
       "      <td>...</td>\n",
       "      <td>-0.100228</td>\n",
       "      <td>0.456161</td>\n",
       "      <td>0.113228</td>\n",
       "      <td>0.228760</td>\n",
       "      <td>0.227664</td>\n",
       "      <td>-0.124943</td>\n",
       "      <td>-0.063917</td>\n",
       "      <td>-0.063917</td>\n",
       "      <td>-0.063917</td>\n",
       "      <td>-0.079809</td>\n",
       "    </tr>\n",
       "    <tr>\n",
       "      <th>3</th>\n",
       "      <td>-2.490920</td>\n",
       "      <td>-0.125625</td>\n",
       "      <td>-0.018766</td>\n",
       "      <td>-0.038885</td>\n",
       "      <td>0.323573</td>\n",
       "      <td>-0.181919</td>\n",
       "      <td>-0.416503</td>\n",
       "      <td>-0.171219</td>\n",
       "      <td>-0.056344</td>\n",
       "      <td>-0.060248</td>\n",
       "      <td>...</td>\n",
       "      <td>-0.100228</td>\n",
       "      <td>-2.192208</td>\n",
       "      <td>-8.831761</td>\n",
       "      <td>-4.371395</td>\n",
       "      <td>-4.392446</td>\n",
       "      <td>-0.124943</td>\n",
       "      <td>-0.063917</td>\n",
       "      <td>-0.063917</td>\n",
       "      <td>-0.063917</td>\n",
       "      <td>-0.079809</td>\n",
       "    </tr>\n",
       "    <tr>\n",
       "      <th>4</th>\n",
       "      <td>-1.190280</td>\n",
       "      <td>-0.258341</td>\n",
       "      <td>-0.018766</td>\n",
       "      <td>0.262989</td>\n",
       "      <td>1.295178</td>\n",
       "      <td>-0.244794</td>\n",
       "      <td>-0.416503</td>\n",
       "      <td>-0.171219</td>\n",
       "      <td>-0.056344</td>\n",
       "      <td>-0.060248</td>\n",
       "      <td>...</td>\n",
       "      <td>-0.100228</td>\n",
       "      <td>-2.192208</td>\n",
       "      <td>0.113228</td>\n",
       "      <td>0.228760</td>\n",
       "      <td>0.227664</td>\n",
       "      <td>-0.124943</td>\n",
       "      <td>-0.063917</td>\n",
       "      <td>-0.063917</td>\n",
       "      <td>-0.063917</td>\n",
       "      <td>-0.079809</td>\n",
       "    </tr>\n",
       "    <tr>\n",
       "      <th>...</th>\n",
       "      <td>...</td>\n",
       "      <td>...</td>\n",
       "      <td>...</td>\n",
       "      <td>...</td>\n",
       "      <td>...</td>\n",
       "      <td>...</td>\n",
       "      <td>...</td>\n",
       "      <td>...</td>\n",
       "      <td>...</td>\n",
       "      <td>...</td>\n",
       "      <td>...</td>\n",
       "      <td>...</td>\n",
       "      <td>...</td>\n",
       "      <td>...</td>\n",
       "      <td>...</td>\n",
       "      <td>...</td>\n",
       "      <td>...</td>\n",
       "      <td>...</td>\n",
       "      <td>...</td>\n",
       "      <td>...</td>\n",
       "      <td>...</td>\n",
       "    </tr>\n",
       "    <tr>\n",
       "      <th>2207</th>\n",
       "      <td>0.591070</td>\n",
       "      <td>-0.290781</td>\n",
       "      <td>-0.862382</td>\n",
       "      <td>-0.690571</td>\n",
       "      <td>-1.109338</td>\n",
       "      <td>-0.347896</td>\n",
       "      <td>-0.416503</td>\n",
       "      <td>-0.171219</td>\n",
       "      <td>-0.056344</td>\n",
       "      <td>-0.060248</td>\n",
       "      <td>...</td>\n",
       "      <td>-0.100228</td>\n",
       "      <td>0.456161</td>\n",
       "      <td>0.113228</td>\n",
       "      <td>0.228760</td>\n",
       "      <td>0.227664</td>\n",
       "      <td>-0.124943</td>\n",
       "      <td>-0.063917</td>\n",
       "      <td>-0.063917</td>\n",
       "      <td>-0.063917</td>\n",
       "      <td>-0.079809</td>\n",
       "    </tr>\n",
       "    <tr>\n",
       "      <th>2208</th>\n",
       "      <td>1.595387</td>\n",
       "      <td>-0.166355</td>\n",
       "      <td>-1.376372</td>\n",
       "      <td>-1.414307</td>\n",
       "      <td>-0.895254</td>\n",
       "      <td>-1.227950</td>\n",
       "      <td>2.400943</td>\n",
       "      <td>-0.171219</td>\n",
       "      <td>-0.056344</td>\n",
       "      <td>-0.060248</td>\n",
       "      <td>...</td>\n",
       "      <td>-0.100228</td>\n",
       "      <td>0.456161</td>\n",
       "      <td>0.113228</td>\n",
       "      <td>0.228760</td>\n",
       "      <td>0.227664</td>\n",
       "      <td>-0.124943</td>\n",
       "      <td>-0.063917</td>\n",
       "      <td>-0.063917</td>\n",
       "      <td>-0.063917</td>\n",
       "      <td>-0.079809</td>\n",
       "    </tr>\n",
       "    <tr>\n",
       "      <th>2209</th>\n",
       "      <td>1.183700</td>\n",
       "      <td>-0.289792</td>\n",
       "      <td>-1.184513</td>\n",
       "      <td>-0.094596</td>\n",
       "      <td>-0.646767</td>\n",
       "      <td>0.133161</td>\n",
       "      <td>-0.416503</td>\n",
       "      <td>-0.171219</td>\n",
       "      <td>-0.056344</td>\n",
       "      <td>-0.060248</td>\n",
       "      <td>...</td>\n",
       "      <td>-0.100228</td>\n",
       "      <td>0.456161</td>\n",
       "      <td>0.113228</td>\n",
       "      <td>0.228760</td>\n",
       "      <td>0.227664</td>\n",
       "      <td>-0.124943</td>\n",
       "      <td>-0.063917</td>\n",
       "      <td>-0.063917</td>\n",
       "      <td>-0.063917</td>\n",
       "      <td>-0.079809</td>\n",
       "    </tr>\n",
       "    <tr>\n",
       "      <th>2210</th>\n",
       "      <td>1.235898</td>\n",
       "      <td>-0.275041</td>\n",
       "      <td>-0.999684</td>\n",
       "      <td>0.116264</td>\n",
       "      <td>-0.491945</td>\n",
       "      <td>0.270599</td>\n",
       "      <td>-0.416503</td>\n",
       "      <td>-0.171219</td>\n",
       "      <td>-0.056344</td>\n",
       "      <td>-0.060248</td>\n",
       "      <td>...</td>\n",
       "      <td>-0.100228</td>\n",
       "      <td>0.456161</td>\n",
       "      <td>0.113228</td>\n",
       "      <td>0.228760</td>\n",
       "      <td>0.227664</td>\n",
       "      <td>-0.124943</td>\n",
       "      <td>-0.063917</td>\n",
       "      <td>-0.063917</td>\n",
       "      <td>-0.063917</td>\n",
       "      <td>-0.079809</td>\n",
       "    </tr>\n",
       "    <tr>\n",
       "      <th>2211</th>\n",
       "      <td>0.141037</td>\n",
       "      <td>-0.047795</td>\n",
       "      <td>-0.812181</td>\n",
       "      <td>-0.163210</td>\n",
       "      <td>-0.794721</td>\n",
       "      <td>0.113635</td>\n",
       "      <td>-0.416503</td>\n",
       "      <td>-0.171219</td>\n",
       "      <td>-0.056344</td>\n",
       "      <td>-0.060248</td>\n",
       "      <td>...</td>\n",
       "      <td>-0.100228</td>\n",
       "      <td>0.456161</td>\n",
       "      <td>0.113228</td>\n",
       "      <td>0.228760</td>\n",
       "      <td>0.227664</td>\n",
       "      <td>-0.124943</td>\n",
       "      <td>-0.063917</td>\n",
       "      <td>-0.063917</td>\n",
       "      <td>-0.063917</td>\n",
       "      <td>-0.079809</td>\n",
       "    </tr>\n",
       "  </tbody>\n",
       "</table>\n",
       "<p>2212 rows × 26 columns</p>\n",
       "</div>"
      ],
      "text/plain": [
       "           Age       TSH        T3       TT4       T4U       FTI     Sex_M  \\\n",
       "0     0.223460 -0.252840 -0.630130 -0.015132 -0.875231  0.322138  2.400943   \n",
       "1    -1.190280 -0.104299  1.692497  0.580843  4.093864 -0.639929 -0.416503   \n",
       "2    -2.095073 -0.309780  0.571229 -0.054864  0.781134 -0.365053 -0.416503   \n",
       "3    -2.490920 -0.125625 -0.018766 -0.038885  0.323573 -0.181919 -0.416503   \n",
       "4    -1.190280 -0.258341 -0.018766  0.262989  1.295178 -0.244794 -0.416503   \n",
       "...        ...       ...       ...       ...       ...       ...       ...   \n",
       "2207  0.591070 -0.290781 -0.862382 -0.690571 -1.109338 -0.347896 -0.416503   \n",
       "2208  1.595387 -0.166355 -1.376372 -1.414307 -0.895254 -1.227950  2.400943   \n",
       "2209  1.183700 -0.289792 -1.184513 -0.094596 -0.646767  0.133161 -0.416503   \n",
       "2210  1.235898 -0.275041 -0.999684  0.116264 -0.491945  0.270599 -0.416503   \n",
       "2211  0.141037 -0.047795 -0.812181 -0.163210 -0.794721  0.113635 -0.416503   \n",
       "\n",
       "      On Thyroxine_t  Query on Thyroxine_t  On Antithyroid Medication_t  ...  \\\n",
       "0          -0.171219             -0.056344                    -0.060248  ...   \n",
       "1          -0.171219             -0.056344                    -0.060248  ...   \n",
       "2          -0.171219             -0.056344                    16.598193  ...   \n",
       "3          -0.171219             -0.056344                    -0.060248  ...   \n",
       "4          -0.171219             -0.056344                    -0.060248  ...   \n",
       "...              ...                   ...                          ...  ...   \n",
       "2207       -0.171219             -0.056344                    -0.060248  ...   \n",
       "2208       -0.171219             -0.056344                    -0.060248  ...   \n",
       "2209       -0.171219             -0.056344                    -0.060248  ...   \n",
       "2210       -0.171219             -0.056344                    -0.060248  ...   \n",
       "2211       -0.171219             -0.056344                    -0.060248  ...   \n",
       "\n",
       "       Psych_t  T3 Measured_t  TT4 Measured_t  T4U Measured_t  FTI Measured_t  \\\n",
       "0    -0.100228       0.456161        0.113228        0.228760        0.227664   \n",
       "1    -0.100228       0.456161        0.113228        0.228760        0.227664   \n",
       "2    -0.100228       0.456161        0.113228        0.228760        0.227664   \n",
       "3    -0.100228      -2.192208       -8.831761       -4.371395       -4.392446   \n",
       "4    -0.100228      -2.192208        0.113228        0.228760        0.227664   \n",
       "...        ...            ...             ...             ...             ...   \n",
       "2207 -0.100228       0.456161        0.113228        0.228760        0.227664   \n",
       "2208 -0.100228       0.456161        0.113228        0.228760        0.227664   \n",
       "2209 -0.100228       0.456161        0.113228        0.228760        0.227664   \n",
       "2210 -0.100228       0.456161        0.113228        0.228760        0.227664   \n",
       "2211 -0.100228       0.456161        0.113228        0.228760        0.227664   \n",
       "\n",
       "        Sick_t  Pregnant_t  Thyroid Surgery_t  Goitre_t   Tumor_t  \n",
       "0    -0.124943   -0.063917          -0.063917 -0.063917 -0.079809  \n",
       "1    -0.124943   -0.063917          -0.063917 -0.063917 -0.079809  \n",
       "2    -0.124943   -0.063917          -0.063917 -0.063917 -0.079809  \n",
       "3    -0.124943   -0.063917          -0.063917 -0.063917 -0.079809  \n",
       "4    -0.124943   -0.063917          -0.063917 -0.063917 -0.079809  \n",
       "...        ...         ...                ...       ...       ...  \n",
       "2207 -0.124943   -0.063917          -0.063917 -0.063917 -0.079809  \n",
       "2208 -0.124943   -0.063917          -0.063917 -0.063917 -0.079809  \n",
       "2209 -0.124943   -0.063917          -0.063917 -0.063917 -0.079809  \n",
       "2210 -0.124943   -0.063917          -0.063917 -0.063917 -0.079809  \n",
       "2211 -0.124943   -0.063917          -0.063917 -0.063917 -0.079809  \n",
       "\n",
       "[2212 rows x 26 columns]"
      ]
     },
     "execution_count": 121,
     "metadata": {},
     "output_type": "execute_result"
    }
   ],
   "source": [
    "x_test = pd.DataFrame(x_test_scaled,columns=name)\n",
    "x_test"
   ]
  },
  {
   "cell_type": "markdown",
   "id": "5a9966a9",
   "metadata": {},
   "source": [
    "## Model Building"
   ]
  },
  {
   "cell_type": "code",
   "execution_count": 122,
   "id": "3067890b",
   "metadata": {},
   "outputs": [
    {
     "name": "stdout",
     "output_type": "stream",
     "text": [
      "['hyperthyroid' 'hypothyroid' 'negative' 'sick']\n"
     ]
    }
   ],
   "source": [
    "le1 = LabelEncoder()\n",
    "y_train = le1.fit_transform(y_train)\n",
    "print(le1.classes_)"
   ]
  },
  {
   "cell_type": "raw",
   "id": "48d33f2d",
   "metadata": {},
   "source": [
    "Thus,\n",
    "hyperthyroid is encoded as 0,\n",
    "hypothyroid is encoded as 1,\n",
    "negative is encoded as 2, and\n",
    "sick is encoded as 3."
   ]
  },
  {
   "cell_type": "code",
   "execution_count": 123,
   "id": "0d3d0c30",
   "metadata": {},
   "outputs": [
    {
     "name": "stdout",
     "output_type": "stream",
     "text": [
      "['hyperthyroid' 'hypothyroid' 'negative' 'sick']\n"
     ]
    }
   ],
   "source": [
    "le2 = LabelEncoder()\n",
    "y_test = le2.fit_transform(y_test)\n",
    "print(le2.classes_)"
   ]
  },
  {
   "cell_type": "raw",
   "id": "ac4e4f6b",
   "metadata": {},
   "source": [
    "Thus,\n",
    "hyperthyroid is encoded as 0,\n",
    "hypothyroid is encoded as 1,\n",
    "negative is encoded as 2, and\n",
    "sick is encoded as 3.\n",
    "[Same as train]"
   ]
  },
  {
   "cell_type": "markdown",
   "id": "68e116b2",
   "metadata": {},
   "source": [
    "### Random Forest Model"
   ]
  },
  {
   "cell_type": "code",
   "execution_count": 124,
   "id": "379940d7",
   "metadata": {},
   "outputs": [
    {
     "data": {
      "text/plain": [
       "array([2, 2, 2, ..., 3, 3, 1])"
      ]
     },
     "execution_count": 124,
     "metadata": {},
     "output_type": "execute_result"
    }
   ],
   "source": [
    "rfr = RandomForestClassifier().fit(x_train,y_train)\n",
    "y_pred = rfr.predict(x_test)\n",
    "y_pred"
   ]
  },
  {
   "cell_type": "code",
   "execution_count": 125,
   "id": "5f345ccc",
   "metadata": {},
   "outputs": [
    {
     "data": {
      "text/plain": [
       "0.7350813743218807"
      ]
     },
     "execution_count": 125,
     "metadata": {},
     "output_type": "execute_result"
    }
   ],
   "source": [
    "test_score = accuracy_score(y_test,y_pred)\n",
    "test_score"
   ]
  },
  {
   "cell_type": "code",
   "execution_count": 126,
   "id": "956a8bf1",
   "metadata": {},
   "outputs": [
    {
     "data": {
      "text/plain": [
       "0.9649840836743975"
      ]
     },
     "execution_count": 126,
     "metadata": {},
     "output_type": "execute_result"
    }
   ],
   "source": [
    "train_score = accuracy_score(y_train,rfr.predict(x_train))\n",
    "train_score"
   ]
  },
  {
   "cell_type": "markdown",
   "id": "8d8fc1b5",
   "metadata": {},
   "source": [
    "## Performing Feature Importance"
   ]
  },
  {
   "cell_type": "code",
   "execution_count": 127,
   "id": "bc201922",
   "metadata": {},
   "outputs": [
    {
     "name": "stdout",
     "output_type": "stream",
     "text": [
      "Feature: Age                  Score: -0.0001591632560254519\n",
      "Feature: TSH                  Score: -0.00011368804001816723\n",
      "Feature: T3                   Score: -4.547521600728466e-05\n",
      "Feature: TT4                  Score: 0.0\n",
      "Feature: T4U                  Score: 0.0\n",
      "Feature: FTI                  Score: 0.0\n",
      "Feature: Sex_M                Score: 0.0\n",
      "Feature: On Thyroxine_t       Score: 2.273760800364233e-05\n",
      "Feature: Query on Thyroxine_t Score: 4.547521600728466e-05\n",
      "Feature: On Antithyroid Medication_t Score: 0.0001591632560255185\n",
      "Feature: I131 Treatment_t     Score: 0.0002501136880400434\n",
      "Feature: Query Hypothyroid_t  Score: 0.00038653933606189737\n",
      "Feature: Query Hyperthyroid_t Score: 0.0006139154160982319\n",
      "Feature: Lithium_t            Score: 0.0006593906321055165\n",
      "Feature: TSH Measured_t       Score: 0.0007276034561164435\n",
      "Feature: Hypopituitary_t      Score: 0.0008412914961346329\n",
      "Feature: Psych_t              Score: 0.0031377899045020863\n",
      "Feature: T3 Measured_t        Score: 0.004820372896771263\n",
      "Feature: TT4 Measured_t       Score: 0.014824920418372\n",
      "Feature: T4U Measured_t       Score: 0.01600727603456118\n",
      "Feature: FTI Measured_t       Score: 0.017849022282855877\n",
      "Feature: Sick_t               Score: 0.020122783083219666\n",
      "Feature: Pregnant_t           Score: 0.20823101409731698\n",
      "Feature: Thyroid Surgery_t    Score: 0.21246020918599365\n",
      "Feature: Goitre_t             Score: 0.27667121418826746\n",
      "Feature: Tumor_t              Score: 0.3142792178262847\n"
     ]
    }
   ],
   "source": [
    "results = permutation_importance(rfr,x_train,y_train,scoring='accuracy')\n",
    "feature_importance = x_train.columns\n",
    "importance = results.importances_mean\n",
    "importance = np.sort(importance)\n",
    "for i,v in enumerate(importance):\n",
    "    i= feature_importance[i]\n",
    "    print('Feature: {:<20} Score: {}'.format(i,v))"
   ]
  },
  {
   "cell_type": "code",
   "execution_count": 128,
   "id": "93fde44c",
   "metadata": {},
   "outputs": [
    {
     "data": {
      "image/png": "[encoded data removed]",
      "text/plain": [
       "<Figure size 1000x1000 with 1 Axes>"
      ]
     },
     "metadata": {},
     "output_type": "display_data"
    }
   ],
   "source": [
    "plt.figure(figsize=(10,10))\n",
    "plt.bar(x=feature_importance,height=importance)\n",
    "plt.xticks(rotation=30,ha='right')\n",
    "plt.show()"
   ]
  },
  {
   "cell_type": "markdown",
   "id": "087021ba",
   "metadata": {},
   "source": [
    "## Selecting Output Columns"
   ]
  },
  {
   "cell_type": "code",
   "execution_count": 129,
   "id": "ad1d1db1",
   "metadata": {},
   "outputs": [
    {
     "data": {
      "text/html": [
       "<div>\n",
       "<style scoped>\n",
       "    .dataframe tbody tr th:only-of-type {\n",
       "        vertical-align: middle;\n",
       "    }\n",
       "\n",
       "    .dataframe tbody tr th {\n",
       "        vertical-align: top;\n",
       "    }\n",
       "\n",
       "    .dataframe thead th {\n",
       "        text-align: right;\n",
       "    }\n",
       "</style>\n",
       "<table border=\"1\" class=\"dataframe\">\n",
       "  <thead>\n",
       "    <tr style=\"text-align: right;\">\n",
       "      <th></th>\n",
       "      <th>Age</th>\n",
       "      <th>TSH</th>\n",
       "      <th>T3</th>\n",
       "      <th>TT4</th>\n",
       "      <th>T4U</th>\n",
       "      <th>FTI</th>\n",
       "      <th>Sex_M</th>\n",
       "      <th>On Thyroxine_t</th>\n",
       "      <th>Query on Thyroxine_t</th>\n",
       "      <th>On Antithyroid Medication_t</th>\n",
       "      <th>...</th>\n",
       "      <th>Psych_t</th>\n",
       "      <th>T3 Measured_t</th>\n",
       "      <th>TT4 Measured_t</th>\n",
       "      <th>T4U Measured_t</th>\n",
       "      <th>FTI Measured_t</th>\n",
       "      <th>Sick_t</th>\n",
       "      <th>Pregnant_t</th>\n",
       "      <th>Thyroid Surgery_t</th>\n",
       "      <th>Goitre_t</th>\n",
       "      <th>Tumor_t</th>\n",
       "    </tr>\n",
       "  </thead>\n",
       "  <tbody>\n",
       "    <tr>\n",
       "      <th>0</th>\n",
       "      <td>1.260382</td>\n",
       "      <td>-0.226128</td>\n",
       "      <td>-0.728286</td>\n",
       "      <td>-0.820968</td>\n",
       "      <td>-0.256307</td>\n",
       "      <td>-0.834244</td>\n",
       "      <td>-0.415504</td>\n",
       "      <td>-0.181326</td>\n",
       "      <td>-0.068433</td>\n",
       "      <td>-0.055489</td>\n",
       "      <td>...</td>\n",
       "      <td>-0.120552</td>\n",
       "      <td>0.46033</td>\n",
       "      <td>0.161653</td>\n",
       "      <td>0.27633</td>\n",
       "      <td>0.276092</td>\n",
       "      <td>-0.13305</td>\n",
       "      <td>-0.064994</td>\n",
       "      <td>-0.060426</td>\n",
       "      <td>-0.045283</td>\n",
       "      <td>-0.158666</td>\n",
       "    </tr>\n",
       "    <tr>\n",
       "      <th>1</th>\n",
       "      <td>1.046040</td>\n",
       "      <td>-0.131154</td>\n",
       "      <td>-0.487319</td>\n",
       "      <td>-0.487723</td>\n",
       "      <td>0.135098</td>\n",
       "      <td>-0.606270</td>\n",
       "      <td>-0.415504</td>\n",
       "      <td>-0.181326</td>\n",
       "      <td>-0.068433</td>\n",
       "      <td>-0.055489</td>\n",
       "      <td>...</td>\n",
       "      <td>-0.120552</td>\n",
       "      <td>0.46033</td>\n",
       "      <td>0.161653</td>\n",
       "      <td>0.27633</td>\n",
       "      <td>0.276092</td>\n",
       "      <td>-0.13305</td>\n",
       "      <td>-0.064994</td>\n",
       "      <td>-0.060426</td>\n",
       "      <td>-0.045283</td>\n",
       "      <td>-0.158666</td>\n",
       "    </tr>\n",
       "    <tr>\n",
       "      <th>2</th>\n",
       "      <td>-0.240009</td>\n",
       "      <td>0.581146</td>\n",
       "      <td>-1.451185</td>\n",
       "      <td>-1.469919</td>\n",
       "      <td>-1.486436</td>\n",
       "      <td>-1.342802</td>\n",
       "      <td>-0.415504</td>\n",
       "      <td>-0.181326</td>\n",
       "      <td>-0.068433</td>\n",
       "      <td>-0.055489</td>\n",
       "      <td>...</td>\n",
       "      <td>-0.120552</td>\n",
       "      <td>0.46033</td>\n",
       "      <td>0.161653</td>\n",
       "      <td>0.27633</td>\n",
       "      <td>0.276092</td>\n",
       "      <td>-0.13305</td>\n",
       "      <td>-0.064994</td>\n",
       "      <td>-0.060426</td>\n",
       "      <td>-0.045283</td>\n",
       "      <td>-0.158666</td>\n",
       "    </tr>\n",
       "    <tr>\n",
       "      <th>3</th>\n",
       "      <td>0.992455</td>\n",
       "      <td>-0.175475</td>\n",
       "      <td>-0.808608</td>\n",
       "      <td>-0.487723</td>\n",
       "      <td>-0.312222</td>\n",
       "      <td>-0.448442</td>\n",
       "      <td>-0.415504</td>\n",
       "      <td>-0.181326</td>\n",
       "      <td>-0.068433</td>\n",
       "      <td>-0.055489</td>\n",
       "      <td>...</td>\n",
       "      <td>-0.120552</td>\n",
       "      <td>0.46033</td>\n",
       "      <td>0.161653</td>\n",
       "      <td>0.27633</td>\n",
       "      <td>0.276092</td>\n",
       "      <td>-0.13305</td>\n",
       "      <td>-0.064994</td>\n",
       "      <td>-0.060426</td>\n",
       "      <td>-0.045283</td>\n",
       "      <td>-0.158666</td>\n",
       "    </tr>\n",
       "    <tr>\n",
       "      <th>4</th>\n",
       "      <td>-0.829449</td>\n",
       "      <td>-0.298941</td>\n",
       "      <td>0.155258</td>\n",
       "      <td>-0.189556</td>\n",
       "      <td>-1.206862</td>\n",
       "      <td>0.305627</td>\n",
       "      <td>-0.415504</td>\n",
       "      <td>-0.181326</td>\n",
       "      <td>-0.068433</td>\n",
       "      <td>-0.055489</td>\n",
       "      <td>...</td>\n",
       "      <td>-0.120552</td>\n",
       "      <td>0.46033</td>\n",
       "      <td>0.161653</td>\n",
       "      <td>0.27633</td>\n",
       "      <td>0.276092</td>\n",
       "      <td>-0.13305</td>\n",
       "      <td>-0.064994</td>\n",
       "      <td>-0.060426</td>\n",
       "      <td>-0.045283</td>\n",
       "      <td>-0.158666</td>\n",
       "    </tr>\n",
       "  </tbody>\n",
       "</table>\n",
       "<p>5 rows × 26 columns</p>\n",
       "</div>"
      ],
      "text/plain": [
       "        Age       TSH        T3       TT4       T4U       FTI     Sex_M  \\\n",
       "0  1.260382 -0.226128 -0.728286 -0.820968 -0.256307 -0.834244 -0.415504   \n",
       "1  1.046040 -0.131154 -0.487319 -0.487723  0.135098 -0.606270 -0.415504   \n",
       "2 -0.240009  0.581146 -1.451185 -1.469919 -1.486436 -1.342802 -0.415504   \n",
       "3  0.992455 -0.175475 -0.808608 -0.487723 -0.312222 -0.448442 -0.415504   \n",
       "4 -0.829449 -0.298941  0.155258 -0.189556 -1.206862  0.305627 -0.415504   \n",
       "\n",
       "   On Thyroxine_t  Query on Thyroxine_t  On Antithyroid Medication_t  ...  \\\n",
       "0       -0.181326             -0.068433                    -0.055489  ...   \n",
       "1       -0.181326             -0.068433                    -0.055489  ...   \n",
       "2       -0.181326             -0.068433                    -0.055489  ...   \n",
       "3       -0.181326             -0.068433                    -0.055489  ...   \n",
       "4       -0.181326             -0.068433                    -0.055489  ...   \n",
       "\n",
       "    Psych_t  T3 Measured_t  TT4 Measured_t  T4U Measured_t  FTI Measured_t  \\\n",
       "0 -0.120552        0.46033        0.161653         0.27633        0.276092   \n",
       "1 -0.120552        0.46033        0.161653         0.27633        0.276092   \n",
       "2 -0.120552        0.46033        0.161653         0.27633        0.276092   \n",
       "3 -0.120552        0.46033        0.161653         0.27633        0.276092   \n",
       "4 -0.120552        0.46033        0.161653         0.27633        0.276092   \n",
       "\n",
       "    Sick_t  Pregnant_t  Thyroid Surgery_t  Goitre_t   Tumor_t  \n",
       "0 -0.13305   -0.064994          -0.060426 -0.045283 -0.158666  \n",
       "1 -0.13305   -0.064994          -0.060426 -0.045283 -0.158666  \n",
       "2 -0.13305   -0.064994          -0.060426 -0.045283 -0.158666  \n",
       "3 -0.13305   -0.064994          -0.060426 -0.045283 -0.158666  \n",
       "4 -0.13305   -0.064994          -0.060426 -0.045283 -0.158666  \n",
       "\n",
       "[5 rows x 26 columns]"
      ]
     },
     "execution_count": 129,
     "metadata": {},
     "output_type": "execute_result"
    }
   ],
   "source": [
    "x_train.head()"
   ]
  },
  {
   "cell_type": "code",
   "execution_count": 130,
   "id": "ee057c05",
   "metadata": {},
   "outputs": [
    {
     "data": {
      "text/html": [
       "<div>\n",
       "<style scoped>\n",
       "    .dataframe tbody tr th:only-of-type {\n",
       "        vertical-align: middle;\n",
       "    }\n",
       "\n",
       "    .dataframe tbody tr th {\n",
       "        vertical-align: top;\n",
       "    }\n",
       "\n",
       "    .dataframe thead th {\n",
       "        text-align: right;\n",
       "    }\n",
       "</style>\n",
       "<table border=\"1\" class=\"dataframe\">\n",
       "  <thead>\n",
       "    <tr style=\"text-align: right;\">\n",
       "      <th></th>\n",
       "      <th>TSH</th>\n",
       "      <th>T3</th>\n",
       "      <th>TT4</th>\n",
       "      <th>T4U</th>\n",
       "      <th>FTI</th>\n",
       "      <th>Sex_M</th>\n",
       "      <th>Sick_t</th>\n",
       "      <th>Pregnant_t</th>\n",
       "      <th>Thyroid Surgery_t</th>\n",
       "      <th>Goitre_t</th>\n",
       "      <th>Tumor_t</th>\n",
       "    </tr>\n",
       "  </thead>\n",
       "  <tbody>\n",
       "    <tr>\n",
       "      <th>0</th>\n",
       "      <td>-0.226128</td>\n",
       "      <td>-0.728286</td>\n",
       "      <td>-0.820968</td>\n",
       "      <td>-0.256307</td>\n",
       "      <td>-0.834244</td>\n",
       "      <td>-0.415504</td>\n",
       "      <td>-0.13305</td>\n",
       "      <td>-0.064994</td>\n",
       "      <td>-0.060426</td>\n",
       "      <td>-0.045283</td>\n",
       "      <td>-0.158666</td>\n",
       "    </tr>\n",
       "    <tr>\n",
       "      <th>1</th>\n",
       "      <td>-0.131154</td>\n",
       "      <td>-0.487319</td>\n",
       "      <td>-0.487723</td>\n",
       "      <td>0.135098</td>\n",
       "      <td>-0.606270</td>\n",
       "      <td>-0.415504</td>\n",
       "      <td>-0.13305</td>\n",
       "      <td>-0.064994</td>\n",
       "      <td>-0.060426</td>\n",
       "      <td>-0.045283</td>\n",
       "      <td>-0.158666</td>\n",
       "    </tr>\n",
       "    <tr>\n",
       "      <th>2</th>\n",
       "      <td>0.581146</td>\n",
       "      <td>-1.451185</td>\n",
       "      <td>-1.469919</td>\n",
       "      <td>-1.486436</td>\n",
       "      <td>-1.342802</td>\n",
       "      <td>-0.415504</td>\n",
       "      <td>-0.13305</td>\n",
       "      <td>-0.064994</td>\n",
       "      <td>-0.060426</td>\n",
       "      <td>-0.045283</td>\n",
       "      <td>-0.158666</td>\n",
       "    </tr>\n",
       "    <tr>\n",
       "      <th>3</th>\n",
       "      <td>-0.175475</td>\n",
       "      <td>-0.808608</td>\n",
       "      <td>-0.487723</td>\n",
       "      <td>-0.312222</td>\n",
       "      <td>-0.448442</td>\n",
       "      <td>-0.415504</td>\n",
       "      <td>-0.13305</td>\n",
       "      <td>-0.064994</td>\n",
       "      <td>-0.060426</td>\n",
       "      <td>-0.045283</td>\n",
       "      <td>-0.158666</td>\n",
       "    </tr>\n",
       "    <tr>\n",
       "      <th>4</th>\n",
       "      <td>-0.298941</td>\n",
       "      <td>0.155258</td>\n",
       "      <td>-0.189556</td>\n",
       "      <td>-1.206862</td>\n",
       "      <td>0.305627</td>\n",
       "      <td>-0.415504</td>\n",
       "      <td>-0.13305</td>\n",
       "      <td>-0.064994</td>\n",
       "      <td>-0.060426</td>\n",
       "      <td>-0.045283</td>\n",
       "      <td>-0.158666</td>\n",
       "    </tr>\n",
       "    <tr>\n",
       "      <th>...</th>\n",
       "      <td>...</td>\n",
       "      <td>...</td>\n",
       "      <td>...</td>\n",
       "      <td>...</td>\n",
       "      <td>...</td>\n",
       "      <td>...</td>\n",
       "      <td>...</td>\n",
       "      <td>...</td>\n",
       "      <td>...</td>\n",
       "      <td>...</td>\n",
       "      <td>...</td>\n",
       "    </tr>\n",
       "    <tr>\n",
       "      <th>8791</th>\n",
       "      <td>-0.160260</td>\n",
       "      <td>-1.104038</td>\n",
       "      <td>0.208200</td>\n",
       "      <td>-0.647712</td>\n",
       "      <td>0.487087</td>\n",
       "      <td>-0.415504</td>\n",
       "      <td>-0.13305</td>\n",
       "      <td>-0.064994</td>\n",
       "      <td>-0.060426</td>\n",
       "      <td>-0.045283</td>\n",
       "      <td>-0.158666</td>\n",
       "    </tr>\n",
       "    <tr>\n",
       "      <th>8792</th>\n",
       "      <td>-0.050910</td>\n",
       "      <td>-0.992738</td>\n",
       "      <td>-1.370554</td>\n",
       "      <td>-1.219418</td>\n",
       "      <td>-1.269411</td>\n",
       "      <td>-0.415504</td>\n",
       "      <td>-0.13305</td>\n",
       "      <td>-0.064994</td>\n",
       "      <td>-0.060426</td>\n",
       "      <td>-0.045283</td>\n",
       "      <td>-0.158666</td>\n",
       "    </tr>\n",
       "    <tr>\n",
       "      <th>8793</th>\n",
       "      <td>-0.302615</td>\n",
       "      <td>-0.808608</td>\n",
       "      <td>-0.273381</td>\n",
       "      <td>-0.796948</td>\n",
       "      <td>-0.011964</td>\n",
       "      <td>-0.415504</td>\n",
       "      <td>-0.13305</td>\n",
       "      <td>-0.064994</td>\n",
       "      <td>-0.060426</td>\n",
       "      <td>-0.045283</td>\n",
       "      <td>-0.158666</td>\n",
       "    </tr>\n",
       "    <tr>\n",
       "      <th>8794</th>\n",
       "      <td>0.106279</td>\n",
       "      <td>-0.746762</td>\n",
       "      <td>-0.528180</td>\n",
       "      <td>-0.871372</td>\n",
       "      <td>-0.295992</td>\n",
       "      <td>2.406715</td>\n",
       "      <td>-0.13305</td>\n",
       "      <td>-0.064994</td>\n",
       "      <td>-0.060426</td>\n",
       "      <td>-0.045283</td>\n",
       "      <td>-0.158666</td>\n",
       "    </tr>\n",
       "    <tr>\n",
       "      <th>8795</th>\n",
       "      <td>-0.271543</td>\n",
       "      <td>-0.763321</td>\n",
       "      <td>-0.115574</td>\n",
       "      <td>0.589554</td>\n",
       "      <td>-0.359173</td>\n",
       "      <td>-0.415504</td>\n",
       "      <td>-0.13305</td>\n",
       "      <td>-0.064994</td>\n",
       "      <td>-0.060426</td>\n",
       "      <td>-0.045283</td>\n",
       "      <td>-0.158666</td>\n",
       "    </tr>\n",
       "  </tbody>\n",
       "</table>\n",
       "<p>8796 rows × 11 columns</p>\n",
       "</div>"
      ],
      "text/plain": [
       "           TSH        T3       TT4       T4U       FTI     Sex_M   Sick_t  \\\n",
       "0    -0.226128 -0.728286 -0.820968 -0.256307 -0.834244 -0.415504 -0.13305   \n",
       "1    -0.131154 -0.487319 -0.487723  0.135098 -0.606270 -0.415504 -0.13305   \n",
       "2     0.581146 -1.451185 -1.469919 -1.486436 -1.342802 -0.415504 -0.13305   \n",
       "3    -0.175475 -0.808608 -0.487723 -0.312222 -0.448442 -0.415504 -0.13305   \n",
       "4    -0.298941  0.155258 -0.189556 -1.206862  0.305627 -0.415504 -0.13305   \n",
       "...        ...       ...       ...       ...       ...       ...      ...   \n",
       "8791 -0.160260 -1.104038  0.208200 -0.647712  0.487087 -0.415504 -0.13305   \n",
       "8792 -0.050910 -0.992738 -1.370554 -1.219418 -1.269411 -0.415504 -0.13305   \n",
       "8793 -0.302615 -0.808608 -0.273381 -0.796948 -0.011964 -0.415504 -0.13305   \n",
       "8794  0.106279 -0.746762 -0.528180 -0.871372 -0.295992  2.406715 -0.13305   \n",
       "8795 -0.271543 -0.763321 -0.115574  0.589554 -0.359173 -0.415504 -0.13305   \n",
       "\n",
       "      Pregnant_t  Thyroid Surgery_t  Goitre_t   Tumor_t  \n",
       "0      -0.064994          -0.060426 -0.045283 -0.158666  \n",
       "1      -0.064994          -0.060426 -0.045283 -0.158666  \n",
       "2      -0.064994          -0.060426 -0.045283 -0.158666  \n",
       "3      -0.064994          -0.060426 -0.045283 -0.158666  \n",
       "4      -0.064994          -0.060426 -0.045283 -0.158666  \n",
       "...          ...                ...       ...       ...  \n",
       "8791   -0.064994          -0.060426 -0.045283 -0.158666  \n",
       "8792   -0.064994          -0.060426 -0.045283 -0.158666  \n",
       "8793   -0.064994          -0.060426 -0.045283 -0.158666  \n",
       "8794   -0.064994          -0.060426 -0.045283 -0.158666  \n",
       "8795   -0.064994          -0.060426 -0.045283 -0.158666  \n",
       "\n",
       "[8796 rows x 11 columns]"
      ]
     },
     "execution_count": 130,
     "metadata": {},
     "output_type": "execute_result"
    }
   ],
   "source": [
    "x_train = x_train.drop(['Age','On Thyroxine_t', 'Query on Thyroxine_t',\n",
    "       'On Antithyroid Medication_t','I131 Treatment_t','Query Hypothyroid_t', \n",
    "       'Query Hyperthyroid_t','Lithium_t','TSH Measured_t',\n",
    "       'Hypopituitary_t','Psych_t','T3 Measured_t',  \n",
    "       'TT4 Measured_t', 'T4U Measured_t','FTI Measured_t'],axis=1)\n",
    "x_train"
   ]
  },
  {
   "cell_type": "code",
   "execution_count": 131,
   "id": "2828d96a",
   "metadata": {},
   "outputs": [
    {
     "data": {
      "text/html": [
       "<div>\n",
       "<style scoped>\n",
       "    .dataframe tbody tr th:only-of-type {\n",
       "        vertical-align: middle;\n",
       "    }\n",
       "\n",
       "    .dataframe tbody tr th {\n",
       "        vertical-align: top;\n",
       "    }\n",
       "\n",
       "    .dataframe thead th {\n",
       "        text-align: right;\n",
       "    }\n",
       "</style>\n",
       "<table border=\"1\" class=\"dataframe\">\n",
       "  <thead>\n",
       "    <tr style=\"text-align: right;\">\n",
       "      <th></th>\n",
       "      <th>TSH</th>\n",
       "      <th>T3</th>\n",
       "      <th>TT4</th>\n",
       "      <th>T4U</th>\n",
       "      <th>FTI</th>\n",
       "      <th>Sex_M</th>\n",
       "      <th>Sick_t</th>\n",
       "      <th>Pregnant_t</th>\n",
       "      <th>Thyroid Surgery_t</th>\n",
       "      <th>Goitre_t</th>\n",
       "      <th>Tumor_t</th>\n",
       "    </tr>\n",
       "  </thead>\n",
       "  <tbody>\n",
       "    <tr>\n",
       "      <th>0</th>\n",
       "      <td>-0.252840</td>\n",
       "      <td>-0.630130</td>\n",
       "      <td>-0.015132</td>\n",
       "      <td>-0.875231</td>\n",
       "      <td>0.322138</td>\n",
       "      <td>2.400943</td>\n",
       "      <td>-0.124943</td>\n",
       "      <td>-0.063917</td>\n",
       "      <td>-0.063917</td>\n",
       "      <td>-0.063917</td>\n",
       "      <td>-0.079809</td>\n",
       "    </tr>\n",
       "    <tr>\n",
       "      <th>1</th>\n",
       "      <td>-0.104299</td>\n",
       "      <td>1.692497</td>\n",
       "      <td>0.580843</td>\n",
       "      <td>4.093864</td>\n",
       "      <td>-0.639929</td>\n",
       "      <td>-0.416503</td>\n",
       "      <td>-0.124943</td>\n",
       "      <td>-0.063917</td>\n",
       "      <td>-0.063917</td>\n",
       "      <td>-0.063917</td>\n",
       "      <td>-0.079809</td>\n",
       "    </tr>\n",
       "    <tr>\n",
       "      <th>2</th>\n",
       "      <td>-0.309780</td>\n",
       "      <td>0.571229</td>\n",
       "      <td>-0.054864</td>\n",
       "      <td>0.781134</td>\n",
       "      <td>-0.365053</td>\n",
       "      <td>-0.416503</td>\n",
       "      <td>-0.124943</td>\n",
       "      <td>-0.063917</td>\n",
       "      <td>-0.063917</td>\n",
       "      <td>-0.063917</td>\n",
       "      <td>-0.079809</td>\n",
       "    </tr>\n",
       "    <tr>\n",
       "      <th>3</th>\n",
       "      <td>-0.125625</td>\n",
       "      <td>-0.018766</td>\n",
       "      <td>-0.038885</td>\n",
       "      <td>0.323573</td>\n",
       "      <td>-0.181919</td>\n",
       "      <td>-0.416503</td>\n",
       "      <td>-0.124943</td>\n",
       "      <td>-0.063917</td>\n",
       "      <td>-0.063917</td>\n",
       "      <td>-0.063917</td>\n",
       "      <td>-0.079809</td>\n",
       "    </tr>\n",
       "    <tr>\n",
       "      <th>4</th>\n",
       "      <td>-0.258341</td>\n",
       "      <td>-0.018766</td>\n",
       "      <td>0.262989</td>\n",
       "      <td>1.295178</td>\n",
       "      <td>-0.244794</td>\n",
       "      <td>-0.416503</td>\n",
       "      <td>-0.124943</td>\n",
       "      <td>-0.063917</td>\n",
       "      <td>-0.063917</td>\n",
       "      <td>-0.063917</td>\n",
       "      <td>-0.079809</td>\n",
       "    </tr>\n",
       "    <tr>\n",
       "      <th>...</th>\n",
       "      <td>...</td>\n",
       "      <td>...</td>\n",
       "      <td>...</td>\n",
       "      <td>...</td>\n",
       "      <td>...</td>\n",
       "      <td>...</td>\n",
       "      <td>...</td>\n",
       "      <td>...</td>\n",
       "      <td>...</td>\n",
       "      <td>...</td>\n",
       "      <td>...</td>\n",
       "    </tr>\n",
       "    <tr>\n",
       "      <th>2207</th>\n",
       "      <td>-0.290781</td>\n",
       "      <td>-0.862382</td>\n",
       "      <td>-0.690571</td>\n",
       "      <td>-1.109338</td>\n",
       "      <td>-0.347896</td>\n",
       "      <td>-0.416503</td>\n",
       "      <td>-0.124943</td>\n",
       "      <td>-0.063917</td>\n",
       "      <td>-0.063917</td>\n",
       "      <td>-0.063917</td>\n",
       "      <td>-0.079809</td>\n",
       "    </tr>\n",
       "    <tr>\n",
       "      <th>2208</th>\n",
       "      <td>-0.166355</td>\n",
       "      <td>-1.376372</td>\n",
       "      <td>-1.414307</td>\n",
       "      <td>-0.895254</td>\n",
       "      <td>-1.227950</td>\n",
       "      <td>2.400943</td>\n",
       "      <td>-0.124943</td>\n",
       "      <td>-0.063917</td>\n",
       "      <td>-0.063917</td>\n",
       "      <td>-0.063917</td>\n",
       "      <td>-0.079809</td>\n",
       "    </tr>\n",
       "    <tr>\n",
       "      <th>2209</th>\n",
       "      <td>-0.289792</td>\n",
       "      <td>-1.184513</td>\n",
       "      <td>-0.094596</td>\n",
       "      <td>-0.646767</td>\n",
       "      <td>0.133161</td>\n",
       "      <td>-0.416503</td>\n",
       "      <td>-0.124943</td>\n",
       "      <td>-0.063917</td>\n",
       "      <td>-0.063917</td>\n",
       "      <td>-0.063917</td>\n",
       "      <td>-0.079809</td>\n",
       "    </tr>\n",
       "    <tr>\n",
       "      <th>2210</th>\n",
       "      <td>-0.275041</td>\n",
       "      <td>-0.999684</td>\n",
       "      <td>0.116264</td>\n",
       "      <td>-0.491945</td>\n",
       "      <td>0.270599</td>\n",
       "      <td>-0.416503</td>\n",
       "      <td>-0.124943</td>\n",
       "      <td>-0.063917</td>\n",
       "      <td>-0.063917</td>\n",
       "      <td>-0.063917</td>\n",
       "      <td>-0.079809</td>\n",
       "    </tr>\n",
       "    <tr>\n",
       "      <th>2211</th>\n",
       "      <td>-0.047795</td>\n",
       "      <td>-0.812181</td>\n",
       "      <td>-0.163210</td>\n",
       "      <td>-0.794721</td>\n",
       "      <td>0.113635</td>\n",
       "      <td>-0.416503</td>\n",
       "      <td>-0.124943</td>\n",
       "      <td>-0.063917</td>\n",
       "      <td>-0.063917</td>\n",
       "      <td>-0.063917</td>\n",
       "      <td>-0.079809</td>\n",
       "    </tr>\n",
       "  </tbody>\n",
       "</table>\n",
       "<p>2212 rows × 11 columns</p>\n",
       "</div>"
      ],
      "text/plain": [
       "           TSH        T3       TT4       T4U       FTI     Sex_M    Sick_t  \\\n",
       "0    -0.252840 -0.630130 -0.015132 -0.875231  0.322138  2.400943 -0.124943   \n",
       "1    -0.104299  1.692497  0.580843  4.093864 -0.639929 -0.416503 -0.124943   \n",
       "2    -0.309780  0.571229 -0.054864  0.781134 -0.365053 -0.416503 -0.124943   \n",
       "3    -0.125625 -0.018766 -0.038885  0.323573 -0.181919 -0.416503 -0.124943   \n",
       "4    -0.258341 -0.018766  0.262989  1.295178 -0.244794 -0.416503 -0.124943   \n",
       "...        ...       ...       ...       ...       ...       ...       ...   \n",
       "2207 -0.290781 -0.862382 -0.690571 -1.109338 -0.347896 -0.416503 -0.124943   \n",
       "2208 -0.166355 -1.376372 -1.414307 -0.895254 -1.227950  2.400943 -0.124943   \n",
       "2209 -0.289792 -1.184513 -0.094596 -0.646767  0.133161 -0.416503 -0.124943   \n",
       "2210 -0.275041 -0.999684  0.116264 -0.491945  0.270599 -0.416503 -0.124943   \n",
       "2211 -0.047795 -0.812181 -0.163210 -0.794721  0.113635 -0.416503 -0.124943   \n",
       "\n",
       "      Pregnant_t  Thyroid Surgery_t  Goitre_t   Tumor_t  \n",
       "0      -0.063917          -0.063917 -0.063917 -0.079809  \n",
       "1      -0.063917          -0.063917 -0.063917 -0.079809  \n",
       "2      -0.063917          -0.063917 -0.063917 -0.079809  \n",
       "3      -0.063917          -0.063917 -0.063917 -0.079809  \n",
       "4      -0.063917          -0.063917 -0.063917 -0.079809  \n",
       "...          ...                ...       ...       ...  \n",
       "2207   -0.063917          -0.063917 -0.063917 -0.079809  \n",
       "2208   -0.063917          -0.063917 -0.063917 -0.079809  \n",
       "2209   -0.063917          -0.063917 -0.063917 -0.079809  \n",
       "2210   -0.063917          -0.063917 -0.063917 -0.079809  \n",
       "2211   -0.063917          -0.063917 -0.063917 -0.079809  \n",
       "\n",
       "[2212 rows x 11 columns]"
      ]
     },
     "execution_count": 131,
     "metadata": {},
     "output_type": "execute_result"
    }
   ],
   "source": [
    "x_test = x_test.drop(['Age','On Thyroxine_t', 'Query on Thyroxine_t',\n",
    "       'On Antithyroid Medication_t','I131 Treatment_t','Query Hypothyroid_t', \n",
    "       'Query Hyperthyroid_t','Lithium_t','TSH Measured_t',\n",
    "       'Hypopituitary_t','Psych_t','T3 Measured_t',  \n",
    "       'TT4 Measured_t', 'T4U Measured_t','FTI Measured_t'],axis=1)\n",
    "x_test"
   ]
  },
  {
   "cell_type": "markdown",
   "id": "66c539ba",
   "metadata": {},
   "source": [
    "## Model Building On Selected Columns"
   ]
  },
  {
   "cell_type": "markdown",
   "id": "54196f01",
   "metadata": {},
   "source": [
    "### i. Random Forest Classifier Model"
   ]
  },
  {
   "cell_type": "code",
   "execution_count": 132,
   "id": "9a7a307e",
   "metadata": {},
   "outputs": [
    {
     "data": {
      "text/plain": [
       "RandomForestClassifier()"
      ]
     },
     "execution_count": 132,
     "metadata": {},
     "output_type": "execute_result"
    }
   ],
   "source": [
    "rfr1 = RandomForestClassifier().fit(x_train,y_train)\n",
    "rfr1"
   ]
  },
  {
   "cell_type": "code",
   "execution_count": 133,
   "id": "08e68e28",
   "metadata": {},
   "outputs": [
    {
     "data": {
      "text/plain": [
       "array([2, 2, 2, ..., 3, 3, 3])"
      ]
     },
     "execution_count": 133,
     "metadata": {},
     "output_type": "execute_result"
    }
   ],
   "source": [
    "y_pred = rfr1.predict(x_test)\n",
    "y_pred"
   ]
  },
  {
   "cell_type": "code",
   "execution_count": 134,
   "id": "78d137de",
   "metadata": {},
   "outputs": [
    {
     "ename": "NameError",
     "evalue": "name 'classification_report' is not defined",
     "output_type": "error",
     "traceback": [
      "\u001b[1;31m---------------------------------------------------------------------------\u001b[0m",
      "\u001b[1;31mNameError\u001b[0m                                 Traceback (most recent call last)",
      "\u001b[1;32m~\\AppData\\Local\\Temp\\ipykernel_8004\\3436217795.py\u001b[0m in \u001b[0;36m<module>\u001b[1;34m\u001b[0m\n\u001b[1;32m----> 1\u001b[1;33m \u001b[0mprint\u001b[0m\u001b[1;33m(\u001b[0m\u001b[0mclassification_report\u001b[0m\u001b[1;33m(\u001b[0m\u001b[0my_test\u001b[0m\u001b[1;33m,\u001b[0m\u001b[0my_pred\u001b[0m\u001b[1;33m)\u001b[0m\u001b[1;33m)\u001b[0m\u001b[1;33m\u001b[0m\u001b[1;33m\u001b[0m\u001b[0m\n\u001b[0m",
      "\u001b[1;31mNameError\u001b[0m: name 'classification_report' is not defined"
     ]
    }
   ],
   "source": [
    "print(classification_report(y_test,y_pred))"
   ]
  },
  {
   "cell_type": "code",
   "execution_count": null,
   "id": "85b716f2",
   "metadata": {},
   "outputs": [],
   "source": [
    "acc1 = accuracy_score(y_test,y_pred)\n",
    "acc1"
   ]
  },
  {
   "cell_type": "markdown",
   "id": "a8e8dbeb",
   "metadata": {},
   "source": [
    "### ii. XGB Classifier Model"
   ]
  },
  {
   "cell_type": "code",
   "execution_count": null,
   "id": "e5ce4277",
   "metadata": {},
   "outputs": [],
   "source": [
    "xgb1 = XGBClassifier()\n",
    "xgb1.fit(x_train,y_train)"
   ]
  },
  {
   "cell_type": "code",
   "execution_count": null,
   "id": "2a15a7ba",
   "metadata": {},
   "outputs": [],
   "source": [
    "y_pred = xgb1.predict(x_test)\n",
    "y_pred"
   ]
  },
  {
   "cell_type": "code",
   "execution_count": null,
   "id": "0be357ab",
   "metadata": {},
   "outputs": [],
   "source": [
    "print(classification_report(y_test,y_pred))"
   ]
  },
  {
   "cell_type": "code",
   "execution_count": 135,
   "id": "bb624d11",
   "metadata": {},
   "outputs": [
    {
     "ename": "NameError",
     "evalue": "name 'y_test_xgb' is not defined",
     "output_type": "error",
     "traceback": [
      "\u001b[1;31m---------------------------------------------------------------------------\u001b[0m",
      "\u001b[1;31mNameError\u001b[0m                                 Traceback (most recent call last)",
      "\u001b[1;32m~\\AppData\\Local\\Temp\\ipykernel_8004\\993322772.py\u001b[0m in \u001b[0;36m<module>\u001b[1;34m\u001b[0m\n\u001b[1;32m----> 1\u001b[1;33m \u001b[0macc2\u001b[0m \u001b[1;33m=\u001b[0m \u001b[0maccuracy_score\u001b[0m\u001b[1;33m(\u001b[0m\u001b[0my_test_xgb\u001b[0m\u001b[1;33m,\u001b[0m\u001b[0my_pred\u001b[0m\u001b[1;33m)\u001b[0m\u001b[1;33m\u001b[0m\u001b[1;33m\u001b[0m\u001b[0m\n\u001b[0m\u001b[0;32m      2\u001b[0m \u001b[0macc2\u001b[0m\u001b[1;33m\u001b[0m\u001b[1;33m\u001b[0m\u001b[0m\n",
      "\u001b[1;31mNameError\u001b[0m: name 'y_test_xgb' is not defined"
     ]
    }
   ],
   "source": [
    "acc2 = accuracy_score(y_test,y_pred)\n",
    "acc2"
   ]
  },
  {
   "cell_type": "markdown",
   "id": "4d6958b0",
   "metadata": {},
   "source": [
    "### iii. SVC Model"
   ]
  },
  {
   "cell_type": "code",
   "execution_count": 136,
   "id": "78aa4de9",
   "metadata": {},
   "outputs": [
    {
     "data": {
      "text/plain": [
       "SVC()"
      ]
     },
     "execution_count": 136,
     "metadata": {},
     "output_type": "execute_result"
    }
   ],
   "source": [
    "sv = SVC()\n",
    "sv.fit(x_train,y_train)"
   ]
  },
  {
   "cell_type": "code",
   "execution_count": 137,
   "id": "4adf1f4d",
   "metadata": {},
   "outputs": [
    {
     "data": {
      "text/plain": [
       "array([2, 2, 2, ..., 3, 3, 3])"
      ]
     },
     "execution_count": 137,
     "metadata": {},
     "output_type": "execute_result"
    }
   ],
   "source": [
    "y_pred = sv.predict(x_test)\n",
    "y_pred"
   ]
  },
  {
   "cell_type": "code",
   "execution_count": 138,
   "id": "0f613c09",
   "metadata": {},
   "outputs": [
    {
     "ename": "NameError",
     "evalue": "name 'classification_report' is not defined",
     "output_type": "error",
     "traceback": [
      "\u001b[1;31m---------------------------------------------------------------------------\u001b[0m",
      "\u001b[1;31mNameError\u001b[0m                                 Traceback (most recent call last)",
      "\u001b[1;32m~\\AppData\\Local\\Temp\\ipykernel_8004\\3436217795.py\u001b[0m in \u001b[0;36m<module>\u001b[1;34m\u001b[0m\n\u001b[1;32m----> 1\u001b[1;33m \u001b[0mprint\u001b[0m\u001b[1;33m(\u001b[0m\u001b[0mclassification_report\u001b[0m\u001b[1;33m(\u001b[0m\u001b[0my_test\u001b[0m\u001b[1;33m,\u001b[0m\u001b[0my_pred\u001b[0m\u001b[1;33m)\u001b[0m\u001b[1;33m)\u001b[0m\u001b[1;33m\u001b[0m\u001b[1;33m\u001b[0m\u001b[0m\n\u001b[0m",
      "\u001b[1;31mNameError\u001b[0m: name 'classification_report' is not defined"
     ]
    }
   ],
   "source": [
    "print(classification_report(y_test,y_pred))"
   ]
  },
  {
   "cell_type": "code",
   "execution_count": null,
   "id": "e897b029",
   "metadata": {},
   "outputs": [],
   "source": [
    "acc3 = accuracy_score(y_test,y_pred)\n",
    "acc3"
   ]
  },
  {
   "cell_type": "markdown",
   "id": "b31945fd",
   "metadata": {},
   "source": [
    "### iv. Decision Tree Classifier Model"
   ]
  },
  {
   "cell_type": "code",
   "execution_count": null,
   "id": "af49c2ec",
   "metadata": {},
   "outputs": [],
   "source": [
    "model=DecisionTreeClassifier(criterion='entropy',random_state=0)\n",
    "model.fit(x_train,y_train)\n",
    "pred=model.predict(x_test)\n",
    "acc4=accuracy_score(y_test,pred)\n",
    "acc4"
   ]
  },
  {
   "cell_type": "markdown",
   "id": "fbf6735b",
   "metadata": {},
   "source": [
    "### v. K Nearest Neighbors Classifier Model"
   ]
  },
  {
   "cell_type": "code",
   "execution_count": 862,
   "id": "2f772906",
   "metadata": {},
   "outputs": [
    {
     "name": "stderr",
     "output_type": "stream",
     "text": [
      "C:\\ProgramData\\Anaconda3\\lib\\site-packages\\sklearn\\neighbors\\_classification.py:228: FutureWarning: Unlike other reduction functions (e.g. `skew`, `kurtosis`), the default behavior of `mode` typically preserves the axis it acts along. In SciPy 1.11.0, this behavior will change: the default value of `keepdims` will become False, the `axis` over which the statistic is taken will be eliminated, and the value None will no longer be accepted. Set `keepdims` to True or False to avoid this warning.\n",
      "  mode, _ = stats.mode(_y[neigh_ind, k], axis=1)\n"
     ]
    },
    {
     "data": {
      "text/plain": [
       "0.7486437613019892"
      ]
     },
     "execution_count": 862,
     "metadata": {},
     "output_type": "execute_result"
    }
   ],
   "source": [
    "model=KNeighborsClassifier()\n",
    "model.fit(x_train,y_train)\n",
    "pred=model.predict(x_test)\n",
    "acc5=accuracy_score(y_test,pred)\n",
    "acc5"
   ]
  },
  {
   "cell_type": "markdown",
   "id": "00520cb2",
   "metadata": {},
   "source": [
    "### vi. Naive Bayes Model"
   ]
  },
  {
   "cell_type": "code",
   "execution_count": 863,
   "id": "4a468064",
   "metadata": {},
   "outputs": [
    {
     "data": {
      "text/plain": [
       "0.25"
      ]
     },
     "execution_count": 863,
     "metadata": {},
     "output_type": "execute_result"
    }
   ],
   "source": [
    "model=GaussianNB()\n",
    "model.fit(x_train,y_train)\n",
    "pred=model.predict(x_test)\n",
    "acc6=accuracy_score(y_test,pred)\n",
    "acc6"
   ]
  },
  {
   "cell_type": "markdown",
   "id": "27053372",
   "metadata": {},
   "source": [
    "## Selecting the Best Model with Highest Accuracy"
   ]
  },
  {
   "cell_type": "code",
   "execution_count": 864,
   "id": "1905366c",
   "metadata": {},
   "outputs": [
    {
     "data": {
      "image/png": "[encoded data removed]",
      "text/plain": [
       "<Figure size 1500x500 with 1 Axes>"
      ]
     },
     "metadata": {},
     "output_type": "display_data"
    }
   ],
   "source": [
    "models = [\"Random Forest Classifier\",\"XGB Classifier\",\"SVC Model\",\"Decision Tree\",\"KNN\",\"Naive Bayes\"]\n",
    "accuracy_values = [acc1, acc2, acc3, acc4, acc5, acc6]\n",
    "plt.figure(figsize = (15, 5))\n",
    "plt.bar(models,accuracy_values)\n",
    "plt.title('ACCURACY OF DIFFERENT CLASSIFICATION MODELS')\n",
    "plt.xlabel('Classification Models')\n",
    "plt.ylabel('Accuracy')\n",
    "plt.show()"
   ]
  },
  {
   "cell_type": "raw",
   "id": "7ab916a0",
   "metadata": {},
   "source": [
    "From the above Bar Chart: SVC Model is the best Model having highest accuracy of 78%"
   ]
  },
  {
   "cell_type": "markdown",
   "id": "313825ee",
   "metadata": {},
   "source": [
    "## Hyperparameter Tuning - Evaluating Performance of the Selected Model using GridSearchCV"
   ]
  },
  {
   "cell_type": "markdown",
   "id": "2791a990",
   "metadata": {},
   "source": [
    "### GridSearchCV"
   ]
  },
  {
   "cell_type": "code",
   "execution_count": 865,
   "id": "f1b0ed14",
   "metadata": {},
   "outputs": [],
   "source": [
    "params = {\n",
    "    'kernel':['linear','rbf'],\n",
    "    'C':[0.1,0.5,1],\n",
    "    'gamma':[0.01,0.0001]\n",
    "}"
   ]
  },
  {
   "cell_type": "code",
   "execution_count": 866,
   "id": "2c4cd726",
   "metadata": {},
   "outputs": [],
   "source": [
    "clf = GridSearchCV(sv,params,verbose=2)"
   ]
  },
  {
   "cell_type": "code",
   "execution_count": 867,
   "id": "be1d20c7",
   "metadata": {},
   "outputs": [
    {
     "name": "stdout",
     "output_type": "stream",
     "text": [
      "Fitting 5 folds for each of 12 candidates, totalling 60 fits\n",
      "[CV] END ...................C=0.1, gamma=0.01, kernel=linear; total time=   2.2s\n",
      "[CV] END ...................C=0.1, gamma=0.01, kernel=linear; total time=   2.3s\n",
      "[CV] END ...................C=0.1, gamma=0.01, kernel=linear; total time=   2.4s\n",
      "[CV] END ...................C=0.1, gamma=0.01, kernel=linear; total time=   2.4s\n",
      "[CV] END ...................C=0.1, gamma=0.01, kernel=linear; total time=   2.2s\n",
      "[CV] END ......................C=0.1, gamma=0.01, kernel=rbf; total time=   7.6s\n",
      "[CV] END ......................C=0.1, gamma=0.01, kernel=rbf; total time=   7.7s\n",
      "[CV] END ......................C=0.1, gamma=0.01, kernel=rbf; total time=   7.5s\n",
      "[CV] END ......................C=0.1, gamma=0.01, kernel=rbf; total time=   8.4s\n",
      "[CV] END ......................C=0.1, gamma=0.01, kernel=rbf; total time=   8.4s\n",
      "[CV] END .................C=0.1, gamma=0.0001, kernel=linear; total time=   2.1s\n",
      "[CV] END .................C=0.1, gamma=0.0001, kernel=linear; total time=   2.3s\n",
      "[CV] END .................C=0.1, gamma=0.0001, kernel=linear; total time=   2.3s\n",
      "[CV] END .................C=0.1, gamma=0.0001, kernel=linear; total time=   2.3s\n",
      "[CV] END .................C=0.1, gamma=0.0001, kernel=linear; total time=   2.2s\n",
      "[CV] END ....................C=0.1, gamma=0.0001, kernel=rbf; total time=  14.3s\n",
      "[CV] END ....................C=0.1, gamma=0.0001, kernel=rbf; total time=  14.1s\n",
      "[CV] END ....................C=0.1, gamma=0.0001, kernel=rbf; total time=  13.7s\n",
      "[CV] END ....................C=0.1, gamma=0.0001, kernel=rbf; total time=  15.0s\n",
      "[CV] END ....................C=0.1, gamma=0.0001, kernel=rbf; total time=  14.0s\n",
      "[CV] END ...................C=0.5, gamma=0.01, kernel=linear; total time=   2.3s\n",
      "[CV] END ...................C=0.5, gamma=0.01, kernel=linear; total time=   2.4s\n",
      "[CV] END ...................C=0.5, gamma=0.01, kernel=linear; total time=   2.5s\n",
      "[CV] END ...................C=0.5, gamma=0.01, kernel=linear; total time=   2.4s\n",
      "[CV] END ...................C=0.5, gamma=0.01, kernel=linear; total time=   2.4s\n",
      "[CV] END ......................C=0.5, gamma=0.01, kernel=rbf; total time=   6.4s\n",
      "[CV] END ......................C=0.5, gamma=0.01, kernel=rbf; total time=   5.9s\n",
      "[CV] END ......................C=0.5, gamma=0.01, kernel=rbf; total time=   6.1s\n",
      "[CV] END ......................C=0.5, gamma=0.01, kernel=rbf; total time=   5.9s\n",
      "[CV] END ......................C=0.5, gamma=0.01, kernel=rbf; total time=   6.0s\n",
      "[CV] END .................C=0.5, gamma=0.0001, kernel=linear; total time=   2.4s\n",
      "[CV] END .................C=0.5, gamma=0.0001, kernel=linear; total time=   2.8s\n",
      "[CV] END .................C=0.5, gamma=0.0001, kernel=linear; total time=   2.6s\n",
      "[CV] END .................C=0.5, gamma=0.0001, kernel=linear; total time=   2.5s\n",
      "[CV] END .................C=0.5, gamma=0.0001, kernel=linear; total time=   2.5s\n",
      "[CV] END ....................C=0.5, gamma=0.0001, kernel=rbf; total time=  13.9s\n",
      "[CV] END ....................C=0.5, gamma=0.0001, kernel=rbf; total time=  13.9s\n",
      "[CV] END ....................C=0.5, gamma=0.0001, kernel=rbf; total time=  13.7s\n",
      "[CV] END ....................C=0.5, gamma=0.0001, kernel=rbf; total time=  14.2s\n",
      "[CV] END ....................C=0.5, gamma=0.0001, kernel=rbf; total time=  13.9s\n",
      "[CV] END .....................C=1, gamma=0.01, kernel=linear; total time=   2.5s\n",
      "[CV] END .....................C=1, gamma=0.01, kernel=linear; total time=   2.8s\n",
      "[CV] END .....................C=1, gamma=0.01, kernel=linear; total time=   2.9s\n",
      "[CV] END .....................C=1, gamma=0.01, kernel=linear; total time=   2.6s\n",
      "[CV] END .....................C=1, gamma=0.01, kernel=linear; total time=   2.5s\n",
      "[CV] END ........................C=1, gamma=0.01, kernel=rbf; total time=   5.1s\n",
      "[CV] END ........................C=1, gamma=0.01, kernel=rbf; total time=   5.3s\n",
      "[CV] END ........................C=1, gamma=0.01, kernel=rbf; total time=   5.4s\n",
      "[CV] END ........................C=1, gamma=0.01, kernel=rbf; total time=   5.2s\n",
      "[CV] END ........................C=1, gamma=0.01, kernel=rbf; total time=   6.3s\n",
      "[CV] END ...................C=1, gamma=0.0001, kernel=linear; total time=   2.5s\n",
      "[CV] END ...................C=1, gamma=0.0001, kernel=linear; total time=   2.8s\n",
      "[CV] END ...................C=1, gamma=0.0001, kernel=linear; total time=   3.0s\n",
      "[CV] END ...................C=1, gamma=0.0001, kernel=linear; total time=   3.3s\n",
      "[CV] END ...................C=1, gamma=0.0001, kernel=linear; total time=   3.7s\n",
      "[CV] END ......................C=1, gamma=0.0001, kernel=rbf; total time=  22.3s\n",
      "[CV] END ......................C=1, gamma=0.0001, kernel=rbf; total time=  19.6s\n",
      "[CV] END ......................C=1, gamma=0.0001, kernel=rbf; total time=  17.6s\n",
      "[CV] END ......................C=1, gamma=0.0001, kernel=rbf; total time=  15.7s\n",
      "[CV] END ......................C=1, gamma=0.0001, kernel=rbf; total time=  13.2s\n"
     ]
    },
    {
     "data": {
      "text/plain": [
       "GridSearchCV(estimator=SVC(),\n",
       "             param_grid={'C': [0.1, 0.5, 1], 'gamma': [0.01, 0.0001],\n",
       "                         'kernel': ['linear', 'rbf']},\n",
       "             verbose=2)"
      ]
     },
     "execution_count": 867,
     "metadata": {},
     "output_type": "execute_result"
    }
   ],
   "source": [
    "clf.fit(x_train,y_train)"
   ]
  },
  {
   "cell_type": "code",
   "execution_count": 868,
   "id": "f99fb104",
   "metadata": {},
   "outputs": [
    {
     "data": {
      "text/plain": [
       "0.8559588350819165"
      ]
     },
     "execution_count": 868,
     "metadata": {},
     "output_type": "execute_result"
    }
   ],
   "source": [
    "clf.best_score_"
   ]
  },
  {
   "cell_type": "code",
   "execution_count": 869,
   "id": "4dc4bf80",
   "metadata": {},
   "outputs": [
    {
     "data": {
      "text/plain": [
       "{'C': 0.5, 'gamma': 0.01, 'kernel': 'linear'}"
      ]
     },
     "execution_count": 869,
     "metadata": {},
     "output_type": "execute_result"
    }
   ],
   "source": [
    "clf.best_params_"
   ]
  },
  {
   "cell_type": "raw",
   "id": "268f95e3",
   "metadata": {},
   "source": [
    "Thus, best parameters are found."
   ]
  },
  {
   "cell_type": "code",
   "execution_count": 870,
   "id": "04452835",
   "metadata": {},
   "outputs": [],
   "source": [
    "new_sv = SVC(kernel='linear',gamma=0.01,C=0.5)"
   ]
  },
  {
   "cell_type": "code",
   "execution_count": 871,
   "id": "a7ea55b6",
   "metadata": {},
   "outputs": [
    {
     "data": {
      "text/plain": [
       "SVC(C=0.5, gamma=0.01, kernel='linear')"
      ]
     },
     "execution_count": 871,
     "metadata": {},
     "output_type": "execute_result"
    }
   ],
   "source": [
    "new_sv.fit(x_train,y_train)"
   ]
  },
  {
   "cell_type": "code",
   "execution_count": 872,
   "id": "5b4dcb53",
   "metadata": {},
   "outputs": [
    {
     "data": {
      "text/plain": [
       "array([3, 0, 2, ..., 3, 3, 3])"
      ]
     },
     "execution_count": 872,
     "metadata": {},
     "output_type": "execute_result"
    }
   ],
   "source": [
    "y_pred = new_sv.predict(x_test)\n",
    "y_pred"
   ]
  },
  {
   "cell_type": "code",
   "execution_count": 873,
   "id": "7a7767f6",
   "metadata": {
    "scrolled": true
   },
   "outputs": [
    {
     "name": "stdout",
     "output_type": "stream",
     "text": [
      "              precision    recall  f1-score   support\n",
      "\n",
      "           0       0.83      0.92      0.88       553\n",
      "           1       0.85      0.81      0.83       553\n",
      "           2       0.89      0.73      0.80       553\n",
      "           3       0.71      0.79      0.74       553\n",
      "\n",
      "    accuracy                           0.81      2212\n",
      "   macro avg       0.82      0.81      0.81      2212\n",
      "weighted avg       0.82      0.81      0.81      2212\n",
      "\n"
     ]
    }
   ],
   "source": [
    "print(classification_report(y_test,y_pred))"
   ]
  },
  {
   "cell_type": "code",
   "execution_count": 874,
   "id": "bc172929",
   "metadata": {},
   "outputs": [
    {
     "data": {
      "text/plain": [
       "0.8841518872214643"
      ]
     },
     "execution_count": 874,
     "metadata": {},
     "output_type": "execute_result"
    }
   ],
   "source": [
    "train_score = accuracy_score(y_train,sv.predict(x_train))\n",
    "train_score"
   ]
  },
  {
   "cell_type": "code",
   "execution_count": 875,
   "id": "8db4c916",
   "metadata": {},
   "outputs": [
    {
     "data": {
      "text/plain": [
       "0.8141952983725136"
      ]
     },
     "execution_count": 875,
     "metadata": {},
     "output_type": "execute_result"
    }
   ],
   "source": [
    "test_score = accuracy_score(y_test,y_pred)\n",
    "test_score"
   ]
  },
  {
   "cell_type": "markdown",
   "id": "5f505ac1",
   "metadata": {},
   "source": [
    "### Cross Validation"
   ]
  },
  {
   "cell_type": "code",
   "execution_count": 876,
   "id": "d6c2cd61",
   "metadata": {},
   "outputs": [
    {
     "name": "stdout",
     "output_type": "stream",
     "text": [
      "0.8544796514634398\n"
     ]
    }
   ],
   "source": [
    "accuracies = cross_val_score(new_sv,x_train,y_train,cv=10)\n",
    "print(accuracies.mean())"
   ]
  },
  {
   "cell_type": "markdown",
   "id": "c70d9e36",
   "metadata": {},
   "source": [
    "## Saving the Model"
   ]
  },
  {
   "cell_type": "code",
   "execution_count": 877,
   "id": "ffb6f460",
   "metadata": {},
   "outputs": [],
   "source": [
    "filename = 'thyroid_model.pkl'\n",
    "pickle.dump(new_sv,open(filename,'wb'))"
   ]
  }
 ],
 "metadata": {
  "kernelspec": {
   "display_name": "Python 3 (ipykernel)",
   "language": "python",
   "name": "python3"
  },
  "language_info": {
   "codemirror_mode": {
    "name": "ipython",
    "version": 3
   },
   "file_extension": ".py",
   "mimetype": "text/x-python",
   "name": "python",
   "nbconvert_exporter": "python",
   "pygments_lexer": "ipython3",
   "version": "3.9.13"
  }
 },
 "nbformat": 4,
 "nbformat_minor": 5
}
